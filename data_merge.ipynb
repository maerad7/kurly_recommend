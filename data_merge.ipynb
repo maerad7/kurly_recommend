{
 "cells": [
  {
   "cell_type": "code",
   "execution_count": 6,
   "id": "905c1b84-3959-4822-95e7-78d675ef3f70",
   "metadata": {},
   "outputs": [],
   "source": [
    "import os\n",
    "import pandas as pd\n",
    "from tqdm import tqdm\n",
    "import warnings\n",
    "warnings.filterwarnings(action='ignore')"
   ]
  },
  {
   "cell_type": "markdown",
   "id": "1f9af51d-6233-44c4-a9e6-35a14cdc65d8",
   "metadata": {},
   "source": [
    "# 크롤링한 JSON DATA를 DataFrame으로 만들기"
   ]
  },
  {
   "cell_type": "markdown",
   "id": "c586e739-5186-4c98-b0b8-74b253b633e1",
   "metadata": {},
   "source": [
    "1. json to dataframe"
   ]
  },
  {
   "cell_type": "code",
   "execution_count": 7,
   "id": "094152b8-5558-481c-be58-f26c452791e3",
   "metadata": {},
   "outputs": [],
   "source": [
    "def create_df(df):\n",
    "    new_df = pd.DataFrame({\n",
    "        \"item_id\":[],\n",
    "        \"brand_name\":[],\n",
    "        \"category_id\":[],\n",
    "        \"item_name\":[],\n",
    "        \"price\":[],\n",
    "        \"avg_rating\":[],\n",
    "        \"user_id\":[],\n",
    "        \"user_rating\":[],\n",
    "        \"age_group\":[],\n",
    "        \"gender\":[],\n",
    "        \"skin_type\":[],\n",
    "        \"skin_info\":[],\n",
    "        \"review\":[]\n",
    "    })\n",
    "    for i in tqdm(range(0,len(df))):\n",
    "        for j in range(0,len(df.data[i]['review'])):\n",
    "            try:\n",
    "                skin_type = df.data[i]['review'][j]['user_attr']['skin_type']\n",
    "            except:\n",
    "                skin_type = None\n",
    "            \n",
    "            try:\n",
    "                skin_info = df.data[i]['review'][j]['user_attr']['skin_info']\n",
    "            except:\n",
    "                skin_info = None\n",
    "            \n",
    "            try:\n",
    "                review = df.data[i]['review'][j][\"review\"]\n",
    "            except:\n",
    "                review = None\n",
    "            \n",
    "            try:\n",
    "                age_group = df.data[i]['review'][j]['user_attr']['age_group']\n",
    "            except:\n",
    "                age_group = None\n",
    "                \n",
    "            try:\n",
    "                gender = df.data[i]['review'][j]['user_attr']['gender']\n",
    "            except:\n",
    "                gender = None\n",
    "            new_df = new_df.append({\n",
    "                \"item_id\" : df.data[i]['item_id'],\n",
    "                \"brand_name\" : df.data[i]['brand_name'],\n",
    "                \"category_id\" : df.data[i]['category_id'],\n",
    "                \"item_name\" : df.data[i][\"item_name\"],\n",
    "                \"price\" : int(df.data[i]['price'].replace(\",\",\"\")),\n",
    "                \"avg_rating\" : float(df.data[i]['avg_rating']),\n",
    "                \"user_id\" : df.data[i]['review'][j]['user_id'],\n",
    "                \"user_rating\" : df.data[i]['review'][j]['user_rating'],\n",
    "                \"age_group\" : age_group,\n",
    "                \"gender\" : gender,\n",
    "                \"skin_type\" : skin_type,\n",
    "                \"skin_info\" : skin_info,\n",
    "                \"review\" : review\n",
    "                }, ignore_index=True\n",
    "            )\n",
    "    return new_df"
   ]
  },
  {
   "cell_type": "markdown",
   "id": "d77c3636-80b2-49cf-a7b7-08df246f8bd8",
   "metadata": {},
   "source": [
    "2. 모든 json파일 불러와서 json to csv"
   ]
  },
  {
   "cell_type": "code",
   "execution_count": 8,
   "id": "ba493739-6d92-43ed-bbc2-23f4038d2fab",
   "metadata": {},
   "outputs": [],
   "source": [
    "datas_list = os.listdir(\"./amore_reviews/\")"
   ]
  },
  {
   "cell_type": "code",
   "execution_count": 9,
   "id": "4b507e2d-a272-45af-9c7d-a5fc554849a4",
   "metadata": {},
   "outputs": [],
   "source": [
    "dir_path=\"./amore_reviews/\""
   ]
  },
  {
   "cell_type": "markdown",
   "id": "65cce50f-6105-4cb2-818f-d36ec6d40350",
   "metadata": {},
   "source": [
    "# JSON 파일 로딩하여 DF 로 저장후 CSV 파일로 만들기"
   ]
  },
  {
   "cell_type": "code",
   "execution_count": 10,
   "id": "190b77b5-0fde-4c82-96f5-4318e219d12e",
   "metadata": {},
   "outputs": [
    {
     "name": "stderr",
     "output_type": "stream",
     "text": [
      "100%|██████████| 4/4 [00:09<00:00,  2.34s/it]\n",
      "100%|██████████| 3/3 [00:12<00:00,  4.02s/it]\n",
      "100%|██████████| 2/2 [00:08<00:00,  4.20s/it]\n",
      "100%|██████████| 4/4 [00:10<00:00,  2.51s/it]\n",
      "100%|██████████| 5/5 [00:10<00:00,  2.19s/it]\n",
      "100%|██████████| 7/7 [00:08<00:00,  1.29s/it]\n",
      "100%|██████████| 5/5 [00:13<00:00,  2.64s/it]\n",
      "100%|██████████| 5/5 [00:11<00:00,  2.23s/it]\n",
      "100%|██████████| 5/5 [00:13<00:00,  2.61s/it]\n",
      "100%|██████████| 6/6 [00:10<00:00,  1.76s/it]\n",
      "100%|██████████| 7/7 [00:09<00:00,  1.34s/it]\n",
      "100%|██████████| 4/4 [00:12<00:00,  3.25s/it]\n",
      "100%|██████████| 5/5 [00:11<00:00,  2.26s/it]\n",
      "100%|██████████| 4/4 [00:11<00:00,  3.00s/it]\n",
      "100%|██████████| 4/4 [00:11<00:00,  2.75s/it]\n",
      "100%|██████████| 5/5 [00:11<00:00,  2.35s/it]\n",
      "100%|██████████| 6/6 [00:12<00:00,  2.09s/it]\n",
      "100%|██████████| 7/7 [00:11<00:00,  1.58s/it]\n",
      "100%|██████████| 6/6 [00:10<00:00,  1.76s/it]\n",
      "100%|██████████| 4/4 [00:08<00:00,  2.22s/it]\n",
      "100%|██████████| 2/2 [00:07<00:00,  3.86s/it]\n",
      "100%|██████████| 4/4 [00:10<00:00,  2.66s/it]\n",
      "100%|██████████| 7/7 [00:14<00:00,  2.11s/it]\n",
      "100%|██████████| 4/4 [00:11<00:00,  2.86s/it]\n",
      "100%|██████████| 4/4 [00:11<00:00,  2.77s/it]\n",
      "100%|██████████| 12/12 [00:11<00:00,  1.05it/s]\n",
      "100%|██████████| 11/11 [00:13<00:00,  1.21s/it]\n",
      "100%|██████████| 24/24 [00:12<00:00,  1.94it/s]\n",
      "100%|██████████| 1/1 [00:00<00:00,  3.65it/s]\n",
      "100%|██████████| 2/2 [00:09<00:00,  4.67s/it]\n",
      "100%|██████████| 4/4 [00:12<00:00,  3.13s/it]\n",
      "100%|██████████| 3/3 [00:10<00:00,  3.42s/it]\n",
      "100%|██████████| 4/4 [00:09<00:00,  2.39s/it]\n",
      "100%|██████████| 3/3 [00:09<00:00,  3.01s/it]\n",
      "100%|██████████| 3/3 [00:13<00:00,  4.52s/it]\n",
      "100%|██████████| 8/8 [00:10<00:00,  1.28s/it]\n",
      "100%|██████████| 3/3 [00:12<00:00,  4.02s/it]\n",
      "100%|██████████| 28/28 [00:05<00:00,  4.71it/s]\n",
      "100%|██████████| 4/4 [00:12<00:00,  3.09s/it]\n",
      "100%|██████████| 4/4 [00:09<00:00,  2.33s/it]\n",
      "100%|██████████| 4/4 [00:10<00:00,  2.52s/it]\n",
      "100%|██████████| 5/5 [00:13<00:00,  2.79s/it]\n",
      "100%|██████████| 5/5 [00:09<00:00,  1.91s/it]\n",
      "100%|██████████| 3/3 [00:12<00:00,  4.11s/it]\n",
      "100%|██████████| 10/10 [00:13<00:00,  1.33s/it]\n",
      "100%|██████████| 7/7 [00:09<00:00,  1.36s/it]\n",
      "100%|██████████| 4/4 [00:10<00:00,  2.65s/it]\n",
      "100%|██████████| 8/8 [00:07<00:00,  1.10it/s]\n",
      "100%|██████████| 4/4 [00:13<00:00,  3.40s/it]\n",
      "100%|██████████| 4/4 [00:09<00:00,  2.29s/it]\n",
      "100%|██████████| 5/5 [00:09<00:00,  1.81s/it]\n",
      "100%|██████████| 7/7 [00:10<00:00,  1.48s/it]\n",
      "100%|██████████| 5/5 [00:10<00:00,  2.05s/it]\n",
      "100%|██████████| 3/3 [00:10<00:00,  3.39s/it]\n",
      "100%|██████████| 4/4 [00:07<00:00,  1.93s/it]\n",
      "100%|██████████| 6/6 [00:09<00:00,  1.54s/it]\n",
      "100%|██████████| 6/6 [00:11<00:00,  1.87s/it]\n",
      "100%|██████████| 12/12 [00:13<00:00,  1.11s/it]\n",
      "100%|██████████| 39/39 [00:10<00:00,  3.73it/s]\n",
      "100%|██████████| 33/33 [00:06<00:00,  5.26it/s]\n",
      "100%|██████████| 7/7 [00:12<00:00,  1.82s/it]\n",
      "100%|██████████| 29/29 [00:09<00:00,  2.97it/s]\n",
      "100%|██████████| 4/4 [00:08<00:00,  2.13s/it]\n",
      "100%|██████████| 5/5 [00:12<00:00,  2.58s/it]\n",
      "100%|██████████| 3/3 [00:12<00:00,  4.07s/it]\n",
      "100%|██████████| 3/3 [00:13<00:00,  4.57s/it]\n",
      "100%|██████████| 8/8 [00:15<00:00,  1.96s/it]\n",
      "100%|██████████| 8/8 [00:11<00:00,  1.45s/it]\n",
      "100%|██████████| 5/5 [00:14<00:00,  2.87s/it]\n",
      "100%|██████████| 18/18 [00:13<00:00,  1.37it/s]\n",
      "100%|██████████| 3/3 [00:13<00:00,  4.40s/it]\n",
      "100%|██████████| 13/13 [00:07<00:00,  1.76it/s]\n",
      "100%|██████████| 4/4 [00:15<00:00,  3.85s/it]\n",
      "100%|██████████| 4/4 [00:12<00:00,  3.03s/it]\n",
      "100%|██████████| 7/7 [00:13<00:00,  1.96s/it]\n",
      "100%|██████████| 8/8 [00:14<00:00,  1.76s/it]\n",
      "100%|██████████| 12/12 [00:12<00:00,  1.06s/it]\n",
      "100%|██████████| 8/8 [00:12<00:00,  1.57s/it]\n",
      "100%|██████████| 9/9 [00:13<00:00,  1.52s/it]\n",
      "100%|██████████| 8/8 [00:13<00:00,  1.65s/it]\n",
      "100%|██████████| 3/3 [00:10<00:00,  3.62s/it]\n",
      "100%|██████████| 3/3 [00:12<00:00,  4.32s/it]\n",
      "100%|██████████| 8/8 [00:03<00:00,  2.29it/s]\n"
     ]
    },
    {
     "name": "stdout",
     "output_type": "stream",
     "text": [
      "save\n"
     ]
    }
   ],
   "source": [
    "result_df = pd.DataFrame({\n",
    "    \"item_id\":[],\n",
    "    \"brand_name\":[],\n",
    "    \"category_id\":[],\n",
    "    \"item_name\":[],\n",
    "    \"price\":[],\n",
    "    \"avg_rating\":[],\n",
    "    \"user_id\":[],\n",
    "    \"user_rating\":[],\n",
    "    \"age_group\":[],\n",
    "    \"gender\":[],\n",
    "    \"skin_type\":[],\n",
    "    \"skin_info\":[],\n",
    "    \"review\":[]\n",
    "})\n",
    "for i,file_name in enumerate(datas_list):\n",
    "    try:\n",
    "        df = pd.read_json(os.path.join(dir_path,file_name))\n",
    "        new_df = create_df(df)\n",
    "        result_df = result_df.append(new_df, ignore_index=True)\n",
    "    except:\n",
    "        print(f\"{file_name}에서 에러 발생\")\n",
    "    if i == len(datas_list)-1:\n",
    "        result_df.to_csv(\"./all_df.csv\",index=False,encoding=\"utf-8-sig\")\n",
    "        print(\"save\")"
   ]
  },
  {
   "cell_type": "markdown",
   "id": "5cdb296c-7997-44b9-b325-9e8e55ff6c7f",
   "metadata": {},
   "source": [
    "# 데이터 분석"
   ]
  },
  {
   "cell_type": "code",
   "execution_count": 9,
   "id": "f1621d41-4e2f-469d-bc11-7da86e2018c6",
   "metadata": {},
   "outputs": [],
   "source": [
    "all_df = pd.read_csv(\"./all_df.csv\")"
   ]
  },
  {
   "cell_type": "code",
   "execution_count": 10,
   "id": "8f0798c2-92a1-4bf1-9b5d-4da66a329e83",
   "metadata": {},
   "outputs": [
    {
     "data": {
      "text/html": [
       "<div>\n",
       "<style scoped>\n",
       "    .dataframe tbody tr th:only-of-type {\n",
       "        vertical-align: middle;\n",
       "    }\n",
       "\n",
       "    .dataframe tbody tr th {\n",
       "        vertical-align: top;\n",
       "    }\n",
       "\n",
       "    .dataframe thead th {\n",
       "        text-align: right;\n",
       "    }\n",
       "</style>\n",
       "<table border=\"1\" class=\"dataframe\">\n",
       "  <thead>\n",
       "    <tr style=\"text-align: right;\">\n",
       "      <th></th>\n",
       "      <th>item_id</th>\n",
       "      <th>brand_name</th>\n",
       "      <th>category_id</th>\n",
       "      <th>item_name</th>\n",
       "      <th>price</th>\n",
       "      <th>avg_rating</th>\n",
       "      <th>user_id</th>\n",
       "      <th>user_rating</th>\n",
       "      <th>age_group</th>\n",
       "      <th>gender</th>\n",
       "      <th>skin_type</th>\n",
       "      <th>skin_info</th>\n",
       "      <th>review</th>\n",
       "    </tr>\n",
       "  </thead>\n",
       "  <tbody>\n",
       "    <tr>\n",
       "      <th>0</th>\n",
       "      <td>111650000195</td>\n",
       "      <td>한율</td>\n",
       "      <td>CTG002</td>\n",
       "      <td>자연을 닮은 립밤</td>\n",
       "      <td>4500.0</td>\n",
       "      <td>4.6</td>\n",
       "      <td>suma*******</td>\n",
       "      <td>5.0</td>\n",
       "      <td>5.0</td>\n",
       "      <td>여성</td>\n",
       "      <td>건성</td>\n",
       "      <td>민감성</td>\n",
       "      <td>한율 자연을 닮은 립밤 흰감국을 구입했어요. 용량은 3.5g으로 종류가 다양한데요,...</td>\n",
       "    </tr>\n",
       "    <tr>\n",
       "      <th>1</th>\n",
       "      <td>111650000195</td>\n",
       "      <td>한율</td>\n",
       "      <td>CTG002</td>\n",
       "      <td>자연을 닮은 립밤</td>\n",
       "      <td>4500.0</td>\n",
       "      <td>4.6</td>\n",
       "      <td>dltl********</td>\n",
       "      <td>4.0</td>\n",
       "      <td>3.0</td>\n",
       "      <td>여성</td>\n",
       "      <td>NaN</td>\n",
       "      <td>NaN</td>\n",
       "      <td>평소에 입술이 건조한 편이라서\\n촉촉한 립제품만 사용하는 사람이에요.\\n\\n립은 거...</td>\n",
       "    </tr>\n",
       "    <tr>\n",
       "      <th>2</th>\n",
       "      <td>111650000195</td>\n",
       "      <td>한율</td>\n",
       "      <td>CTG002</td>\n",
       "      <td>자연을 닮은 립밤</td>\n",
       "      <td>4500.0</td>\n",
       "      <td>4.6</td>\n",
       "      <td>ssae****</td>\n",
       "      <td>5.0</td>\n",
       "      <td>5.0</td>\n",
       "      <td>여성</td>\n",
       "      <td>지성</td>\n",
       "      <td>모공</td>\n",
       "      <td>자초 컬러- 쌩얼에 자연스럽게 바르기 좋은 데일리 립밤이에요. 쿨톤인데도 자연스러워...</td>\n",
       "    </tr>\n",
       "    <tr>\n",
       "      <th>3</th>\n",
       "      <td>111650000195</td>\n",
       "      <td>한율</td>\n",
       "      <td>CTG002</td>\n",
       "      <td>자연을 닮은 립밤</td>\n",
       "      <td>4500.0</td>\n",
       "      <td>4.6</td>\n",
       "      <td>bmj3***</td>\n",
       "      <td>5.0</td>\n",
       "      <td>2.0</td>\n",
       "      <td>여성</td>\n",
       "      <td>NaN</td>\n",
       "      <td>NaN</td>\n",
       "      <td>집생템이구요(사진이해바람 해명글있음ㅋㅋㅋㅋ)진짜 맨날 까지고 트고 붓는 입술 각질제...</td>\n",
       "    </tr>\n",
       "    <tr>\n",
       "      <th>4</th>\n",
       "      <td>111650000195</td>\n",
       "      <td>한율</td>\n",
       "      <td>CTG002</td>\n",
       "      <td>자연을 닮은 립밤</td>\n",
       "      <td>4500.0</td>\n",
       "      <td>4.6</td>\n",
       "      <td>dltl********</td>\n",
       "      <td>4.0</td>\n",
       "      <td>3.0</td>\n",
       "      <td>여성</td>\n",
       "      <td>NaN</td>\n",
       "      <td>NaN</td>\n",
       "      <td>평소에 입술이 건조한 편이라서\\n촉촉한 립제품만 사용하는 사람이에요.\\n\\n립은 거...</td>\n",
       "    </tr>\n",
       "  </tbody>\n",
       "</table>\n",
       "</div>"
      ],
      "text/plain": [
       "        item_id brand_name category_id  item_name   price  avg_rating  \\\n",
       "0  111650000195         한율      CTG002  자연을 닮은 립밤  4500.0         4.6   \n",
       "1  111650000195         한율      CTG002  자연을 닮은 립밤  4500.0         4.6   \n",
       "2  111650000195         한율      CTG002  자연을 닮은 립밤  4500.0         4.6   \n",
       "3  111650000195         한율      CTG002  자연을 닮은 립밤  4500.0         4.6   \n",
       "4  111650000195         한율      CTG002  자연을 닮은 립밤  4500.0         4.6   \n",
       "\n",
       "        user_id  user_rating  age_group gender skin_type skin_info  \\\n",
       "0   suma*******          5.0        5.0     여성        건성       민감성   \n",
       "1  dltl********          4.0        3.0     여성       NaN       NaN   \n",
       "2      ssae****          5.0        5.0     여성        지성        모공   \n",
       "3       bmj3***          5.0        2.0     여성       NaN       NaN   \n",
       "4  dltl********          4.0        3.0     여성       NaN       NaN   \n",
       "\n",
       "                                              review  \n",
       "0  한율 자연을 닮은 립밤 흰감국을 구입했어요. 용량은 3.5g으로 종류가 다양한데요,...  \n",
       "1  평소에 입술이 건조한 편이라서\\n촉촉한 립제품만 사용하는 사람이에요.\\n\\n립은 거...  \n",
       "2  자초 컬러- 쌩얼에 자연스럽게 바르기 좋은 데일리 립밤이에요. 쿨톤인데도 자연스러워...  \n",
       "3  집생템이구요(사진이해바람 해명글있음ㅋㅋㅋㅋ)진짜 맨날 까지고 트고 붓는 입술 각질제...  \n",
       "4  평소에 입술이 건조한 편이라서\\n촉촉한 립제품만 사용하는 사람이에요.\\n\\n립은 거...  "
      ]
     },
     "execution_count": 10,
     "metadata": {},
     "output_type": "execute_result"
    }
   ],
   "source": [
    "all_df()"
   ]
  },
  {
   "cell_type": "code",
   "execution_count": 11,
   "id": "d3eb5793-158f-4df8-a850-a9386ec54376",
   "metadata": {},
   "outputs": [
    {
     "data": {
      "text/plain": [
       "37137"
      ]
     },
     "execution_count": 11,
     "metadata": {},
     "output_type": "execute_result"
    }
   ],
   "source": [
    "all_df.user_id.nunique()"
   ]
  },
  {
   "cell_type": "code",
   "execution_count": 14,
   "id": "6627a721-c434-49f5-b3ca-f5d25adcd3db",
   "metadata": {},
   "outputs": [
    {
     "data": {
      "text/plain": [
       "572"
      ]
     },
     "execution_count": 14,
     "metadata": {},
     "output_type": "execute_result"
    }
   ],
   "source": [
    "all_df.item_id.nunique()"
   ]
  },
  {
   "cell_type": "code",
   "execution_count": 15,
   "id": "673ed13b-7207-468a-835a-eedc3f16a28b",
   "metadata": {},
   "outputs": [
    {
     "data": {
      "text/plain": [
       "211935"
      ]
     },
     "execution_count": 15,
     "metadata": {},
     "output_type": "execute_result"
    }
   ],
   "source": [
    "len(all_df)"
   ]
  },
  {
   "cell_type": "code",
   "execution_count": 22,
   "id": "89437bee-cd02-421d-8c3b-7c1cd10e4d55",
   "metadata": {},
   "outputs": [
    {
     "data": {
      "text/plain": [
       "item_id             0\n",
       "brand_name          0\n",
       "category_id         0\n",
       "item_name           0\n",
       "price               0\n",
       "avg_rating          0\n",
       "user_id             0\n",
       "user_rating         0\n",
       "age_group       11506\n",
       "gender          11506\n",
       "skin_type      106350\n",
       "skin_info      111867\n",
       "review            500\n",
       "dtype: int64"
      ]
     },
     "execution_count": 22,
     "metadata": {},
     "output_type": "execute_result"
    }
   ],
   "source": [
    "all_df.isnull().sum()"
   ]
  },
  {
   "cell_type": "code",
   "execution_count": 24,
   "id": "f8d7a90e-8043-4532-907e-1f9314562685",
   "metadata": {},
   "outputs": [],
   "source": [
    "null_dell_df =  all_df.dropna()"
   ]
  },
  {
   "cell_type": "code",
   "execution_count": 27,
   "id": "8f6e05f9-77f3-42d5-9d87-85b9b6a664b9",
   "metadata": {},
   "outputs": [
    {
     "name": "stdout",
     "output_type": "stream",
     "text": [
      "<class 'pandas.core.frame.DataFrame'>\n",
      "Int64Index: 99829 entries, 0 to 211933\n",
      "Data columns (total 13 columns):\n",
      " #   Column       Non-Null Count  Dtype  \n",
      "---  ------       --------------  -----  \n",
      " 0   item_id      99829 non-null  int64  \n",
      " 1   brand_name   99829 non-null  object \n",
      " 2   category_id  99829 non-null  object \n",
      " 3   item_name    99829 non-null  object \n",
      " 4   price        99829 non-null  float64\n",
      " 5   avg_rating   99829 non-null  float64\n",
      " 6   user_id      99829 non-null  object \n",
      " 7   user_rating  99829 non-null  float64\n",
      " 8   age_group    99829 non-null  float64\n",
      " 9   gender       99829 non-null  object \n",
      " 10  skin_type    99829 non-null  object \n",
      " 11  skin_info    99829 non-null  object \n",
      " 12  review       99829 non-null  object \n",
      "dtypes: float64(4), int64(1), object(8)\n",
      "memory usage: 10.7+ MB\n"
     ]
    }
   ],
   "source": [
    "null_dell_df.info()"
   ]
  },
  {
   "cell_type": "code",
   "execution_count": 28,
   "id": "0340adc6-84d2-45a8-aedd-54ff8338c0e0",
   "metadata": {},
   "outputs": [
    {
     "data": {
      "text/plain": [
       "item_id          397\n",
       "brand_name        36\n",
       "category_id        7\n",
       "item_name        397\n",
       "price            231\n",
       "avg_rating         9\n",
       "user_id        18499\n",
       "user_rating        6\n",
       "age_group          5\n",
       "gender             2\n",
       "skin_type          6\n",
       "skin_info          8\n",
       "review         87604\n",
       "dtype: int64"
      ]
     },
     "execution_count": 28,
     "metadata": {},
     "output_type": "execute_result"
    }
   ],
   "source": [
    "null_dell_df.nunique()"
   ]
  },
  {
   "cell_type": "code",
   "execution_count": 29,
   "id": "4964b1b6-01ad-4f54-86b9-d4bb0b4ec16c",
   "metadata": {},
   "outputs": [
    {
     "data": {
      "text/plain": [
       "array(['건성', '지성', '중성', '수분부족지성', '복합성', '극건성'], dtype=object)"
      ]
     },
     "execution_count": 29,
     "metadata": {},
     "output_type": "execute_result"
    }
   ],
   "source": [
    "null_dell_df.skin_type.unique()"
   ]
  },
  {
   "cell_type": "code",
   "execution_count": 33,
   "id": "61a8985a-6bfa-454b-926f-8535cc21088f",
   "metadata": {},
   "outputs": [
    {
     "data": {
      "text/plain": [
       "4447"
      ]
     },
     "execution_count": 33,
     "metadata": {},
     "output_type": "execute_result"
    }
   ],
   "source": [
    "len(null_dell_df[null_dell_df.skin_type==\"극건성\"])"
   ]
  },
  {
   "cell_type": "code",
   "execution_count": 55,
   "id": "5015115d-7422-4aa9-874f-d60fa1dad4a7",
   "metadata": {},
   "outputs": [
    {
     "data": {
      "text/html": [
       "<div>\n",
       "<style scoped>\n",
       "    .dataframe tbody tr th:only-of-type {\n",
       "        vertical-align: middle;\n",
       "    }\n",
       "\n",
       "    .dataframe tbody tr th {\n",
       "        vertical-align: top;\n",
       "    }\n",
       "\n",
       "    .dataframe thead th {\n",
       "        text-align: right;\n",
       "    }\n",
       "</style>\n",
       "<table border=\"1\" class=\"dataframe\">\n",
       "  <thead>\n",
       "    <tr style=\"text-align: right;\">\n",
       "      <th></th>\n",
       "      <th>item_id</th>\n",
       "      <th>brand_name</th>\n",
       "      <th>category_id</th>\n",
       "      <th>item_name</th>\n",
       "      <th>price</th>\n",
       "      <th>avg_rating</th>\n",
       "      <th>user_id</th>\n",
       "      <th>user_rating</th>\n",
       "      <th>age_group</th>\n",
       "      <th>gender</th>\n",
       "      <th>skin_type</th>\n",
       "      <th>skin_info</th>\n",
       "      <th>review</th>\n",
       "    </tr>\n",
       "  </thead>\n",
       "  <tbody>\n",
       "    <tr>\n",
       "      <th>64687</th>\n",
       "      <td>111130000691</td>\n",
       "      <td>아이오페</td>\n",
       "      <td>CTG001</td>\n",
       "      <td>레티놀 엑스퍼트 0.1% 30ml</td>\n",
       "      <td>85000.0</td>\n",
       "      <td>4.7</td>\n",
       "      <td>Amrp**</td>\n",
       "      <td>5.0</td>\n",
       "      <td>5.0</td>\n",
       "      <td>여성</td>\n",
       "      <td>복합성</td>\n",
       "      <td>복합성</td>\n",
       "      <td>꾸준히 사용하고 있어요 처음엔 눈가주변이 따끔거리고 화끈거려서 이삼일에 한번씩 사용...</td>\n",
       "    </tr>\n",
       "  </tbody>\n",
       "</table>\n",
       "</div>"
      ],
      "text/plain": [
       "            item_id brand_name category_id           item_name    price  \\\n",
       "64687  111130000691       아이오페      CTG001  레티놀 엑스퍼트 0.1% 30ml  85000.0   \n",
       "\n",
       "       avg_rating user_id  user_rating  age_group gender skin_type skin_info  \\\n",
       "64687         4.7  Amrp**          5.0        5.0     여성       복합성       복합성   \n",
       "\n",
       "                                                  review  \n",
       "64687  꾸준히 사용하고 있어요 처음엔 눈가주변이 따끔거리고 화끈거려서 이삼일에 한번씩 사용...  "
      ]
     },
     "execution_count": 55,
     "metadata": {},
     "output_type": "execute_result"
    }
   ],
   "source": [
    "null_dell_df[null_dell_df.skin_info==\"복합성\"] # 삭제 할 것"
   ]
  },
  {
   "cell_type": "code",
   "execution_count": 61,
   "id": "c163e7e5-0c7d-43a3-be17-047fc8bd73ca",
   "metadata": {},
   "outputs": [],
   "source": [
    "del_index = null_dell_df[null_dell_df.skin_info==\"복합성\"].index"
   ]
  },
  {
   "cell_type": "code",
   "execution_count": 70,
   "id": "92562cae-0246-4073-9928-8738e9f63040",
   "metadata": {},
   "outputs": [],
   "source": [
    "null_dell_df = null_dell_df.drop(index=del_index,axis=0)"
   ]
  },
  {
   "cell_type": "code",
   "execution_count": 73,
   "id": "aadfcef1-88b4-4302-bc7b-5f3073dd00e9",
   "metadata": {},
   "outputs": [
    {
     "data": {
      "text/plain": [
       "array(['민감성', '모공', '탄력없음', '칙칙함', '트러블', '건조함', '주름'], dtype=object)"
      ]
     },
     "execution_count": 73,
     "metadata": {},
     "output_type": "execute_result"
    }
   ],
   "source": [
    "null_dell_df.skin_info.unique()"
   ]
  },
  {
   "cell_type": "code",
   "execution_count": 72,
   "id": "fdc6935c-1e16-4b93-b069-58bcd087a5b1",
   "metadata": {},
   "outputs": [
    {
     "data": {
      "text/plain": [
       "array(['CTG002', 'CTG001', 'CTG004', 'CTG006', 'CTG007', 'CTG005',\n",
       "       'CTG008'], dtype=object)"
      ]
     },
     "execution_count": 72,
     "metadata": {},
     "output_type": "execute_result"
    }
   ],
   "source": [
    "null_dell_df.category_id.unique()"
   ]
  },
  {
   "cell_type": "code",
   "execution_count": 50,
   "id": "70501b69-5689-4ffb-b8da-91a043dd6926",
   "metadata": {},
   "outputs": [
    {
     "data": {
      "text/plain": [
       "'\\nCTG001 -> 스킨케어\\nCTG002 -> 메이크업\\nCTG003 -> 네일&향수\\nCTG004 -> 생활용품\\nCTG005 -> 소품&도구\\nCTG006 -> 뷰티푸드\\nCTG007 -> 남성\\nCTG008 -> 베이비\\n'"
      ]
     },
     "execution_count": 50,
     "metadata": {},
     "output_type": "execute_result"
    }
   ],
   "source": [
    "\n",
    "\"\"\"\n",
    "CTG001 -> 스킨케어\n",
    "CTG002 -> 메이크업\n",
    "CTG003 -> 네일&향수\n",
    "CTG004 -> 생활용품\n",
    "CTG005 -> 소품&도구\n",
    "CTG006 -> 뷰티푸드\n",
    "CTG007 -> 남성\n",
    "CTG008 -> 베이비\n",
    "\"\"\"\n"
   ]
  },
  {
   "cell_type": "code",
   "execution_count": 44,
   "id": "8a880afb-e369-41a4-af27-2328ee00f086",
   "metadata": {},
   "outputs": [
    {
     "data": {
      "text/plain": [
       "array(['한율', '아모레퍼시픽', '에뛰드', '프리메라', '아이오페', '에스트라', '려', '미쟝센', '일리윤',\n",
       "       '바이탈뷰티', '오설록', '메디안', '라보에이치', '헤라', '설화수', '라네즈', '해피바스',\n",
       "       '구딸 파리', '홀리추얼', '페이스팩토리', '메이크온', '마몽드', '롱테이크', '브로앤팁스', '이니스프리',\n",
       "       '비레디', '오딧세이', '스테디', '에스쁘아', '커스텀미', '피카소', 'CEO 보떼', '아리아나 그란데',\n",
       "       '프라다퍼퓸', '퍼퓸샵', '베리맘', '라 리베라', '비올란', '앞바다즈', '순수백과', '해서린', '쿠모',\n",
       "       '로아나', '메디니스', '더툴랩', '보다나', '아윤채', '더블유드레스룸', '피카소 꼴레지오니',\n",
       "       'AMORE BEAUTY TOOLS'], dtype=object)"
      ]
     },
     "execution_count": 44,
     "metadata": {},
     "output_type": "execute_result"
    }
   ],
   "source": [
    "all_df.brand_name.unique()"
   ]
  },
  {
   "cell_type": "code",
   "execution_count": 80,
   "id": "12cf7704-c05e-42fc-ac2e-7365825582dc",
   "metadata": {},
   "outputs": [
    {
     "data": {
      "text/plain": [
       "item_id                                             111650000195\n",
       "brand_name                                                    한율\n",
       "category_id                                               CTG002\n",
       "item_name                                              자연을 닮은 립밤\n",
       "price                                                     4500.0\n",
       "avg_rating                                                   4.6\n",
       "user_id                                              suma*******\n",
       "user_rating                                                  5.0\n",
       "age_group                                                    5.0\n",
       "gender                                                        여성\n",
       "skin_type                                                     건성\n",
       "skin_info                                                    민감성\n",
       "review         한율 자연을 닮은 립밤 흰감국을 구입했어요. 용량은 3.5g으로 종류가 다양한데요,...\n",
       "Name: 0, dtype: object"
      ]
     },
     "execution_count": 80,
     "metadata": {},
     "output_type": "execute_result"
    }
   ],
   "source": [
    "null_dell_df.iloc[0]"
   ]
  },
  {
   "cell_type": "code",
   "execution_count": 85,
   "id": "dcc5bbd2-01df-4499-9faa-b729c3cc04a6",
   "metadata": {},
   "outputs": [
    {
     "data": {
      "text/plain": [
       "7"
      ]
     },
     "execution_count": 85,
     "metadata": {},
     "output_type": "execute_result"
    }
   ],
   "source": [
    "null_dell_df['skin_info'].nunique()"
   ]
  },
  {
   "cell_type": "code",
   "execution_count": 74,
   "id": "44c1a2f8-7e35-43e5-9fbd-5e852880f770",
   "metadata": {},
   "outputs": [
    {
     "data": {
      "text/html": [
       "<div>\n",
       "<style scoped>\n",
       "    .dataframe tbody tr th:only-of-type {\n",
       "        vertical-align: middle;\n",
       "    }\n",
       "\n",
       "    .dataframe tbody tr th {\n",
       "        vertical-align: top;\n",
       "    }\n",
       "\n",
       "    .dataframe thead th {\n",
       "        text-align: right;\n",
       "    }\n",
       "</style>\n",
       "<table border=\"1\" class=\"dataframe\">\n",
       "  <thead>\n",
       "    <tr style=\"text-align: right;\">\n",
       "      <th></th>\n",
       "      <th>item_id</th>\n",
       "      <th>brand_name</th>\n",
       "      <th>category_id</th>\n",
       "      <th>item_name</th>\n",
       "      <th>price</th>\n",
       "      <th>avg_rating</th>\n",
       "      <th>user_id</th>\n",
       "      <th>user_rating</th>\n",
       "      <th>age_group</th>\n",
       "      <th>gender</th>\n",
       "      <th>skin_type</th>\n",
       "      <th>skin_info</th>\n",
       "      <th>review</th>\n",
       "    </tr>\n",
       "  </thead>\n",
       "  <tbody>\n",
       "    <tr>\n",
       "      <th>0</th>\n",
       "      <td>111650000195</td>\n",
       "      <td>한율</td>\n",
       "      <td>CTG002</td>\n",
       "      <td>자연을 닮은 립밤</td>\n",
       "      <td>4500.0</td>\n",
       "      <td>4.6</td>\n",
       "      <td>suma*******</td>\n",
       "      <td>5.0</td>\n",
       "      <td>5.0</td>\n",
       "      <td>여성</td>\n",
       "      <td>건성</td>\n",
       "      <td>민감성</td>\n",
       "      <td>한율 자연을 닮은 립밤 흰감국을 구입했어요. 용량은 3.5g으로 종류가 다양한데요,...</td>\n",
       "    </tr>\n",
       "    <tr>\n",
       "      <th>2</th>\n",
       "      <td>111650000195</td>\n",
       "      <td>한율</td>\n",
       "      <td>CTG002</td>\n",
       "      <td>자연을 닮은 립밤</td>\n",
       "      <td>4500.0</td>\n",
       "      <td>4.6</td>\n",
       "      <td>ssae****</td>\n",
       "      <td>5.0</td>\n",
       "      <td>5.0</td>\n",
       "      <td>여성</td>\n",
       "      <td>지성</td>\n",
       "      <td>모공</td>\n",
       "      <td>자초 컬러- 쌩얼에 자연스럽게 바르기 좋은 데일리 립밤이에요. 쿨톤인데도 자연스러워...</td>\n",
       "    </tr>\n",
       "    <tr>\n",
       "      <th>6</th>\n",
       "      <td>111650000195</td>\n",
       "      <td>한율</td>\n",
       "      <td>CTG002</td>\n",
       "      <td>자연을 닮은 립밤</td>\n",
       "      <td>4500.0</td>\n",
       "      <td>4.6</td>\n",
       "      <td>suma*******</td>\n",
       "      <td>5.0</td>\n",
       "      <td>5.0</td>\n",
       "      <td>여성</td>\n",
       "      <td>건성</td>\n",
       "      <td>민감성</td>\n",
       "      <td>한율 자연을 닮은 립밤을 쓰고 있어요.제가 선택한 제품은 흰감국인데요,무색의 립밤이...</td>\n",
       "    </tr>\n",
       "    <tr>\n",
       "      <th>7</th>\n",
       "      <td>111650000195</td>\n",
       "      <td>한율</td>\n",
       "      <td>CTG002</td>\n",
       "      <td>자연을 닮은 립밤</td>\n",
       "      <td>4500.0</td>\n",
       "      <td>4.6</td>\n",
       "      <td>core****</td>\n",
       "      <td>4.0</td>\n",
       "      <td>4.0</td>\n",
       "      <td>여성</td>\n",
       "      <td>건성</td>\n",
       "      <td>민감성</td>\n",
       "      <td>여러  색상중에 선명한 색상을 선호해서 자초로 골랐어요. 개봉했을 때 쨍한 다홍레드...</td>\n",
       "    </tr>\n",
       "    <tr>\n",
       "      <th>11</th>\n",
       "      <td>111650000195</td>\n",
       "      <td>한율</td>\n",
       "      <td>CTG002</td>\n",
       "      <td>자연을 닮은 립밤</td>\n",
       "      <td>4500.0</td>\n",
       "      <td>4.6</td>\n",
       "      <td>yuni***</td>\n",
       "      <td>5.0</td>\n",
       "      <td>3.0</td>\n",
       "      <td>여성</td>\n",
       "      <td>중성</td>\n",
       "      <td>탄력없음</td>\n",
       "      <td>립밤이나 립오일을 안바르면 한여름 빼곤 각질이 올라오거나 트는 편이라 립밤 쟁여놓고...</td>\n",
       "    </tr>\n",
       "  </tbody>\n",
       "</table>\n",
       "</div>"
      ],
      "text/plain": [
       "         item_id brand_name category_id  item_name   price  avg_rating  \\\n",
       "0   111650000195         한율      CTG002  자연을 닮은 립밤  4500.0         4.6   \n",
       "2   111650000195         한율      CTG002  자연을 닮은 립밤  4500.0         4.6   \n",
       "6   111650000195         한율      CTG002  자연을 닮은 립밤  4500.0         4.6   \n",
       "7   111650000195         한율      CTG002  자연을 닮은 립밤  4500.0         4.6   \n",
       "11  111650000195         한율      CTG002  자연을 닮은 립밤  4500.0         4.6   \n",
       "\n",
       "        user_id  user_rating  age_group gender skin_type skin_info  \\\n",
       "0   suma*******          5.0        5.0     여성        건성       민감성   \n",
       "2      ssae****          5.0        5.0     여성        지성        모공   \n",
       "6   suma*******          5.0        5.0     여성        건성       민감성   \n",
       "7      core****          4.0        4.0     여성        건성       민감성   \n",
       "11      yuni***          5.0        3.0     여성        중성      탄력없음   \n",
       "\n",
       "                                               review  \n",
       "0   한율 자연을 닮은 립밤 흰감국을 구입했어요. 용량은 3.5g으로 종류가 다양한데요,...  \n",
       "2   자초 컬러- 쌩얼에 자연스럽게 바르기 좋은 데일리 립밤이에요. 쿨톤인데도 자연스러워...  \n",
       "6   한율 자연을 닮은 립밤을 쓰고 있어요.제가 선택한 제품은 흰감국인데요,무색의 립밤이...  \n",
       "7   여러  색상중에 선명한 색상을 선호해서 자초로 골랐어요. 개봉했을 때 쨍한 다홍레드...  \n",
       "11  립밤이나 립오일을 안바르면 한여름 빼곤 각질이 올라오거나 트는 편이라 립밤 쟁여놓고...  "
      ]
     },
     "execution_count": 74,
     "metadata": {},
     "output_type": "execute_result"
    }
   ],
   "source": [
    "null_dell_df.head()"
   ]
  },
  {
   "cell_type": "code",
   "execution_count": 76,
   "id": "57583d76-1716-41f4-9768-5669f8a628a9",
   "metadata": {},
   "outputs": [
    {
     "data": {
      "text/plain": [
       "item_id        0\n",
       "brand_name     0\n",
       "category_id    0\n",
       "item_name      0\n",
       "price          0\n",
       "avg_rating     0\n",
       "user_id        0\n",
       "user_rating    0\n",
       "age_group      0\n",
       "gender         0\n",
       "skin_type      0\n",
       "skin_info      0\n",
       "review         0\n",
       "dtype: int64"
      ]
     },
     "execution_count": 76,
     "metadata": {},
     "output_type": "execute_result"
    }
   ],
   "source": [
    "\"\"\"\n",
    "category\n",
    "1. category_id\n",
    "\n",
    "\"\"\""
   ]
  },
  {
   "cell_type": "code",
   "execution_count": null,
   "id": "eba591af-e874-4462-96d3-119de18f5cb0",
   "metadata": {},
   "outputs": [],
   "source": []
  }
 ],
 "metadata": {
  "kernelspec": {
   "display_name": "Python 3",
   "language": "python",
   "name": "python3"
  },
  "language_info": {
   "codemirror_mode": {
    "name": "ipython",
    "version": 3
   },
   "file_extension": ".py",
   "mimetype": "text/x-python",
   "name": "python",
   "nbconvert_exporter": "python",
   "pygments_lexer": "ipython3",
   "version": "3.8.8"
  }
 },
 "nbformat": 4,
 "nbformat_minor": 5
}
