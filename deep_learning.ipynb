{
 "cells": [
  {
   "cell_type": "code",
   "execution_count": 1,
   "id": "mvxOBuK7FPNV",
   "metadata": {
    "colab": {
     "base_uri": "https://localhost:8080/"
    },
    "id": "mvxOBuK7FPNV",
    "outputId": "c4a98def-5ad7-4b95-811a-cd0259d93b6d"
   },
   "outputs": [
    {
     "name": "stdout",
     "output_type": "stream",
     "text": [
      "Looking in indexes: https://pypi.org/simple, https://us-python.pkg.dev/colab-wheels/public/simple/\n",
      "Collecting wandb\n",
      "  Downloading wandb-0.13.2-py2.py3-none-any.whl (1.8 MB)\n",
      "\u001b[K     |████████████████████████████████| 1.8 MB 32.7 MB/s \n",
      "\u001b[?25hRequirement already satisfied: setuptools in /usr/local/lib/python3.7/dist-packages (from wandb) (57.4.0)\n",
      "Requirement already satisfied: requests<3,>=2.0.0 in /usr/local/lib/python3.7/dist-packages (from wandb) (2.23.0)\n",
      "Requirement already satisfied: protobuf<4.0dev,>=3.12.0 in /usr/local/lib/python3.7/dist-packages (from wandb) (3.17.3)\n",
      "Requirement already satisfied: PyYAML in /usr/local/lib/python3.7/dist-packages (from wandb) (6.0)\n",
      "Requirement already satisfied: Click!=8.0.0,>=7.0 in /usr/local/lib/python3.7/dist-packages (from wandb) (7.1.2)\n",
      "Requirement already satisfied: six>=1.13.0 in /usr/local/lib/python3.7/dist-packages (from wandb) (1.15.0)\n",
      "Collecting pathtools\n",
      "  Downloading pathtools-0.1.2.tar.gz (11 kB)\n",
      "Requirement already satisfied: psutil>=5.0.0 in /usr/local/lib/python3.7/dist-packages (from wandb) (5.4.8)\n",
      "Collecting GitPython>=1.0.0\n",
      "  Downloading GitPython-3.1.27-py3-none-any.whl (181 kB)\n",
      "\u001b[K     |████████████████████████████████| 181 kB 56.8 MB/s \n",
      "\u001b[?25hCollecting sentry-sdk>=1.0.0\n",
      "  Downloading sentry_sdk-1.9.5-py2.py3-none-any.whl (157 kB)\n",
      "\u001b[K     |████████████████████████████████| 157 kB 73.6 MB/s \n",
      "\u001b[?25hCollecting docker-pycreds>=0.4.0\n",
      "  Downloading docker_pycreds-0.4.0-py2.py3-none-any.whl (9.0 kB)\n",
      "Collecting setproctitle\n",
      "  Downloading setproctitle-1.3.2-cp37-cp37m-manylinux_2_5_x86_64.manylinux1_x86_64.manylinux_2_17_x86_64.manylinux2014_x86_64.whl (30 kB)\n",
      "Collecting shortuuid>=0.5.0\n",
      "  Downloading shortuuid-1.0.9-py3-none-any.whl (9.4 kB)\n",
      "Requirement already satisfied: promise<3,>=2.0 in /usr/local/lib/python3.7/dist-packages (from wandb) (2.3)\n",
      "Collecting gitdb<5,>=4.0.1\n",
      "  Downloading gitdb-4.0.9-py3-none-any.whl (63 kB)\n",
      "\u001b[K     |████████████████████████████████| 63 kB 1.8 MB/s \n",
      "\u001b[?25hRequirement already satisfied: typing-extensions>=3.7.4.3 in /usr/local/lib/python3.7/dist-packages (from GitPython>=1.0.0->wandb) (4.1.1)\n",
      "Collecting smmap<6,>=3.0.1\n",
      "  Downloading smmap-5.0.0-py3-none-any.whl (24 kB)\n",
      "Requirement already satisfied: idna<3,>=2.5 in /usr/local/lib/python3.7/dist-packages (from requests<3,>=2.0.0->wandb) (2.10)\n",
      "Requirement already satisfied: chardet<4,>=3.0.2 in /usr/local/lib/python3.7/dist-packages (from requests<3,>=2.0.0->wandb) (3.0.4)\n",
      "Requirement already satisfied: urllib3!=1.25.0,!=1.25.1,<1.26,>=1.21.1 in /usr/local/lib/python3.7/dist-packages (from requests<3,>=2.0.0->wandb) (1.24.3)\n",
      "Requirement already satisfied: certifi>=2017.4.17 in /usr/local/lib/python3.7/dist-packages (from requests<3,>=2.0.0->wandb) (2022.6.15)\n",
      "Collecting sentry-sdk>=1.0.0\n",
      "  Downloading sentry_sdk-1.9.4-py2.py3-none-any.whl (157 kB)\n",
      "\u001b[K     |████████████████████████████████| 157 kB 78.6 MB/s \n",
      "\u001b[?25h  Downloading sentry_sdk-1.9.3-py2.py3-none-any.whl (157 kB)\n",
      "\u001b[K     |████████████████████████████████| 157 kB 60.5 MB/s \n",
      "\u001b[?25h  Downloading sentry_sdk-1.9.2-py2.py3-none-any.whl (157 kB)\n",
      "\u001b[K     |████████████████████████████████| 157 kB 71.5 MB/s \n",
      "\u001b[?25h  Downloading sentry_sdk-1.9.1-py2.py3-none-any.whl (157 kB)\n",
      "\u001b[K     |████████████████████████████████| 157 kB 76.7 MB/s \n",
      "\u001b[?25h  Downloading sentry_sdk-1.9.0-py2.py3-none-any.whl (156 kB)\n",
      "\u001b[K     |████████████████████████████████| 156 kB 79.2 MB/s \n",
      "\u001b[?25hBuilding wheels for collected packages: pathtools\n",
      "  Building wheel for pathtools (setup.py) ... \u001b[?25l\u001b[?25hdone\n",
      "  Created wheel for pathtools: filename=pathtools-0.1.2-py3-none-any.whl size=8806 sha256=798ade841dfc0fc58ca4237c0ec480b87063f0b8626af7a943fc6cd0475c22ca\n",
      "  Stored in directory: /root/.cache/pip/wheels/3e/31/09/fa59cef12cdcfecc627b3d24273699f390e71828921b2cbba2\n",
      "Successfully built pathtools\n",
      "Installing collected packages: smmap, gitdb, shortuuid, setproctitle, sentry-sdk, pathtools, GitPython, docker-pycreds, wandb\n",
      "Successfully installed GitPython-3.1.27 docker-pycreds-0.4.0 gitdb-4.0.9 pathtools-0.1.2 sentry-sdk-1.9.0 setproctitle-1.3.2 shortuuid-1.0.9 smmap-5.0.0 wandb-0.13.2\n"
     ]
    }
   ],
   "source": [
    "!pip install wandb"
   ]
  },
  {
   "cell_type": "code",
   "execution_count": 2,
   "id": "1f074c3f-3d05-40f7-aab0-73327f51208e",
   "metadata": {
    "id": "1f074c3f-3d05-40f7-aab0-73327f51208e"
   },
   "outputs": [],
   "source": [
    "import pandas as pd\n",
    "import numpy as np\n",
    "from tqdm import tqdm\n"
   ]
  },
  {
   "cell_type": "code",
   "execution_count": 3,
   "id": "-V0EqPQRP8TQ",
   "metadata": {
    "colab": {
     "base_uri": "https://localhost:8080/"
    },
    "id": "-V0EqPQRP8TQ",
    "outputId": "5826a3b0-517f-4003-ae64-8e0a84a4b58c"
   },
   "outputs": [
    {
     "name": "stdout",
     "output_type": "stream",
     "text": [
      "Mounted at /content/drive\n"
     ]
    }
   ],
   "source": [
    "from google.colab import drive\n",
    "drive.mount('/content/drive')"
   ]
  },
  {
   "cell_type": "code",
   "execution_count": null,
   "id": "TsGvobHUCP9A",
   "metadata": {
    "colab": {
     "base_uri": "https://localhost:8080/"
    },
    "id": "TsGvobHUCP9A",
    "outputId": "9df62887-0a35-4aef-ea28-b4e62997a9d8"
   },
   "outputs": [
    {
     "name": "stdout",
     "output_type": "stream",
     "text": [
      "/content\n"
     ]
    }
   ],
   "source": [
    "!pwd"
   ]
  },
  {
   "cell_type": "code",
   "execution_count": 4,
   "id": "fad1410d-d186-4ef4-804a-1bf9757d4c23",
   "metadata": {
    "id": "fad1410d-d186-4ef4-804a-1bf9757d4c23"
   },
   "outputs": [],
   "source": [
    "\n",
    "df = pd.read_csv(\"/content/drive/MyDrive/data/KULLY/not_null_df.csv\")"
   ]
  },
  {
   "cell_type": "code",
   "execution_count": 5,
   "id": "0c00ec50-cf42-479c-989b-7337c2465adb",
   "metadata": {
    "colab": {
     "base_uri": "https://localhost:8080/"
    },
    "id": "0c00ec50-cf42-479c-989b-7337c2465adb",
    "outputId": "a0134d37-3e1e-4121-c2a1-f169a5523678"
   },
   "outputs": [
    {
     "name": "stdout",
     "output_type": "stream",
     "text": [
      "<class 'pandas.core.frame.DataFrame'>\n",
      "RangeIndex: 99829 entries, 0 to 99828\n",
      "Data columns (total 14 columns):\n",
      " #   Column       Non-Null Count  Dtype  \n",
      "---  ------       --------------  -----  \n",
      " 0   Unnamed: 0   99829 non-null  int64  \n",
      " 1   item_id      99829 non-null  int64  \n",
      " 2   brand_name   99829 non-null  object \n",
      " 3   category_id  99829 non-null  object \n",
      " 4   item_name    99829 non-null  object \n",
      " 5   price        99829 non-null  float64\n",
      " 6   avg_rating   99829 non-null  float64\n",
      " 7   user_id      99829 non-null  object \n",
      " 8   user_rating  99829 non-null  float64\n",
      " 9   age_group    99829 non-null  float64\n",
      " 10  gender       99829 non-null  object \n",
      " 11  skin_type    99829 non-null  object \n",
      " 12  skin_info    99829 non-null  object \n",
      " 13  review       99829 non-null  object \n",
      "dtypes: float64(4), int64(2), object(8)\n",
      "memory usage: 10.7+ MB\n"
     ]
    }
   ],
   "source": [
    "df.info()"
   ]
  },
  {
   "cell_type": "code",
   "execution_count": 6,
   "id": "6acfd709-89b3-4fe9-b02d-54902a88d4ba",
   "metadata": {
    "id": "6acfd709-89b3-4fe9-b02d-54902a88d4ba"
   },
   "outputs": [],
   "source": [
    "df = df.drop(['Unnamed: 0'],axis=1)"
   ]
  },
  {
   "cell_type": "code",
   "execution_count": 7,
   "id": "4028936c-050f-431a-b3a1-8bfed5d2c9ca",
   "metadata": {
    "colab": {
     "base_uri": "https://localhost:8080/"
    },
    "id": "4028936c-050f-431a-b3a1-8bfed5d2c9ca",
    "outputId": "185f72e8-4598-4c7f-e0a7-dff87659b4c8"
   },
   "outputs": [
    {
     "data": {
      "text/plain": [
       "item_id          397\n",
       "brand_name        36\n",
       "category_id        7\n",
       "item_name        397\n",
       "price            231\n",
       "avg_rating         9\n",
       "user_id        18499\n",
       "user_rating        6\n",
       "age_group          5\n",
       "gender             2\n",
       "skin_type          6\n",
       "skin_info          8\n",
       "review         87604\n",
       "dtype: int64"
      ]
     },
     "execution_count": 7,
     "metadata": {},
     "output_type": "execute_result"
    }
   ],
   "source": [
    "df.nunique()"
   ]
  },
  {
   "cell_type": "code",
   "execution_count": 8,
   "id": "bacafd50-b797-4570-be5a-7eef15f26aa3",
   "metadata": {
    "id": "bacafd50-b797-4570-be5a-7eef15f26aa3"
   },
   "outputs": [],
   "source": [
    "del_index = df[df.skin_info==\"복합성\"].index\n",
    "df = df.drop(index=del_index,axis=0)"
   ]
  },
  {
   "cell_type": "code",
   "execution_count": 9,
   "id": "757f83cb-035b-4fe8-8ce3-3602131fb6b0",
   "metadata": {
    "colab": {
     "base_uri": "https://localhost:8080/"
    },
    "id": "757f83cb-035b-4fe8-8ce3-3602131fb6b0",
    "outputId": "4b14349a-0841-45d0-84ec-d0c0284cb819"
   },
   "outputs": [
    {
     "data": {
      "text/plain": [
       "array(['건성', '지성', '중성', '수분부족지성', '복합성', '극건성'], dtype=object)"
      ]
     },
     "execution_count": 9,
     "metadata": {},
     "output_type": "execute_result"
    }
   ],
   "source": [
    "df.skin_type.unique()"
   ]
  },
  {
   "cell_type": "code",
   "execution_count": 10,
   "id": "e0f3b902-eae0-42c7-8376-7d5e9cad4ee9",
   "metadata": {
    "colab": {
     "base_uri": "https://localhost:8080/"
    },
    "id": "e0f3b902-eae0-42c7-8376-7d5e9cad4ee9",
    "outputId": "3dc4ba13-bb81-465f-f51c-28afb3e3f3e2"
   },
   "outputs": [
    {
     "data": {
      "text/plain": [
       "array([5., 4., 0., 3., 1., 2.])"
      ]
     },
     "execution_count": 10,
     "metadata": {},
     "output_type": "execute_result"
    }
   ],
   "source": [
    "df.user_rating.unique()"
   ]
  },
  {
   "cell_type": "code",
   "execution_count": 11,
   "id": "5700c71e-4188-4065-848c-694d0e7731ef",
   "metadata": {
    "colab": {
     "base_uri": "https://localhost:8080/"
    },
    "id": "5700c71e-4188-4065-848c-694d0e7731ef",
    "outputId": "20dab9c2-1301-4da5-b321-234ddb3ccb79"
   },
   "outputs": [
    {
     "data": {
      "text/plain": [
       "18499"
      ]
     },
     "execution_count": 11,
     "metadata": {},
     "output_type": "execute_result"
    }
   ],
   "source": [
    "df.user_id.nunique()"
   ]
  },
  {
   "cell_type": "code",
   "execution_count": 12,
   "id": "a056de6b-57b3-48b0-aa62-bd8fce34ec04",
   "metadata": {
    "colab": {
     "base_uri": "https://localhost:8080/"
    },
    "id": "a056de6b-57b3-48b0-aa62-bd8fce34ec04",
    "outputId": "a030e49f-8df2-415a-df22-d5161a7c40fe"
   },
   "outputs": [
    {
     "data": {
      "text/plain": [
       "item_id          397\n",
       "brand_name        36\n",
       "category_id        7\n",
       "item_name        397\n",
       "price            231\n",
       "avg_rating         9\n",
       "user_id        18499\n",
       "user_rating        6\n",
       "age_group          5\n",
       "gender             2\n",
       "skin_type          6\n",
       "skin_info          7\n",
       "review         87603\n",
       "dtype: int64"
      ]
     },
     "execution_count": 12,
     "metadata": {},
     "output_type": "execute_result"
    }
   ],
   "source": [
    "df.nunique()"
   ]
  },
  {
   "cell_type": "code",
   "execution_count": 13,
   "id": "dc3b188d-2e51-473a-85f3-5e4c5f6bf44c",
   "metadata": {
    "id": "dc3b188d-2e51-473a-85f3-5e4c5f6bf44c"
   },
   "outputs": [],
   "source": [
    "# inference 할때 필요\n",
    "user_to_replace_id = {original: idx for idx, original in enumerate(sorted(df.user_id.unique()))}\n",
    "item_to_replace_id = {original: idx for idx, original in enumerate(sorted(df.item_id.unique()))}"
   ]
  },
  {
   "cell_type": "code",
   "execution_count": 14,
   "id": "cc457ecf-e01f-4c73-9592-2166f71d6849",
   "metadata": {
    "id": "cc457ecf-e01f-4c73-9592-2166f71d6849"
   },
   "outputs": [],
   "source": [
    "df['user_replace_id'] = df['user_id'].map(lambda x:user_to_replace_id[x])"
   ]
  },
  {
   "cell_type": "code",
   "execution_count": 15,
   "id": "71a07324-c397-41b5-8714-fa56d6615b32",
   "metadata": {
    "id": "71a07324-c397-41b5-8714-fa56d6615b32"
   },
   "outputs": [],
   "source": [
    "df['item_to_replace_id'] = df[\"item_id\"].map(lambda x:item_to_replace_id[x])"
   ]
  },
  {
   "cell_type": "code",
   "execution_count": 16,
   "id": "23fb29b7-ddd6-471c-8733-d4588cefc776",
   "metadata": {
    "colab": {
     "base_uri": "https://localhost:8080/",
     "height": 1000
    },
    "id": "23fb29b7-ddd6-471c-8733-d4588cefc776",
    "outputId": "c3f16be5-3f86-4b57-bbcd-bbffff4137a5"
   },
   "outputs": [
    {
     "data": {
      "text/html": [
       "\n",
       "  <div id=\"df-0b7fb170-6c51-458a-90d0-8bfa9fec44a6\">\n",
       "    <div class=\"colab-df-container\">\n",
       "      <div>\n",
       "<style scoped>\n",
       "    .dataframe tbody tr th:only-of-type {\n",
       "        vertical-align: middle;\n",
       "    }\n",
       "\n",
       "    .dataframe tbody tr th {\n",
       "        vertical-align: top;\n",
       "    }\n",
       "\n",
       "    .dataframe thead th {\n",
       "        text-align: right;\n",
       "    }\n",
       "</style>\n",
       "<table border=\"1\" class=\"dataframe\">\n",
       "  <thead>\n",
       "    <tr style=\"text-align: right;\">\n",
       "      <th></th>\n",
       "      <th>item_id</th>\n",
       "      <th>brand_name</th>\n",
       "      <th>category_id</th>\n",
       "      <th>item_name</th>\n",
       "      <th>price</th>\n",
       "      <th>avg_rating</th>\n",
       "      <th>user_id</th>\n",
       "      <th>user_rating</th>\n",
       "      <th>age_group</th>\n",
       "      <th>gender</th>\n",
       "      <th>skin_type</th>\n",
       "      <th>skin_info</th>\n",
       "      <th>review</th>\n",
       "      <th>user_replace_id</th>\n",
       "      <th>item_to_replace_id</th>\n",
       "    </tr>\n",
       "  </thead>\n",
       "  <tbody>\n",
       "    <tr>\n",
       "      <th>0</th>\n",
       "      <td>111650000195</td>\n",
       "      <td>한율</td>\n",
       "      <td>CTG002</td>\n",
       "      <td>자연을 닮은 립밤</td>\n",
       "      <td>4500.0</td>\n",
       "      <td>4.6</td>\n",
       "      <td>suma*******</td>\n",
       "      <td>5.0</td>\n",
       "      <td>5.0</td>\n",
       "      <td>여성</td>\n",
       "      <td>건성</td>\n",
       "      <td>민감성</td>\n",
       "      <td>한율 자연을 닮은 립밤 흰감국을 구입했어요. 용량은 3.5g으로 종류가 다양한데요,...</td>\n",
       "      <td>15600</td>\n",
       "      <td>314</td>\n",
       "    </tr>\n",
       "    <tr>\n",
       "      <th>1</th>\n",
       "      <td>111650000195</td>\n",
       "      <td>한율</td>\n",
       "      <td>CTG002</td>\n",
       "      <td>자연을 닮은 립밤</td>\n",
       "      <td>4500.0</td>\n",
       "      <td>4.6</td>\n",
       "      <td>ssae****</td>\n",
       "      <td>5.0</td>\n",
       "      <td>5.0</td>\n",
       "      <td>여성</td>\n",
       "      <td>지성</td>\n",
       "      <td>모공</td>\n",
       "      <td>자초 컬러- 쌩얼에 자연스럽게 바르기 좋은 데일리 립밤이에요. 쿨톤인데도 자연스러워...</td>\n",
       "      <td>15332</td>\n",
       "      <td>314</td>\n",
       "    </tr>\n",
       "    <tr>\n",
       "      <th>2</th>\n",
       "      <td>111650000195</td>\n",
       "      <td>한율</td>\n",
       "      <td>CTG002</td>\n",
       "      <td>자연을 닮은 립밤</td>\n",
       "      <td>4500.0</td>\n",
       "      <td>4.6</td>\n",
       "      <td>suma*******</td>\n",
       "      <td>5.0</td>\n",
       "      <td>5.0</td>\n",
       "      <td>여성</td>\n",
       "      <td>건성</td>\n",
       "      <td>민감성</td>\n",
       "      <td>한율 자연을 닮은 립밤을 쓰고 있어요.제가 선택한 제품은 흰감국인데요,무색의 립밤이...</td>\n",
       "      <td>15600</td>\n",
       "      <td>314</td>\n",
       "    </tr>\n",
       "    <tr>\n",
       "      <th>3</th>\n",
       "      <td>111650000195</td>\n",
       "      <td>한율</td>\n",
       "      <td>CTG002</td>\n",
       "      <td>자연을 닮은 립밤</td>\n",
       "      <td>4500.0</td>\n",
       "      <td>4.6</td>\n",
       "      <td>core****</td>\n",
       "      <td>4.0</td>\n",
       "      <td>4.0</td>\n",
       "      <td>여성</td>\n",
       "      <td>건성</td>\n",
       "      <td>민감성</td>\n",
       "      <td>여러  색상중에 선명한 색상을 선호해서 자초로 골랐어요. 개봉했을 때 쨍한 다홍레드...</td>\n",
       "      <td>2991</td>\n",
       "      <td>314</td>\n",
       "    </tr>\n",
       "    <tr>\n",
       "      <th>4</th>\n",
       "      <td>111650000195</td>\n",
       "      <td>한율</td>\n",
       "      <td>CTG002</td>\n",
       "      <td>자연을 닮은 립밤</td>\n",
       "      <td>4500.0</td>\n",
       "      <td>4.6</td>\n",
       "      <td>yuni***</td>\n",
       "      <td>5.0</td>\n",
       "      <td>3.0</td>\n",
       "      <td>여성</td>\n",
       "      <td>중성</td>\n",
       "      <td>탄력없음</td>\n",
       "      <td>립밤이나 립오일을 안바르면 한여름 빼곤 각질이 올라오거나 트는 편이라 립밤 쟁여놓고...</td>\n",
       "      <td>18195</td>\n",
       "      <td>314</td>\n",
       "    </tr>\n",
       "  </tbody>\n",
       "</table>\n",
       "</div>\n",
       "      <button class=\"colab-df-convert\" onclick=\"convertToInteractive('df-0b7fb170-6c51-458a-90d0-8bfa9fec44a6')\"\n",
       "              title=\"Convert this dataframe to an interactive table.\"\n",
       "              style=\"display:none;\">\n",
       "        \n",
       "  <svg xmlns=\"http://www.w3.org/2000/svg\" height=\"24px\"viewBox=\"0 0 24 24\"\n",
       "       width=\"24px\">\n",
       "    <path d=\"M0 0h24v24H0V0z\" fill=\"none\"/>\n",
       "    <path d=\"M18.56 5.44l.94 2.06.94-2.06 2.06-.94-2.06-.94-.94-2.06-.94 2.06-2.06.94zm-11 1L8.5 8.5l.94-2.06 2.06-.94-2.06-.94L8.5 2.5l-.94 2.06-2.06.94zm10 10l.94 2.06.94-2.06 2.06-.94-2.06-.94-.94-2.06-.94 2.06-2.06.94z\"/><path d=\"M17.41 7.96l-1.37-1.37c-.4-.4-.92-.59-1.43-.59-.52 0-1.04.2-1.43.59L10.3 9.45l-7.72 7.72c-.78.78-.78 2.05 0 2.83L4 21.41c.39.39.9.59 1.41.59.51 0 1.02-.2 1.41-.59l7.78-7.78 2.81-2.81c.8-.78.8-2.07 0-2.86zM5.41 20L4 18.59l7.72-7.72 1.47 1.35L5.41 20z\"/>\n",
       "  </svg>\n",
       "      </button>\n",
       "      \n",
       "  <style>\n",
       "    .colab-df-container {\n",
       "      display:flex;\n",
       "      flex-wrap:wrap;\n",
       "      gap: 12px;\n",
       "    }\n",
       "\n",
       "    .colab-df-convert {\n",
       "      background-color: #E8F0FE;\n",
       "      border: none;\n",
       "      border-radius: 50%;\n",
       "      cursor: pointer;\n",
       "      display: none;\n",
       "      fill: #1967D2;\n",
       "      height: 32px;\n",
       "      padding: 0 0 0 0;\n",
       "      width: 32px;\n",
       "    }\n",
       "\n",
       "    .colab-df-convert:hover {\n",
       "      background-color: #E2EBFA;\n",
       "      box-shadow: 0px 1px 2px rgba(60, 64, 67, 0.3), 0px 1px 3px 1px rgba(60, 64, 67, 0.15);\n",
       "      fill: #174EA6;\n",
       "    }\n",
       "\n",
       "    [theme=dark] .colab-df-convert {\n",
       "      background-color: #3B4455;\n",
       "      fill: #D2E3FC;\n",
       "    }\n",
       "\n",
       "    [theme=dark] .colab-df-convert:hover {\n",
       "      background-color: #434B5C;\n",
       "      box-shadow: 0px 1px 3px 1px rgba(0, 0, 0, 0.15);\n",
       "      filter: drop-shadow(0px 1px 2px rgba(0, 0, 0, 0.3));\n",
       "      fill: #FFFFFF;\n",
       "    }\n",
       "  </style>\n",
       "\n",
       "      <script>\n",
       "        const buttonEl =\n",
       "          document.querySelector('#df-0b7fb170-6c51-458a-90d0-8bfa9fec44a6 button.colab-df-convert');\n",
       "        buttonEl.style.display =\n",
       "          google.colab.kernel.accessAllowed ? 'block' : 'none';\n",
       "\n",
       "        async function convertToInteractive(key) {\n",
       "          const element = document.querySelector('#df-0b7fb170-6c51-458a-90d0-8bfa9fec44a6');\n",
       "          const dataTable =\n",
       "            await google.colab.kernel.invokeFunction('convertToInteractive',\n",
       "                                                     [key], {});\n",
       "          if (!dataTable) return;\n",
       "\n",
       "          const docLinkHtml = 'Like what you see? Visit the ' +\n",
       "            '<a target=\"_blank\" href=https://colab.research.google.com/notebooks/data_table.ipynb>data table notebook</a>'\n",
       "            + ' to learn more about interactive tables.';\n",
       "          element.innerHTML = '';\n",
       "          dataTable['output_type'] = 'display_data';\n",
       "          await google.colab.output.renderOutput(dataTable, element);\n",
       "          const docLink = document.createElement('div');\n",
       "          docLink.innerHTML = docLinkHtml;\n",
       "          element.appendChild(docLink);\n",
       "        }\n",
       "      </script>\n",
       "    </div>\n",
       "  </div>\n",
       "  "
      ],
      "text/plain": [
       "        item_id brand_name category_id  item_name   price  avg_rating  \\\n",
       "0  111650000195         한율      CTG002  자연을 닮은 립밤  4500.0         4.6   \n",
       "1  111650000195         한율      CTG002  자연을 닮은 립밤  4500.0         4.6   \n",
       "2  111650000195         한율      CTG002  자연을 닮은 립밤  4500.0         4.6   \n",
       "3  111650000195         한율      CTG002  자연을 닮은 립밤  4500.0         4.6   \n",
       "4  111650000195         한율      CTG002  자연을 닮은 립밤  4500.0         4.6   \n",
       "\n",
       "       user_id  user_rating  age_group gender skin_type skin_info  \\\n",
       "0  suma*******          5.0        5.0     여성        건성       민감성   \n",
       "1     ssae****          5.0        5.0     여성        지성        모공   \n",
       "2  suma*******          5.0        5.0     여성        건성       민감성   \n",
       "3     core****          4.0        4.0     여성        건성       민감성   \n",
       "4      yuni***          5.0        3.0     여성        중성      탄력없음   \n",
       "\n",
       "                                              review  user_replace_id  \\\n",
       "0  한율 자연을 닮은 립밤 흰감국을 구입했어요. 용량은 3.5g으로 종류가 다양한데요,...            15600   \n",
       "1  자초 컬러- 쌩얼에 자연스럽게 바르기 좋은 데일리 립밤이에요. 쿨톤인데도 자연스러워...            15332   \n",
       "2  한율 자연을 닮은 립밤을 쓰고 있어요.제가 선택한 제품은 흰감국인데요,무색의 립밤이...            15600   \n",
       "3  여러  색상중에 선명한 색상을 선호해서 자초로 골랐어요. 개봉했을 때 쨍한 다홍레드...             2991   \n",
       "4  립밤이나 립오일을 안바르면 한여름 빼곤 각질이 올라오거나 트는 편이라 립밤 쟁여놓고...            18195   \n",
       "\n",
       "   item_to_replace_id  \n",
       "0                 314  \n",
       "1                 314  \n",
       "2                 314  \n",
       "3                 314  \n",
       "4                 314  "
      ]
     },
     "execution_count": 16,
     "metadata": {},
     "output_type": "execute_result"
    }
   ],
   "source": [
    "df.head()"
   ]
  },
  {
   "cell_type": "code",
   "execution_count": 17,
   "id": "cbc6996d-97a5-44f2-a406-73048b7f7b23",
   "metadata": {
    "id": "cbc6996d-97a5-44f2-a406-73048b7f7b23"
   },
   "outputs": [],
   "source": [
    "user_replace_id_df = df['user_replace_id']\n",
    "item_replace_id_df = df['item_to_replace_id']"
   ]
  },
  {
   "cell_type": "code",
   "execution_count": 18,
   "id": "8c349a2d-7ca0-4426-a081-1b7628850bcb",
   "metadata": {
    "colab": {
     "base_uri": "https://localhost:8080/"
    },
    "id": "8c349a2d-7ca0-4426-a081-1b7628850bcb",
    "outputId": "a3894385-ea75-415e-d568-fca3b85554c0"
   },
   "outputs": [
    {
     "data": {
      "text/plain": [
       "18499"
      ]
     },
     "execution_count": 18,
     "metadata": {},
     "output_type": "execute_result"
    }
   ],
   "source": [
    "len(user_replace_id_df.unique())"
   ]
  },
  {
   "cell_type": "code",
   "execution_count": 19,
   "id": "33474443-3bdd-4cfc-b793-dc38f40b75fd",
   "metadata": {
    "colab": {
     "base_uri": "https://localhost:8080/",
     "height": 1000
    },
    "id": "33474443-3bdd-4cfc-b793-dc38f40b75fd",
    "outputId": "ca8dd4c3-8a3c-475e-d59a-7859cc280eff"
   },
   "outputs": [
    {
     "data": {
      "text/html": [
       "\n",
       "  <div id=\"df-31ffa83a-ec7d-4a37-9d62-a5bc1a2adf94\">\n",
       "    <div class=\"colab-df-container\">\n",
       "      <div>\n",
       "<style scoped>\n",
       "    .dataframe tbody tr th:only-of-type {\n",
       "        vertical-align: middle;\n",
       "    }\n",
       "\n",
       "    .dataframe tbody tr th {\n",
       "        vertical-align: top;\n",
       "    }\n",
       "\n",
       "    .dataframe thead th {\n",
       "        text-align: right;\n",
       "    }\n",
       "</style>\n",
       "<table border=\"1\" class=\"dataframe\">\n",
       "  <thead>\n",
       "    <tr style=\"text-align: right;\">\n",
       "      <th></th>\n",
       "      <th>item_id</th>\n",
       "      <th>brand_name</th>\n",
       "      <th>category_id</th>\n",
       "      <th>item_name</th>\n",
       "      <th>price</th>\n",
       "      <th>avg_rating</th>\n",
       "      <th>user_id</th>\n",
       "      <th>user_rating</th>\n",
       "      <th>age_group</th>\n",
       "      <th>gender</th>\n",
       "      <th>skin_type</th>\n",
       "      <th>skin_info</th>\n",
       "      <th>review</th>\n",
       "      <th>user_replace_id</th>\n",
       "      <th>item_to_replace_id</th>\n",
       "    </tr>\n",
       "  </thead>\n",
       "  <tbody>\n",
       "    <tr>\n",
       "      <th>0</th>\n",
       "      <td>111650000195</td>\n",
       "      <td>한율</td>\n",
       "      <td>CTG002</td>\n",
       "      <td>자연을 닮은 립밤</td>\n",
       "      <td>4500.0</td>\n",
       "      <td>4.6</td>\n",
       "      <td>suma*******</td>\n",
       "      <td>5.0</td>\n",
       "      <td>5.0</td>\n",
       "      <td>여성</td>\n",
       "      <td>건성</td>\n",
       "      <td>민감성</td>\n",
       "      <td>한율 자연을 닮은 립밤 흰감국을 구입했어요. 용량은 3.5g으로 종류가 다양한데요,...</td>\n",
       "      <td>15600</td>\n",
       "      <td>314</td>\n",
       "    </tr>\n",
       "    <tr>\n",
       "      <th>1</th>\n",
       "      <td>111650000195</td>\n",
       "      <td>한율</td>\n",
       "      <td>CTG002</td>\n",
       "      <td>자연을 닮은 립밤</td>\n",
       "      <td>4500.0</td>\n",
       "      <td>4.6</td>\n",
       "      <td>ssae****</td>\n",
       "      <td>5.0</td>\n",
       "      <td>5.0</td>\n",
       "      <td>여성</td>\n",
       "      <td>지성</td>\n",
       "      <td>모공</td>\n",
       "      <td>자초 컬러- 쌩얼에 자연스럽게 바르기 좋은 데일리 립밤이에요. 쿨톤인데도 자연스러워...</td>\n",
       "      <td>15332</td>\n",
       "      <td>314</td>\n",
       "    </tr>\n",
       "    <tr>\n",
       "      <th>2</th>\n",
       "      <td>111650000195</td>\n",
       "      <td>한율</td>\n",
       "      <td>CTG002</td>\n",
       "      <td>자연을 닮은 립밤</td>\n",
       "      <td>4500.0</td>\n",
       "      <td>4.6</td>\n",
       "      <td>suma*******</td>\n",
       "      <td>5.0</td>\n",
       "      <td>5.0</td>\n",
       "      <td>여성</td>\n",
       "      <td>건성</td>\n",
       "      <td>민감성</td>\n",
       "      <td>한율 자연을 닮은 립밤을 쓰고 있어요.제가 선택한 제품은 흰감국인데요,무색의 립밤이...</td>\n",
       "      <td>15600</td>\n",
       "      <td>314</td>\n",
       "    </tr>\n",
       "    <tr>\n",
       "      <th>3</th>\n",
       "      <td>111650000195</td>\n",
       "      <td>한율</td>\n",
       "      <td>CTG002</td>\n",
       "      <td>자연을 닮은 립밤</td>\n",
       "      <td>4500.0</td>\n",
       "      <td>4.6</td>\n",
       "      <td>core****</td>\n",
       "      <td>4.0</td>\n",
       "      <td>4.0</td>\n",
       "      <td>여성</td>\n",
       "      <td>건성</td>\n",
       "      <td>민감성</td>\n",
       "      <td>여러  색상중에 선명한 색상을 선호해서 자초로 골랐어요. 개봉했을 때 쨍한 다홍레드...</td>\n",
       "      <td>2991</td>\n",
       "      <td>314</td>\n",
       "    </tr>\n",
       "    <tr>\n",
       "      <th>4</th>\n",
       "      <td>111650000195</td>\n",
       "      <td>한율</td>\n",
       "      <td>CTG002</td>\n",
       "      <td>자연을 닮은 립밤</td>\n",
       "      <td>4500.0</td>\n",
       "      <td>4.6</td>\n",
       "      <td>yuni***</td>\n",
       "      <td>5.0</td>\n",
       "      <td>3.0</td>\n",
       "      <td>여성</td>\n",
       "      <td>중성</td>\n",
       "      <td>탄력없음</td>\n",
       "      <td>립밤이나 립오일을 안바르면 한여름 빼곤 각질이 올라오거나 트는 편이라 립밤 쟁여놓고...</td>\n",
       "      <td>18195</td>\n",
       "      <td>314</td>\n",
       "    </tr>\n",
       "  </tbody>\n",
       "</table>\n",
       "</div>\n",
       "      <button class=\"colab-df-convert\" onclick=\"convertToInteractive('df-31ffa83a-ec7d-4a37-9d62-a5bc1a2adf94')\"\n",
       "              title=\"Convert this dataframe to an interactive table.\"\n",
       "              style=\"display:none;\">\n",
       "        \n",
       "  <svg xmlns=\"http://www.w3.org/2000/svg\" height=\"24px\"viewBox=\"0 0 24 24\"\n",
       "       width=\"24px\">\n",
       "    <path d=\"M0 0h24v24H0V0z\" fill=\"none\"/>\n",
       "    <path d=\"M18.56 5.44l.94 2.06.94-2.06 2.06-.94-2.06-.94-.94-2.06-.94 2.06-2.06.94zm-11 1L8.5 8.5l.94-2.06 2.06-.94-2.06-.94L8.5 2.5l-.94 2.06-2.06.94zm10 10l.94 2.06.94-2.06 2.06-.94-2.06-.94-.94-2.06-.94 2.06-2.06.94z\"/><path d=\"M17.41 7.96l-1.37-1.37c-.4-.4-.92-.59-1.43-.59-.52 0-1.04.2-1.43.59L10.3 9.45l-7.72 7.72c-.78.78-.78 2.05 0 2.83L4 21.41c.39.39.9.59 1.41.59.51 0 1.02-.2 1.41-.59l7.78-7.78 2.81-2.81c.8-.78.8-2.07 0-2.86zM5.41 20L4 18.59l7.72-7.72 1.47 1.35L5.41 20z\"/>\n",
       "  </svg>\n",
       "      </button>\n",
       "      \n",
       "  <style>\n",
       "    .colab-df-container {\n",
       "      display:flex;\n",
       "      flex-wrap:wrap;\n",
       "      gap: 12px;\n",
       "    }\n",
       "\n",
       "    .colab-df-convert {\n",
       "      background-color: #E8F0FE;\n",
       "      border: none;\n",
       "      border-radius: 50%;\n",
       "      cursor: pointer;\n",
       "      display: none;\n",
       "      fill: #1967D2;\n",
       "      height: 32px;\n",
       "      padding: 0 0 0 0;\n",
       "      width: 32px;\n",
       "    }\n",
       "\n",
       "    .colab-df-convert:hover {\n",
       "      background-color: #E2EBFA;\n",
       "      box-shadow: 0px 1px 2px rgba(60, 64, 67, 0.3), 0px 1px 3px 1px rgba(60, 64, 67, 0.15);\n",
       "      fill: #174EA6;\n",
       "    }\n",
       "\n",
       "    [theme=dark] .colab-df-convert {\n",
       "      background-color: #3B4455;\n",
       "      fill: #D2E3FC;\n",
       "    }\n",
       "\n",
       "    [theme=dark] .colab-df-convert:hover {\n",
       "      background-color: #434B5C;\n",
       "      box-shadow: 0px 1px 3px 1px rgba(0, 0, 0, 0.15);\n",
       "      filter: drop-shadow(0px 1px 2px rgba(0, 0, 0, 0.3));\n",
       "      fill: #FFFFFF;\n",
       "    }\n",
       "  </style>\n",
       "\n",
       "      <script>\n",
       "        const buttonEl =\n",
       "          document.querySelector('#df-31ffa83a-ec7d-4a37-9d62-a5bc1a2adf94 button.colab-df-convert');\n",
       "        buttonEl.style.display =\n",
       "          google.colab.kernel.accessAllowed ? 'block' : 'none';\n",
       "\n",
       "        async function convertToInteractive(key) {\n",
       "          const element = document.querySelector('#df-31ffa83a-ec7d-4a37-9d62-a5bc1a2adf94');\n",
       "          const dataTable =\n",
       "            await google.colab.kernel.invokeFunction('convertToInteractive',\n",
       "                                                     [key], {});\n",
       "          if (!dataTable) return;\n",
       "\n",
       "          const docLinkHtml = 'Like what you see? Visit the ' +\n",
       "            '<a target=\"_blank\" href=https://colab.research.google.com/notebooks/data_table.ipynb>data table notebook</a>'\n",
       "            + ' to learn more about interactive tables.';\n",
       "          element.innerHTML = '';\n",
       "          dataTable['output_type'] = 'display_data';\n",
       "          await google.colab.output.renderOutput(dataTable, element);\n",
       "          const docLink = document.createElement('div');\n",
       "          docLink.innerHTML = docLinkHtml;\n",
       "          element.appendChild(docLink);\n",
       "        }\n",
       "      </script>\n",
       "    </div>\n",
       "  </div>\n",
       "  "
      ],
      "text/plain": [
       "        item_id brand_name category_id  item_name   price  avg_rating  \\\n",
       "0  111650000195         한율      CTG002  자연을 닮은 립밤  4500.0         4.6   \n",
       "1  111650000195         한율      CTG002  자연을 닮은 립밤  4500.0         4.6   \n",
       "2  111650000195         한율      CTG002  자연을 닮은 립밤  4500.0         4.6   \n",
       "3  111650000195         한율      CTG002  자연을 닮은 립밤  4500.0         4.6   \n",
       "4  111650000195         한율      CTG002  자연을 닮은 립밤  4500.0         4.6   \n",
       "\n",
       "       user_id  user_rating  age_group gender skin_type skin_info  \\\n",
       "0  suma*******          5.0        5.0     여성        건성       민감성   \n",
       "1     ssae****          5.0        5.0     여성        지성        모공   \n",
       "2  suma*******          5.0        5.0     여성        건성       민감성   \n",
       "3     core****          4.0        4.0     여성        건성       민감성   \n",
       "4      yuni***          5.0        3.0     여성        중성      탄력없음   \n",
       "\n",
       "                                              review  user_replace_id  \\\n",
       "0  한율 자연을 닮은 립밤 흰감국을 구입했어요. 용량은 3.5g으로 종류가 다양한데요,...            15600   \n",
       "1  자초 컬러- 쌩얼에 자연스럽게 바르기 좋은 데일리 립밤이에요. 쿨톤인데도 자연스러워...            15332   \n",
       "2  한율 자연을 닮은 립밤을 쓰고 있어요.제가 선택한 제품은 흰감국인데요,무색의 립밤이...            15600   \n",
       "3  여러  색상중에 선명한 색상을 선호해서 자초로 골랐어요. 개봉했을 때 쨍한 다홍레드...             2991   \n",
       "4  립밤이나 립오일을 안바르면 한여름 빼곤 각질이 올라오거나 트는 편이라 립밤 쟁여놓고...            18195   \n",
       "\n",
       "   item_to_replace_id  \n",
       "0                 314  \n",
       "1                 314  \n",
       "2                 314  \n",
       "3                 314  \n",
       "4                 314  "
      ]
     },
     "execution_count": 19,
     "metadata": {},
     "output_type": "execute_result"
    }
   ],
   "source": [
    "df.head()"
   ]
  },
  {
   "cell_type": "code",
   "execution_count": 20,
   "id": "Hk7CcwHRbiDv",
   "metadata": {
    "id": "Hk7CcwHRbiDv"
   },
   "outputs": [],
   "source": [
    "type_list = df['skin_type'].unique() \n",
    "def change_nums(data):\n",
    "  types = None\n",
    "\n",
    "  if data == type_list[0]:\n",
    "    types = 0\n",
    "  if data == type_list[1]:\n",
    "    types = 1\n",
    "  if data == type_list[2]:\n",
    "    types = 2\n",
    "  if data == type_list[3]:\n",
    "    types = 3\n",
    "  if data == type_list[4]:\n",
    "    types = 4\n",
    "  if data == type_list[5]:\n",
    "    types = 5\n",
    "  \n",
    "  return types\n"
   ]
  },
  {
   "cell_type": "code",
   "execution_count": 21,
   "id": "cRG4761tbpL8",
   "metadata": {
    "colab": {
     "base_uri": "https://localhost:8080/"
    },
    "id": "cRG4761tbpL8",
    "outputId": "dc447c49-1fad-40d8-a53d-66caa34d7915"
   },
   "outputs": [
    {
     "data": {
      "text/plain": [
       "array(['건성', '지성', '중성', '수분부족지성', '복합성', '극건성'], dtype=object)"
      ]
     },
     "execution_count": 21,
     "metadata": {},
     "output_type": "execute_result"
    }
   ],
   "source": [
    "df['skin_type'].unique()"
   ]
  },
  {
   "cell_type": "code",
   "execution_count": 22,
   "id": "pxLV2RuUbJqq",
   "metadata": {
    "id": "pxLV2RuUbJqq"
   },
   "outputs": [],
   "source": [
    "df['skin_type_nums'] = df['skin_type'].map(lambda x : change_nums(x))"
   ]
  },
  {
   "cell_type": "code",
   "execution_count": 22,
   "id": "EKfY_Find3oI",
   "metadata": {
    "id": "EKfY_Find3oI"
   },
   "outputs": [],
   "source": []
  },
  {
   "cell_type": "code",
   "execution_count": 23,
   "id": "x7BxVVrseQar",
   "metadata": {
    "colab": {
     "base_uri": "https://localhost:8080/",
     "height": 1000
    },
    "id": "x7BxVVrseQar",
    "outputId": "a086452c-ec27-466f-9b1f-504561203cd7"
   },
   "outputs": [
    {
     "data": {
      "text/html": [
       "\n",
       "  <div id=\"df-0732c6d3-fc6b-4dbf-9256-ba98be4c6476\">\n",
       "    <div class=\"colab-df-container\">\n",
       "      <div>\n",
       "<style scoped>\n",
       "    .dataframe tbody tr th:only-of-type {\n",
       "        vertical-align: middle;\n",
       "    }\n",
       "\n",
       "    .dataframe tbody tr th {\n",
       "        vertical-align: top;\n",
       "    }\n",
       "\n",
       "    .dataframe thead th {\n",
       "        text-align: right;\n",
       "    }\n",
       "</style>\n",
       "<table border=\"1\" class=\"dataframe\">\n",
       "  <thead>\n",
       "    <tr style=\"text-align: right;\">\n",
       "      <th></th>\n",
       "      <th>item_id</th>\n",
       "      <th>brand_name</th>\n",
       "      <th>category_id</th>\n",
       "      <th>item_name</th>\n",
       "      <th>price</th>\n",
       "      <th>avg_rating</th>\n",
       "      <th>user_id</th>\n",
       "      <th>user_rating</th>\n",
       "      <th>age_group</th>\n",
       "      <th>gender</th>\n",
       "      <th>skin_type</th>\n",
       "      <th>skin_info</th>\n",
       "      <th>review</th>\n",
       "      <th>user_replace_id</th>\n",
       "      <th>item_to_replace_id</th>\n",
       "      <th>skin_type_nums</th>\n",
       "    </tr>\n",
       "  </thead>\n",
       "  <tbody>\n",
       "    <tr>\n",
       "      <th>0</th>\n",
       "      <td>111650000195</td>\n",
       "      <td>한율</td>\n",
       "      <td>CTG002</td>\n",
       "      <td>자연을 닮은 립밤</td>\n",
       "      <td>4500.0</td>\n",
       "      <td>4.6</td>\n",
       "      <td>suma*******</td>\n",
       "      <td>5.0</td>\n",
       "      <td>5.0</td>\n",
       "      <td>여성</td>\n",
       "      <td>건성</td>\n",
       "      <td>민감성</td>\n",
       "      <td>한율 자연을 닮은 립밤 흰감국을 구입했어요. 용량은 3.5g으로 종류가 다양한데요,...</td>\n",
       "      <td>15600</td>\n",
       "      <td>314</td>\n",
       "      <td>0</td>\n",
       "    </tr>\n",
       "    <tr>\n",
       "      <th>1</th>\n",
       "      <td>111650000195</td>\n",
       "      <td>한율</td>\n",
       "      <td>CTG002</td>\n",
       "      <td>자연을 닮은 립밤</td>\n",
       "      <td>4500.0</td>\n",
       "      <td>4.6</td>\n",
       "      <td>ssae****</td>\n",
       "      <td>5.0</td>\n",
       "      <td>5.0</td>\n",
       "      <td>여성</td>\n",
       "      <td>지성</td>\n",
       "      <td>모공</td>\n",
       "      <td>자초 컬러- 쌩얼에 자연스럽게 바르기 좋은 데일리 립밤이에요. 쿨톤인데도 자연스러워...</td>\n",
       "      <td>15332</td>\n",
       "      <td>314</td>\n",
       "      <td>1</td>\n",
       "    </tr>\n",
       "    <tr>\n",
       "      <th>2</th>\n",
       "      <td>111650000195</td>\n",
       "      <td>한율</td>\n",
       "      <td>CTG002</td>\n",
       "      <td>자연을 닮은 립밤</td>\n",
       "      <td>4500.0</td>\n",
       "      <td>4.6</td>\n",
       "      <td>suma*******</td>\n",
       "      <td>5.0</td>\n",
       "      <td>5.0</td>\n",
       "      <td>여성</td>\n",
       "      <td>건성</td>\n",
       "      <td>민감성</td>\n",
       "      <td>한율 자연을 닮은 립밤을 쓰고 있어요.제가 선택한 제품은 흰감국인데요,무색의 립밤이...</td>\n",
       "      <td>15600</td>\n",
       "      <td>314</td>\n",
       "      <td>0</td>\n",
       "    </tr>\n",
       "    <tr>\n",
       "      <th>3</th>\n",
       "      <td>111650000195</td>\n",
       "      <td>한율</td>\n",
       "      <td>CTG002</td>\n",
       "      <td>자연을 닮은 립밤</td>\n",
       "      <td>4500.0</td>\n",
       "      <td>4.6</td>\n",
       "      <td>core****</td>\n",
       "      <td>4.0</td>\n",
       "      <td>4.0</td>\n",
       "      <td>여성</td>\n",
       "      <td>건성</td>\n",
       "      <td>민감성</td>\n",
       "      <td>여러  색상중에 선명한 색상을 선호해서 자초로 골랐어요. 개봉했을 때 쨍한 다홍레드...</td>\n",
       "      <td>2991</td>\n",
       "      <td>314</td>\n",
       "      <td>0</td>\n",
       "    </tr>\n",
       "    <tr>\n",
       "      <th>4</th>\n",
       "      <td>111650000195</td>\n",
       "      <td>한율</td>\n",
       "      <td>CTG002</td>\n",
       "      <td>자연을 닮은 립밤</td>\n",
       "      <td>4500.0</td>\n",
       "      <td>4.6</td>\n",
       "      <td>yuni***</td>\n",
       "      <td>5.0</td>\n",
       "      <td>3.0</td>\n",
       "      <td>여성</td>\n",
       "      <td>중성</td>\n",
       "      <td>탄력없음</td>\n",
       "      <td>립밤이나 립오일을 안바르면 한여름 빼곤 각질이 올라오거나 트는 편이라 립밤 쟁여놓고...</td>\n",
       "      <td>18195</td>\n",
       "      <td>314</td>\n",
       "      <td>2</td>\n",
       "    </tr>\n",
       "  </tbody>\n",
       "</table>\n",
       "</div>\n",
       "      <button class=\"colab-df-convert\" onclick=\"convertToInteractive('df-0732c6d3-fc6b-4dbf-9256-ba98be4c6476')\"\n",
       "              title=\"Convert this dataframe to an interactive table.\"\n",
       "              style=\"display:none;\">\n",
       "        \n",
       "  <svg xmlns=\"http://www.w3.org/2000/svg\" height=\"24px\"viewBox=\"0 0 24 24\"\n",
       "       width=\"24px\">\n",
       "    <path d=\"M0 0h24v24H0V0z\" fill=\"none\"/>\n",
       "    <path d=\"M18.56 5.44l.94 2.06.94-2.06 2.06-.94-2.06-.94-.94-2.06-.94 2.06-2.06.94zm-11 1L8.5 8.5l.94-2.06 2.06-.94-2.06-.94L8.5 2.5l-.94 2.06-2.06.94zm10 10l.94 2.06.94-2.06 2.06-.94-2.06-.94-.94-2.06-.94 2.06-2.06.94z\"/><path d=\"M17.41 7.96l-1.37-1.37c-.4-.4-.92-.59-1.43-.59-.52 0-1.04.2-1.43.59L10.3 9.45l-7.72 7.72c-.78.78-.78 2.05 0 2.83L4 21.41c.39.39.9.59 1.41.59.51 0 1.02-.2 1.41-.59l7.78-7.78 2.81-2.81c.8-.78.8-2.07 0-2.86zM5.41 20L4 18.59l7.72-7.72 1.47 1.35L5.41 20z\"/>\n",
       "  </svg>\n",
       "      </button>\n",
       "      \n",
       "  <style>\n",
       "    .colab-df-container {\n",
       "      display:flex;\n",
       "      flex-wrap:wrap;\n",
       "      gap: 12px;\n",
       "    }\n",
       "\n",
       "    .colab-df-convert {\n",
       "      background-color: #E8F0FE;\n",
       "      border: none;\n",
       "      border-radius: 50%;\n",
       "      cursor: pointer;\n",
       "      display: none;\n",
       "      fill: #1967D2;\n",
       "      height: 32px;\n",
       "      padding: 0 0 0 0;\n",
       "      width: 32px;\n",
       "    }\n",
       "\n",
       "    .colab-df-convert:hover {\n",
       "      background-color: #E2EBFA;\n",
       "      box-shadow: 0px 1px 2px rgba(60, 64, 67, 0.3), 0px 1px 3px 1px rgba(60, 64, 67, 0.15);\n",
       "      fill: #174EA6;\n",
       "    }\n",
       "\n",
       "    [theme=dark] .colab-df-convert {\n",
       "      background-color: #3B4455;\n",
       "      fill: #D2E3FC;\n",
       "    }\n",
       "\n",
       "    [theme=dark] .colab-df-convert:hover {\n",
       "      background-color: #434B5C;\n",
       "      box-shadow: 0px 1px 3px 1px rgba(0, 0, 0, 0.15);\n",
       "      filter: drop-shadow(0px 1px 2px rgba(0, 0, 0, 0.3));\n",
       "      fill: #FFFFFF;\n",
       "    }\n",
       "  </style>\n",
       "\n",
       "      <script>\n",
       "        const buttonEl =\n",
       "          document.querySelector('#df-0732c6d3-fc6b-4dbf-9256-ba98be4c6476 button.colab-df-convert');\n",
       "        buttonEl.style.display =\n",
       "          google.colab.kernel.accessAllowed ? 'block' : 'none';\n",
       "\n",
       "        async function convertToInteractive(key) {\n",
       "          const element = document.querySelector('#df-0732c6d3-fc6b-4dbf-9256-ba98be4c6476');\n",
       "          const dataTable =\n",
       "            await google.colab.kernel.invokeFunction('convertToInteractive',\n",
       "                                                     [key], {});\n",
       "          if (!dataTable) return;\n",
       "\n",
       "          const docLinkHtml = 'Like what you see? Visit the ' +\n",
       "            '<a target=\"_blank\" href=https://colab.research.google.com/notebooks/data_table.ipynb>data table notebook</a>'\n",
       "            + ' to learn more about interactive tables.';\n",
       "          element.innerHTML = '';\n",
       "          dataTable['output_type'] = 'display_data';\n",
       "          await google.colab.output.renderOutput(dataTable, element);\n",
       "          const docLink = document.createElement('div');\n",
       "          docLink.innerHTML = docLinkHtml;\n",
       "          element.appendChild(docLink);\n",
       "        }\n",
       "      </script>\n",
       "    </div>\n",
       "  </div>\n",
       "  "
      ],
      "text/plain": [
       "        item_id brand_name category_id  item_name   price  avg_rating  \\\n",
       "0  111650000195         한율      CTG002  자연을 닮은 립밤  4500.0         4.6   \n",
       "1  111650000195         한율      CTG002  자연을 닮은 립밤  4500.0         4.6   \n",
       "2  111650000195         한율      CTG002  자연을 닮은 립밤  4500.0         4.6   \n",
       "3  111650000195         한율      CTG002  자연을 닮은 립밤  4500.0         4.6   \n",
       "4  111650000195         한율      CTG002  자연을 닮은 립밤  4500.0         4.6   \n",
       "\n",
       "       user_id  user_rating  age_group gender skin_type skin_info  \\\n",
       "0  suma*******          5.0        5.0     여성        건성       민감성   \n",
       "1     ssae****          5.0        5.0     여성        지성        모공   \n",
       "2  suma*******          5.0        5.0     여성        건성       민감성   \n",
       "3     core****          4.0        4.0     여성        건성       민감성   \n",
       "4      yuni***          5.0        3.0     여성        중성      탄력없음   \n",
       "\n",
       "                                              review  user_replace_id  \\\n",
       "0  한율 자연을 닮은 립밤 흰감국을 구입했어요. 용량은 3.5g으로 종류가 다양한데요,...            15600   \n",
       "1  자초 컬러- 쌩얼에 자연스럽게 바르기 좋은 데일리 립밤이에요. 쿨톤인데도 자연스러워...            15332   \n",
       "2  한율 자연을 닮은 립밤을 쓰고 있어요.제가 선택한 제품은 흰감국인데요,무색의 립밤이...            15600   \n",
       "3  여러  색상중에 선명한 색상을 선호해서 자초로 골랐어요. 개봉했을 때 쨍한 다홍레드...             2991   \n",
       "4  립밤이나 립오일을 안바르면 한여름 빼곤 각질이 올라오거나 트는 편이라 립밤 쟁여놓고...            18195   \n",
       "\n",
       "   item_to_replace_id  skin_type_nums  \n",
       "0                 314               0  \n",
       "1                 314               1  \n",
       "2                 314               0  \n",
       "3                 314               0  \n",
       "4                 314               2  "
      ]
     },
     "execution_count": 23,
     "metadata": {},
     "output_type": "execute_result"
    }
   ],
   "source": [
    "df.head()"
   ]
  },
  {
   "cell_type": "code",
   "execution_count": 24,
   "id": "U0kz8Mp1eGI3",
   "metadata": {
    "colab": {
     "base_uri": "https://localhost:8080/"
    },
    "id": "U0kz8Mp1eGI3",
    "outputId": "0e6a6d0f-9d2a-4bc9-d2e9-6861ea1bc7ac"
   },
   "outputs": [
    {
     "data": {
      "text/plain": [
       "array(['민감성', '모공', '탄력없음', '칙칙함', '트러블', '건조함', '주름'], dtype=object)"
      ]
     },
     "execution_count": 24,
     "metadata": {},
     "output_type": "execute_result"
    }
   ],
   "source": [
    "df['skin_info'].unique() "
   ]
  },
  {
   "cell_type": "code",
   "execution_count": 25,
   "id": "sZe3d7-zeBgp",
   "metadata": {
    "id": "sZe3d7-zeBgp"
   },
   "outputs": [],
   "source": [
    "type_list2 = df['skin_info'].unique() \n",
    "def change_nums(data):\n",
    "  types = None\n",
    "\n",
    "  if data == type_list2[0]:\n",
    "    types = 0\n",
    "  if data == type_list2[1]:\n",
    "    types = 1\n",
    "  if data == type_list2[2]:\n",
    "    types = 2\n",
    "  if data == type_list2[3]:\n",
    "    types = 3\n",
    "  if data == type_list2[4]:\n",
    "    types = 4\n",
    "  if data == type_list2[5]:\n",
    "    types = 5\n",
    "  if data == type_list2[6]:\n",
    "    types = 6\n",
    "  return types\n"
   ]
  },
  {
   "cell_type": "code",
   "execution_count": 26,
   "id": "x_N7GVQ0eUjL",
   "metadata": {
    "id": "x_N7GVQ0eUjL"
   },
   "outputs": [],
   "source": [
    "df['skin_info_nums'] = df['skin_info'].map(lambda x : change_nums(x))"
   ]
  },
  {
   "cell_type": "code",
   "execution_count": 27,
   "id": "BgUzwmtMebhy",
   "metadata": {
    "colab": {
     "base_uri": "https://localhost:8080/"
    },
    "id": "BgUzwmtMebhy",
    "outputId": "0607362e-6a55-49d5-e378-60adaf4ee291"
   },
   "outputs": [
    {
     "data": {
      "text/plain": [
       "0        0\n",
       "1        1\n",
       "2        0\n",
       "3        0\n",
       "4        2\n",
       "        ..\n",
       "99824    5\n",
       "99825    5\n",
       "99826    5\n",
       "99827    4\n",
       "99828    4\n",
       "Name: skin_info_nums, Length: 99828, dtype: int64"
      ]
     },
     "execution_count": 27,
     "metadata": {},
     "output_type": "execute_result"
    }
   ],
   "source": [
    "df['skin_info_nums']"
   ]
  },
  {
   "cell_type": "code",
   "execution_count": 28,
   "id": "e40fea49-6ce3-41d5-bf6f-e1f5ff923787",
   "metadata": {
    "id": "e40fea49-6ce3-41d5-bf6f-e1f5ff923787"
   },
   "outputs": [],
   "source": [
    "df['gender'] = df['gender'].map(lambda x: 1 if x == '남성' else 0)"
   ]
  },
  {
   "cell_type": "code",
   "execution_count": 29,
   "id": "872cff63-78a8-496f-a236-ee404e430345",
   "metadata": {
    "id": "872cff63-78a8-496f-a236-ee404e430345"
   },
   "outputs": [],
   "source": [
    "ratings = df['user_rating']"
   ]
  },
  {
   "cell_type": "code",
   "execution_count": 30,
   "id": "57092663-b39c-48c4-95ea-11d217a1d980",
   "metadata": {
    "colab": {
     "base_uri": "https://localhost:8080/"
    },
    "id": "57092663-b39c-48c4-95ea-11d217a1d980",
    "outputId": "fb568074-66ed-4392-cc85-4f7a598fa043"
   },
   "outputs": [
    {
     "data": {
      "text/plain": [
       "array(['CTG002', 'CTG001', 'CTG004', 'CTG006', 'CTG007', 'CTG005',\n",
       "       'CTG008'], dtype=object)"
      ]
     },
     "execution_count": 30,
     "metadata": {},
     "output_type": "execute_result"
    }
   ],
   "source": [
    "df['category_id'].unique()"
   ]
  },
  {
   "cell_type": "code",
   "execution_count": 31,
   "id": "bafa0c30-9fad-401b-96f6-7096e0acd5a2",
   "metadata": {
    "id": "bafa0c30-9fad-401b-96f6-7096e0acd5a2"
   },
   "outputs": [],
   "source": [
    "type_list3 =['CTG001','CTG002',  'CTG003', 'CTG004', 'CTG005', 'CTG006', 'CTG007',\"CTG008\"]\n",
    "def change_nums(data):\n",
    "  types = None\n",
    "\n",
    "  if data == type_list3[0]:\n",
    "    types = 0\n",
    "  if data == type_list3[1]:\n",
    "    types = 1\n",
    "  if data == type_list3[2]:\n",
    "    types = 2\n",
    "  if data == type_list3[3]:\n",
    "    types = 3\n",
    "  if data == type_list3[4]:\n",
    "    types = 4\n",
    "  if data == type_list3[5]:\n",
    "    types = 5\n",
    "  if data == type_list3[6]:\n",
    "    types = 6\n",
    "  if data == type_list3[7]:\n",
    "    types = 7\n",
    "  return types"
   ]
  },
  {
   "cell_type": "code",
   "execution_count": 32,
   "id": "2336dbe3-271f-476f-9f4c-8e1fd5349bf8",
   "metadata": {
    "id": "2336dbe3-271f-476f-9f4c-8e1fd5349bf8"
   },
   "outputs": [],
   "source": [
    "df['category_id_nums'] = df['category_id'].map(lambda x:change_nums(x))"
   ]
  },
  {
   "cell_type": "code",
   "execution_count": 33,
   "id": "AdhTgMSofQpY",
   "metadata": {
    "id": "AdhTgMSofQpY"
   },
   "outputs": [],
   "source": [
    "x_data = df[[ 'age_group', 'gender', 'user_replace_id','item_to_replace_id', 'skin_type_nums', 'skin_info_nums','category_id_nums']]"
   ]
  },
  {
   "cell_type": "code",
   "execution_count": 34,
   "id": "b5b2e92b-c177-4011-a84b-9c02e8bd6df5",
   "metadata": {
    "id": "b5b2e92b-c177-4011-a84b-9c02e8bd6df5"
   },
   "outputs": [],
   "source": [
    "ratings = df['user_rating']"
   ]
  },
  {
   "cell_type": "code",
   "execution_count": 35,
   "id": "680a19c5-b912-479b-abea-c770ae97deb0",
   "metadata": {
    "id": "680a19c5-b912-479b-abea-c770ae97deb0"
   },
   "outputs": [],
   "source": [
    "last_dataset = pd.concat([x_data,ratings],axis=1)\n",
    "last_dataset.to_csv(\"./last_dataset.csv\",encoding=\"utf-8-sig\")"
   ]
  },
  {
   "cell_type": "code",
   "execution_count": 36,
   "id": "88b67b0d-f030-4208-ab52-a9586b2ed26f",
   "metadata": {
    "id": "88b67b0d-f030-4208-ab52-a9586b2ed26f"
   },
   "outputs": [],
   "source": [
    "# x_data, y_data"
   ]
  },
  {
   "cell_type": "code",
   "execution_count": 55,
   "id": "3ace7b57-a8f3-434b-b343-3b1d8100a067",
   "metadata": {
    "colab": {
     "base_uri": "https://localhost:8080/",
     "height": 462,
     "referenced_widgets": [
      "5913422544554e4a87ce791a28073135",
      "f8dec21cb8b142518c3562cc860b4fa6",
      "3ad1caaf6b6747fd87a95ec130dd9160",
      "205c0dab512b4921ba4cdf5b0f868adf",
      "665a699d438d40d8a34c78d2d9268152",
      "76834222bf8d4463a11f6558b99f19fd",
      "d4c0cfabe1174c338249413b840f618d",
      "78e9a1abcd414bd19d7344efc6370db1"
     ]
    },
    "id": "3ace7b57-a8f3-434b-b343-3b1d8100a067",
    "outputId": "b34f67aa-ab81-42b3-9b3a-4893f8df9192"
   },
   "outputs": [
    {
     "data": {
      "text/html": [
       "Finishing last run (ID:3ho0k65i) before initializing another..."
      ],
      "text/plain": [
       "<IPython.core.display.HTML object>"
      ]
     },
     "metadata": {},
     "output_type": "display_data"
    },
    {
     "data": {
      "text/html": [
       "Waiting for W&B process to finish... <strong style=\"color:green\">(success).</strong>"
      ],
      "text/plain": [
       "<IPython.core.display.HTML object>"
      ]
     },
     "metadata": {},
     "output_type": "display_data"
    },
    {
     "data": {
      "application/vnd.jupyter.widget-view+json": {
       "model_id": "5913422544554e4a87ce791a28073135",
       "version_major": 2,
       "version_minor": 0
      },
      "text/plain": [
       "VBox(children=(Label(value='19106.986 MB of 19106.986 MB uploaded (0.098 MB deduped)\\r'), FloatProgress(value=…"
      ]
     },
     "metadata": {},
     "output_type": "display_data"
    },
    {
     "data": {
      "text/html": [
       "<style>\n",
       "    table.wandb td:nth-child(1) { padding: 0 10px; text-align: left ; width: auto;} td:nth-child(2) {text-align: left ; width: 100%}\n",
       "    .wandb-row { display: flex; flex-direction: row; flex-wrap: wrap; justify-content: flex-start; width: 100% }\n",
       "    .wandb-col { display: flex; flex-direction: column; flex-basis: 100%; flex: 1; padding: 10px; }\n",
       "    </style>\n",
       "<div class=\"wandb-row\"><div class=\"wandb-col\"><h3>Run history:</h3><br/><table class=\"wandb\"><tr><td>epoch</td><td>▁▁▂▂▂▃▃▄▄▄▅▅▅▆▆▆▇▇██▁▁▂▂▃▃▃▄▄▄▅▅▅▆▆▇▇▇██</td></tr><tr><td>loss</td><td>█▅▄▃▃▂▂▂▂▂▂▂▂▂▂▂▂▂▂▂▆▄▂▂▁▁▁▁▁▁▁▁▁▁▁▁▁▁▁▁</td></tr><tr><td>mse</td><td>████████████████████▁▁▁▁▁▁▁▁▁▁▁▁▁▁▁▁▁▁▁▁</td></tr><tr><td>val_loss</td><td>█▅▄▃▃▃▂▂▂▂▂▂▂▂▂▂▂▂▂▂▆▄▂▂▁▁▁▁▁▁▁▁▁▁▁▁▁▁▁▁</td></tr><tr><td>val_mse</td><td>████████████████████▁▁▁▁▁▁▁▁▁▁▁▁▁▁▁▁▁▁▁▁</td></tr></table><br/></div><div class=\"wandb-col\"><h3>Run summary:</h3><br/><table class=\"wandb\"><tr><td>GFLOPs</td><td>0.00413</td></tr><tr><td>best_epoch</td><td>241</td></tr><tr><td>best_val_loss</td><td>0.22977</td></tr><tr><td>epoch</td><td>1</td></tr><tr><td>loss</td><td>76.03043</td></tr><tr><td>mse</td><td>0.30482</td></tr><tr><td>val_loss</td><td>74.95976</td></tr><tr><td>val_mse</td><td>0.27822</td></tr></table><br/></div></div>"
      ],
      "text/plain": [
       "<IPython.core.display.HTML object>"
      ]
     },
     "metadata": {},
     "output_type": "display_data"
    },
    {
     "data": {
      "text/html": [
       "Synced <strong style=\"color:#cdcd00\">spring-cherry-10</strong>: <a href=\"https://wandb.ai/maerad7/kully4/runs/3ho0k65i\" target=\"_blank\">https://wandb.ai/maerad7/kully4/runs/3ho0k65i</a><br/>Synced 5 W&B file(s), 3 media file(s), 1097 artifact file(s) and 1 other file(s)"
      ],
      "text/plain": [
       "<IPython.core.display.HTML object>"
      ]
     },
     "metadata": {},
     "output_type": "display_data"
    },
    {
     "data": {
      "text/html": [
       "Find logs at: <code>./wandb/run-20220824_033359-3ho0k65i/logs</code>"
      ],
      "text/plain": [
       "<IPython.core.display.HTML object>"
      ]
     },
     "metadata": {},
     "output_type": "display_data"
    },
    {
     "data": {
      "text/html": [
       "Successfully finished last run (ID:3ho0k65i). Initializing new run:<br/>"
      ],
      "text/plain": [
       "<IPython.core.display.HTML object>"
      ]
     },
     "metadata": {},
     "output_type": "display_data"
    },
    {
     "data": {
      "text/html": [
       "Tracking run with wandb version 0.13.2"
      ],
      "text/plain": [
       "<IPython.core.display.HTML object>"
      ]
     },
     "metadata": {},
     "output_type": "display_data"
    },
    {
     "data": {
      "text/html": [
       "Run data is saved locally in <code>/content/wandb/run-20220824_054925-2534rsdl</code>"
      ],
      "text/plain": [
       "<IPython.core.display.HTML object>"
      ]
     },
     "metadata": {},
     "output_type": "display_data"
    },
    {
     "data": {
      "text/html": [
       "Syncing run <strong><a href=\"https://wandb.ai/maerad7/kully4/runs/2534rsdl\" target=\"_blank\">desert-bee-11</a></strong> to <a href=\"https://wandb.ai/maerad7/kully4\" target=\"_blank\">Weights & Biases</a> (<a href=\"https://wandb.me/run\" target=\"_blank\">docs</a>)<br/>"
      ],
      "text/plain": [
       "<IPython.core.display.HTML object>"
      ]
     },
     "metadata": {},
     "output_type": "display_data"
    },
    {
     "data": {
      "text/html": [
       "<button onClick=\"this.nextSibling.style.display='block';this.style.display='none';\">Display W&B run</button><iframe src=\"https://wandb.ai/maerad7/kully4/runs/2534rsdl?jupyter=true\" style=\"border:none;width:100%;height:420px;display:none;\"></iframe>"
      ],
      "text/plain": [
       "<wandb.sdk.wandb_run.Run at 0x7f948d0ef190>"
      ]
     },
     "execution_count": 55,
     "metadata": {},
     "output_type": "execute_result"
    }
   ],
   "source": [
    "import tensorflow as tf\n",
    "from tensorflow.keras import layers\n",
    "from tensorflow.keras.models import Model\n",
    "from tensorflow.keras.layers import Input, Embedding, Dot, Add, Flatten, Dropout\n",
    "from tensorflow.keras.regularizers import l2\n",
    "from tensorflow.keras.optimizers import SGD, Adamax\n",
    "from sklearn.model_selection import train_test_split\n",
    "pd.set_option('display.max_columns', 100)\n",
    "from tensorflow.keras.layers import Dense, Concatenate, Activation\n",
    "import wandb\n",
    "from wandb.keras import WandbCallback\n",
    "wandb.init(project=\"kully4\")\n",
    "\n"
   ]
  },
  {
   "cell_type": "code",
   "execution_count": 56,
   "id": "77776746-210e-4553-9e40-991a7f27ef4c",
   "metadata": {
    "id": "77776746-210e-4553-9e40-991a7f27ef4c"
   },
   "outputs": [],
   "source": [
    "# train_test_split"
   ]
  },
  {
   "cell_type": "code",
   "execution_count": 57,
   "id": "af08e617-a1b2-4d84-b284-8cf4c06139d2",
   "metadata": {
    "id": "af08e617-a1b2-4d84-b284-8cf4c06139d2"
   },
   "outputs": [],
   "source": [
    "x_train, x_test, y_train, y_test = train_test_split(x_data, ratings, test_size=0.3, random_state=777, stratify=ratings) "
   ]
  },
  {
   "cell_type": "code",
   "execution_count": 58,
   "id": "abaf987e-2fea-4a18-a085-52f85e3b8fac",
   "metadata": {
    "colab": {
     "base_uri": "https://localhost:8080/"
    },
    "id": "abaf987e-2fea-4a18-a085-52f85e3b8fac",
    "outputId": "8c30b7f5-2cc4-4fbd-a5e0-396eba9cf2e1"
   },
   "outputs": [
    {
     "data": {
      "text/plain": [
       "array([1, 0, 5, 3, 4, 6, 2])"
      ]
     },
     "execution_count": 58,
     "metadata": {},
     "output_type": "execute_result"
    }
   ],
   "source": [
    "x_train.skin_info_nums.unique()"
   ]
  },
  {
   "cell_type": "code",
   "execution_count": 59,
   "id": "a8b7ecd0-a96d-44ef-a553-b3e8413dd907",
   "metadata": {
    "id": "a8b7ecd0-a96d-44ef-a553-b3e8413dd907"
   },
   "outputs": [],
   "source": [
    "x_train_skin_info = x_train['skin_info_nums'].to_numpy()\n",
    "x_train_skin_type = x_train['skin_type_nums'].to_numpy()\n",
    "x_train_age_group = x_train['age_group'].to_numpy()\n",
    "x_train_user = x_train[[\"user_replace_id\"]].to_numpy()\n",
    "x_train_item = x_train[[\"item_to_replace_id\"]].to_numpy()\n",
    "x_train_gender = x_train[['gender']].to_numpy()\n",
    "x_train_category = x_train[['category_id_nums']].to_numpy()"
   ]
  },
  {
   "cell_type": "code",
   "execution_count": 60,
   "id": "f7002502-ea2f-4544-946b-46c041022adf",
   "metadata": {
    "id": "f7002502-ea2f-4544-946b-46c041022adf"
   },
   "outputs": [],
   "source": [
    "x_test_skin_info = x_test['skin_info_nums'].to_numpy()\n",
    "x_test_skin_type = x_test['skin_type_nums'].to_numpy()\n",
    "x_test_age_group = x_test['age_group'].to_numpy()\n",
    "x_test_user = x_test[[\"user_replace_id\"]].to_numpy()\n",
    "x_test_item = x_test[[\"item_to_replace_id\"]].to_numpy()\n",
    "x_test_gender = x_test[['gender']].to_numpy()\n",
    "x_test_category = x_test[['category_id_nums']].to_numpy()"
   ]
  },
  {
   "cell_type": "code",
   "execution_count": 61,
   "id": "1758946d-5817-4754-8fdc-9bb07246d3a6",
   "metadata": {
    "id": "1758946d-5817-4754-8fdc-9bb07246d3a6"
   },
   "outputs": [],
   "source": [
    "y_train = y_train.to_numpy()\n",
    "y_test = y_test.to_numpy()"
   ]
  },
  {
   "cell_type": "code",
   "execution_count": 62,
   "id": "d7fef171-d882-4c44-b166-4b754dce15c6",
   "metadata": {
    "id": "d7fef171-d882-4c44-b166-4b754dce15c6"
   },
   "outputs": [],
   "source": [
    "# Variable 초기화 \n",
    "K = 500                            # Latent factor 수 \n",
    "mu = y_train.mean()    # 전체 평균 \n",
    "M = x_data.user_replace_id.max() + 1       # Number of users\n",
    "N = x_data.item_to_replace_id.max() + 1      # Number of movies"
   ]
  },
  {
   "cell_type": "code",
   "execution_count": 63,
   "id": "sJX87rYXGptt",
   "metadata": {
    "id": "sJX87rYXGptt"
   },
   "outputs": [],
   "source": [
    "config = wandb.config\n",
    "config.K = 500\n",
    "config.first_layer = 2048\n",
    "config.second_layer = 512\n",
    "config.learn_rate = 0.005\n",
    "config.epochs = 250"
   ]
  },
  {
   "cell_type": "code",
   "execution_count": 64,
   "id": "a708e2f6-7949-48eb-a58c-534a460120f4",
   "metadata": {
    "colab": {
     "base_uri": "https://localhost:8080/"
    },
    "id": "a708e2f6-7949-48eb-a58c-534a460120f4",
    "outputId": "6dd24e35-0e25-4692-d66a-8bccc693a5d7"
   },
   "outputs": [
    {
     "name": "stdout",
     "output_type": "stream",
     "text": [
      "Model: \"model\"\n",
      "__________________________________________________________________________________________________\n",
      " Layer (type)                   Output Shape         Param #     Connected to                     \n",
      "==================================================================================================\n",
      " input_22 (InputLayer)          [(None, 1)]          0           []                               \n",
      "                                                                                                  \n",
      " input_23 (InputLayer)          [(None, 1)]          0           []                               \n",
      "                                                                                                  \n",
      " input_24 (InputLayer)          [(None, 1)]          0           []                               \n",
      "                                                                                                  \n",
      " input_25 (InputLayer)          [(None, 1)]          0           []                               \n",
      "                                                                                                  \n",
      " input_26 (InputLayer)          [(None, 1)]          0           []                               \n",
      "                                                                                                  \n",
      " input_27 (InputLayer)          [(None, 1)]          0           []                               \n",
      "                                                                                                  \n",
      " input_28 (InputLayer)          [(None, 1)]          0           []                               \n",
      "                                                                                                  \n",
      " embedding (Embedding)          (None, 1, 500)       9249500     ['input_22[0][0]']               \n",
      "                                                                                                  \n",
      " embedding_1 (Embedding)        (None, 1, 500)       198500      ['input_23[0][0]']               \n",
      "                                                                                                  \n",
      " embedding_2 (Embedding)        (None, 1, 1)         18499       ['input_22[0][0]']               \n",
      "                                                                                                  \n",
      " embedding_3 (Embedding)        (None, 1, 1)         397         ['input_23[0][0]']               \n",
      "                                                                                                  \n",
      " embedding_4 (Embedding)        (None, 1, 100)       600         ['input_24[0][0]']               \n",
      "                                                                                                  \n",
      " embedding_5 (Embedding)        (None, 1, 100)       700         ['input_25[0][0]']               \n",
      "                                                                                                  \n",
      " embedding_6 (Embedding)        (None, 1, 100)       500         ['input_26[0][0]']               \n",
      "                                                                                                  \n",
      " embedding_7 (Embedding)        (None, 1, 100)       500         ['input_27[0][0]']               \n",
      "                                                                                                  \n",
      " embedding_8 (Embedding)        (None, 1, 100)       800         ['input_28[0][0]']               \n",
      "                                                                                                  \n",
      " flatten (Flatten)              (None, 500)          0           ['embedding[0][0]']              \n",
      "                                                                                                  \n",
      " flatten_1 (Flatten)            (None, 500)          0           ['embedding_1[0][0]']            \n",
      "                                                                                                  \n",
      " flatten_2 (Flatten)            (None, 1)            0           ['embedding_2[0][0]']            \n",
      "                                                                                                  \n",
      " flatten_3 (Flatten)            (None, 1)            0           ['embedding_3[0][0]']            \n",
      "                                                                                                  \n",
      " flatten_4 (Flatten)            (None, 100)          0           ['embedding_4[0][0]']            \n",
      "                                                                                                  \n",
      " flatten_5 (Flatten)            (None, 100)          0           ['embedding_5[0][0]']            \n",
      "                                                                                                  \n",
      " flatten_6 (Flatten)            (None, 100)          0           ['embedding_6[0][0]']            \n",
      "                                                                                                  \n",
      " flatten_7 (Flatten)            (None, 100)          0           ['embedding_7[0][0]']            \n",
      "                                                                                                  \n",
      " flatten_8 (Flatten)            (None, 100)          0           ['embedding_8[0][0]']            \n",
      "                                                                                                  \n",
      " concatenate (Concatenate)      (None, 1502)         0           ['flatten[0][0]',                \n",
      "                                                                  'flatten_1[0][0]',              \n",
      "                                                                  'flatten_2[0][0]',              \n",
      "                                                                  'flatten_3[0][0]',              \n",
      "                                                                  'flatten_4[0][0]',              \n",
      "                                                                  'flatten_5[0][0]',              \n",
      "                                                                  'flatten_6[0][0]',              \n",
      "                                                                  'flatten_7[0][0]',              \n",
      "                                                                  'flatten_8[0][0]']              \n",
      "                                                                                                  \n",
      " dense (Dense)                  (None, 2048)         3078144     ['concatenate[0][0]']            \n",
      "                                                                                                  \n",
      " activation (Activation)        (None, 2048)         0           ['dense[0][0]']                  \n",
      "                                                                                                  \n",
      " dropout (Dropout)              (None, 2048)         0           ['activation[0][0]']             \n",
      "                                                                                                  \n",
      " dense_1 (Dense)                (None, 512)          1049088     ['dropout[0][0]']                \n",
      "                                                                                                  \n",
      " activation_1 (Activation)      (None, 512)          0           ['dense_1[0][0]']                \n",
      "                                                                                                  \n",
      " dropout_1 (Dropout)            (None, 512)          0           ['activation_1[0][0]']           \n",
      "                                                                                                  \n",
      " dense_2 (Dense)                (None, 1)            513         ['dropout_1[0][0]']              \n",
      "                                                                                                  \n",
      "==================================================================================================\n",
      "Total params: 13,597,741\n",
      "Trainable params: 13,597,741\n",
      "Non-trainable params: 0\n",
      "__________________________________________________________________________________________________\n"
     ]
    },
    {
     "name": "stderr",
     "output_type": "stream",
     "text": [
      "/usr/local/lib/python3.7/dist-packages/keras/optimizer_v2/gradient_descent.py:102: UserWarning: The `lr` argument is deprecated, use `learning_rate` instead.\n",
      "  super(SGD, self).__init__(name, **kwargs)\n"
     ]
    }
   ],
   "source": [
    "user = Input(shape=(1, )) # user_id\n",
    "item = Input(shape=(1, )) # item_id\n",
    "skin_type = Input(shape=(1, )) # skin_type 6\n",
    "skin_info = Input(shape=(1, )) # skin_info 7\n",
    "age_group = Input(shape=(1, )) # age 5\n",
    "gender = Input(shape=(1, )) # gender 1\n",
    "category = Input(shape=(1, )) # category 8\n",
    "\n",
    "P_embedding = Embedding(M, K, embeddings_regularizer=l2())(user)\n",
    "Q_embedding = Embedding(N, K, embeddings_regularizer=l2())(item)\n",
    "user_bias = Embedding(M, 1, embeddings_regularizer=l2())(user)\n",
    "item_bias = Embedding(N, 1, embeddings_regularizer=l2())(item)\n",
    "\n",
    "skin_type_embedding = Embedding(6,100)(skin_type)\n",
    "skin_info_embedding = Embedding(7,100)(skin_info)\n",
    "age_group_embedding = Embedding(5,100)(age_group)\n",
    "gender_embedding = Embedding(5,100)(gender)\n",
    "category_embedding = Embedding(8,100)(category)\n",
    "\n",
    "P_embedding = Flatten()(P_embedding)\n",
    "Q_embedding = Flatten()(Q_embedding)\n",
    "user_bias = Flatten()(user_bias)\n",
    "item_bias = Flatten()(item_bias)\n",
    "\n",
    "skin_type_layer = Flatten()(skin_type_embedding)\n",
    "skin_info_layer = Flatten()(skin_info_embedding)\n",
    "age_group_layer = Flatten()(age_group_embedding)\n",
    "gender_group_layer = Flatten()(gender_embedding)\n",
    "category_group_layer = Flatten()(category_embedding)\n",
    "\n",
    "\n",
    "R = Concatenate()([P_embedding, Q_embedding, user_bias, item_bias,skin_type_layer,skin_info_layer,age_group_layer,gender_group_layer,category_group_layer])\n",
    "R = Dense(config.first_layer)(R)\n",
    "R = Activation('relu')(R)\n",
    "R = Dropout(0.2)(R)\n",
    "R = Dense(config.second_layer)(R)\n",
    "R = Activation('linear')(R)\n",
    "R = Dropout(0.2)(R)\n",
    "R = Dense(1)(R)\n",
    "model = Model(inputs=[user, item, skin_type,skin_info,age_group,gender,category], outputs=R)\n",
    "\n",
    "model.compile(\n",
    "  loss=\"mse\",\n",
    "  optimizer=SGD(lr=config.learn_rate),\n",
    "  # optimizer=Adamax(),\n",
    "  metrics=\"mse\"\n",
    ")\n",
    "model.summary()\n"
   ]
  },
  {
   "cell_type": "code",
   "execution_count": 65,
   "id": "c33095a7-8c3f-45d5-97a4-51e7f0795872",
   "metadata": {
    "colab": {
     "base_uri": "https://localhost:8080/"
    },
    "id": "c33095a7-8c3f-45d5-97a4-51e7f0795872",
    "outputId": "5275c809-7094-4e5c-db34-e2bb3f7e2952"
   },
   "outputs": [
    {
     "name": "stdout",
     "output_type": "stream",
     "text": [
      "Epoch 1/250\n",
      "  5/137 [>.............................] - ETA: 1s - loss: 98.0206 - mse: 19.1248   "
     ]
    },
    {
     "name": "stderr",
     "output_type": "stream",
     "text": [
      "WARNING:tensorflow:Callback method `on_train_batch_end` is slow compared to the batch time (batch time: 0.0065s vs `on_train_batch_end` time: 0.0068s). Check your callbacks.\n"
     ]
    },
    {
     "name": "stdout",
     "output_type": "stream",
     "text": [
      "132/137 [===========================>..] - ETA: 0s - loss: 79.5184 - mse: 1.6154"
     ]
    },
    {
     "name": "stderr",
     "output_type": "stream",
     "text": [
      "\u001b[34m\u001b[1mwandb\u001b[0m: Adding directory to artifact (/content/wandb/run-20220824_054925-2534rsdl/files/model-best)... Done. 0.6s\n"
     ]
    },
    {
     "name": "stdout",
     "output_type": "stream",
     "text": [
      "137/137 [==============================] - 7s 44ms/step - loss: 79.4416 - mse: 1.5733 - val_loss: 77.0832 - val_mse: 0.2885\n",
      "Epoch 2/250\n",
      "134/137 [============================>.] - ETA: 0s - loss: 76.0876 - mse: 0.3053"
     ]
    },
    {
     "name": "stderr",
     "output_type": "stream",
     "text": [
      "\u001b[34m\u001b[1mwandb\u001b[0m: Adding directory to artifact (/content/wandb/run-20220824_054925-2534rsdl/files/model-best)... Done. 0.6s\n"
     ]
    },
    {
     "name": "stdout",
     "output_type": "stream",
     "text": [
      "137/137 [==============================] - 5s 34ms/step - loss: 76.0684 - mse: 0.3049 - val_loss: 74.9968 - val_mse: 0.2778\n",
      "Epoch 3/250\n",
      "133/137 [============================>.] - ETA: 0s - loss: 74.0400 - mse: 0.2987"
     ]
    },
    {
     "name": "stderr",
     "output_type": "stream",
     "text": [
      "\u001b[34m\u001b[1mwandb\u001b[0m: Adding directory to artifact (/content/wandb/run-20220824_054925-2534rsdl/files/model-best)... Done. 0.5s\n"
     ]
    },
    {
     "name": "stdout",
     "output_type": "stream",
     "text": [
      "137/137 [==============================] - 5s 34ms/step - loss: 74.0131 - mse: 0.2974 - val_loss: 72.9735 - val_mse: 0.2742\n",
      "Epoch 4/250\n",
      "135/137 [============================>.] - ETA: 0s - loss: 72.0295 - mse: 0.2957"
     ]
    },
    {
     "name": "stderr",
     "output_type": "stream",
     "text": [
      "\u001b[34m\u001b[1mwandb\u001b[0m: Adding directory to artifact (/content/wandb/run-20220824_054925-2534rsdl/files/model-best)... Done. 0.5s\n"
     ]
    },
    {
     "name": "stdout",
     "output_type": "stream",
     "text": [
      "137/137 [==============================] - 4s 33ms/step - loss: 72.0189 - mse: 0.2958 - val_loss: 71.0067 - val_mse: 0.2724\n",
      "Epoch 5/250\n",
      "134/137 [============================>.] - ETA: 0s - loss: 70.0955 - mse: 0.2938"
     ]
    },
    {
     "name": "stderr",
     "output_type": "stream",
     "text": [
      "\u001b[34m\u001b[1mwandb\u001b[0m: Adding directory to artifact (/content/wandb/run-20220824_054925-2534rsdl/files/model-best)... Done. 0.5s\n"
     ]
    },
    {
     "name": "stdout",
     "output_type": "stream",
     "text": [
      "137/137 [==============================] - 5s 33ms/step - loss: 70.0786 - mse: 0.2941 - val_loss: 69.0937 - val_mse: 0.2714\n",
      "Epoch 6/250\n",
      "133/137 [============================>.] - ETA: 0s - loss: 68.2144 - mse: 0.2927"
     ]
    },
    {
     "name": "stderr",
     "output_type": "stream",
     "text": [
      "\u001b[34m\u001b[1mwandb\u001b[0m: Adding directory to artifact (/content/wandb/run-20220824_054925-2534rsdl/files/model-best)... Done. 0.5s\n"
     ]
    },
    {
     "name": "stdout",
     "output_type": "stream",
     "text": [
      "137/137 [==============================] - 5s 34ms/step - loss: 68.1905 - mse: 0.2923 - val_loss: 67.2327 - val_mse: 0.2707\n",
      "Epoch 7/250\n",
      "134/137 [============================>.] - ETA: 0s - loss: 66.3716 - mse: 0.2924"
     ]
    },
    {
     "name": "stderr",
     "output_type": "stream",
     "text": [
      "\u001b[34m\u001b[1mwandb\u001b[0m: Adding directory to artifact (/content/wandb/run-20220824_054925-2534rsdl/files/model-best)... Done. 0.6s\n"
     ]
    },
    {
     "name": "stdout",
     "output_type": "stream",
     "text": [
      "137/137 [==============================] - 5s 34ms/step - loss: 66.3553 - mse: 0.2924 - val_loss: 65.4225 - val_mse: 0.2705\n",
      "Epoch 8/250\n",
      "134/137 [============================>.] - ETA: 0s - loss: 64.5841 - mse: 0.2910"
     ]
    },
    {
     "name": "stderr",
     "output_type": "stream",
     "text": [
      "\u001b[34m\u001b[1mwandb\u001b[0m: Adding directory to artifact (/content/wandb/run-20220824_054925-2534rsdl/files/model-best)... Done. 0.6s\n"
     ]
    },
    {
     "name": "stdout",
     "output_type": "stream",
     "text": [
      "137/137 [==============================] - 4s 33ms/step - loss: 64.5680 - mse: 0.2907 - val_loss: 63.6607 - val_mse: 0.2697\n",
      "Epoch 9/250\n",
      "136/137 [============================>.] - ETA: 0s - loss: 62.8329 - mse: 0.2901"
     ]
    },
    {
     "name": "stderr",
     "output_type": "stream",
     "text": [
      "\u001b[34m\u001b[1mwandb\u001b[0m: Adding directory to artifact (/content/wandb/run-20220824_054925-2534rsdl/files/model-best)... Done. 0.6s\n"
     ]
    },
    {
     "name": "stdout",
     "output_type": "stream",
     "text": [
      "137/137 [==============================] - 5s 36ms/step - loss: 62.8299 - mse: 0.2900 - val_loss: 61.9469 - val_mse: 0.2693\n",
      "Epoch 10/250\n",
      "134/137 [============================>.] - ETA: 0s - loss: 61.1539 - mse: 0.2895"
     ]
    },
    {
     "name": "stderr",
     "output_type": "stream",
     "text": [
      "\u001b[34m\u001b[1mwandb\u001b[0m: Adding directory to artifact (/content/wandb/run-20220824_054925-2534rsdl/files/model-best)... Done. 0.5s\n"
     ]
    },
    {
     "name": "stdout",
     "output_type": "stream",
     "text": [
      "137/137 [==============================] - 4s 33ms/step - loss: 61.1392 - mse: 0.2897 - val_loss: 60.2796 - val_mse: 0.2692\n",
      "Epoch 11/250\n",
      "136/137 [============================>.] - ETA: 0s - loss: 59.4964 - mse: 0.2888"
     ]
    },
    {
     "name": "stderr",
     "output_type": "stream",
     "text": [
      "\u001b[34m\u001b[1mwandb\u001b[0m: Adding directory to artifact (/content/wandb/run-20220824_054925-2534rsdl/files/model-best)... Done. 0.5s\n"
     ]
    },
    {
     "name": "stdout",
     "output_type": "stream",
     "text": [
      "137/137 [==============================] - 4s 32ms/step - loss: 59.4932 - mse: 0.2885 - val_loss: 58.6571 - val_mse: 0.2687\n",
      "Epoch 12/250\n",
      "135/137 [============================>.] - ETA: 0s - loss: 57.9017 - mse: 0.2888"
     ]
    },
    {
     "name": "stderr",
     "output_type": "stream",
     "text": [
      "\u001b[34m\u001b[1mwandb\u001b[0m: Adding directory to artifact (/content/wandb/run-20220824_054925-2534rsdl/files/model-best)... Done. 0.6s\n"
     ]
    },
    {
     "name": "stdout",
     "output_type": "stream",
     "text": [
      "137/137 [==============================] - 5s 36ms/step - loss: 57.8929 - mse: 0.2885 - val_loss: 57.0785 - val_mse: 0.2683\n",
      "Epoch 13/250\n",
      "135/137 [============================>.] - ETA: 0s - loss: 56.3431 - mse: 0.2874"
     ]
    },
    {
     "name": "stderr",
     "output_type": "stream",
     "text": [
      "\u001b[34m\u001b[1mwandb\u001b[0m: Adding directory to artifact (/content/wandb/run-20220824_054925-2534rsdl/files/model-best)... Done. 0.6s\n"
     ]
    },
    {
     "name": "stdout",
     "output_type": "stream",
     "text": [
      "137/137 [==============================] - 5s 34ms/step - loss: 56.3349 - mse: 0.2875 - val_loss: 55.5436 - val_mse: 0.2689\n",
      "Epoch 14/250\n",
      "136/137 [============================>.] - ETA: 0s - loss: 54.8215 - mse: 0.2864"
     ]
    },
    {
     "name": "stderr",
     "output_type": "stream",
     "text": [
      "\u001b[34m\u001b[1mwandb\u001b[0m: Adding directory to artifact (/content/wandb/run-20220824_054925-2534rsdl/files/model-best)... Done. 0.6s\n"
     ]
    },
    {
     "name": "stdout",
     "output_type": "stream",
     "text": [
      "137/137 [==============================] - 5s 34ms/step - loss: 54.8187 - mse: 0.2862 - val_loss: 54.0485 - val_mse: 0.2679\n",
      "Epoch 15/250\n",
      "137/137 [==============================] - ETA: 0s - loss: 53.3441 - mse: 0.2856"
     ]
    },
    {
     "name": "stderr",
     "output_type": "stream",
     "text": [
      "\u001b[34m\u001b[1mwandb\u001b[0m: Adding directory to artifact (/content/wandb/run-20220824_054925-2534rsdl/files/model-best)... Done. 0.7s\n"
     ]
    },
    {
     "name": "stdout",
     "output_type": "stream",
     "text": [
      "137/137 [==============================] - 5s 37ms/step - loss: 53.3441 - mse: 0.2856 - val_loss: 52.5948 - val_mse: 0.2678\n",
      "Epoch 16/250\n",
      "137/137 [==============================] - ETA: 0s - loss: 51.9110 - mse: 0.2867"
     ]
    },
    {
     "name": "stderr",
     "output_type": "stream",
     "text": [
      "\u001b[34m\u001b[1mwandb\u001b[0m: Adding directory to artifact (/content/wandb/run-20220824_054925-2534rsdl/files/model-best)... Done. 0.6s\n"
     ]
    },
    {
     "name": "stdout",
     "output_type": "stream",
     "text": [
      "137/137 [==============================] - 5s 34ms/step - loss: 51.9110 - mse: 0.2867 - val_loss: 51.1801 - val_mse: 0.2674\n",
      "Epoch 17/250\n",
      "132/137 [===========================>..] - ETA: 0s - loss: 50.5386 - mse: 0.2872"
     ]
    },
    {
     "name": "stderr",
     "output_type": "stream",
     "text": [
      "\u001b[34m\u001b[1mwandb\u001b[0m: Adding directory to artifact (/content/wandb/run-20220824_054925-2534rsdl/files/model-best)... Done. 0.6s\n"
     ]
    },
    {
     "name": "stdout",
     "output_type": "stream",
     "text": [
      "137/137 [==============================] - 5s 35ms/step - loss: 50.5151 - mse: 0.2861 - val_loss: 49.8038 - val_mse: 0.2673\n",
      "Epoch 18/250\n",
      "137/137 [==============================] - ETA: 0s - loss: 49.1557 - mse: 0.2844"
     ]
    },
    {
     "name": "stderr",
     "output_type": "stream",
     "text": [
      "\u001b[34m\u001b[1mwandb\u001b[0m: Adding directory to artifact (/content/wandb/run-20220824_054925-2534rsdl/files/model-best)... Done. 0.6s\n"
     ]
    },
    {
     "name": "stdout",
     "output_type": "stream",
     "text": [
      "137/137 [==============================] - 5s 34ms/step - loss: 49.1557 - mse: 0.2844 - val_loss: 48.4647 - val_mse: 0.2671\n",
      "Epoch 19/250\n",
      "133/137 [============================>.] - ETA: 0s - loss: 47.8523 - mse: 0.2853"
     ]
    },
    {
     "name": "stderr",
     "output_type": "stream",
     "text": [
      "\u001b[34m\u001b[1mwandb\u001b[0m: Adding directory to artifact (/content/wandb/run-20220824_054925-2534rsdl/files/model-best)... Done. 0.5s\n"
     ]
    },
    {
     "name": "stdout",
     "output_type": "stream",
     "text": [
      "137/137 [==============================] - 4s 32ms/step - loss: 47.8357 - mse: 0.2852 - val_loss: 47.1618 - val_mse: 0.2669\n",
      "Epoch 20/250\n",
      "135/137 [============================>.] - ETA: 0s - loss: 46.5548 - mse: 0.2828"
     ]
    },
    {
     "name": "stderr",
     "output_type": "stream",
     "text": [
      "\u001b[34m\u001b[1mwandb\u001b[0m: Adding directory to artifact (/content/wandb/run-20220824_054925-2534rsdl/files/model-best)... Done. 0.5s\n"
     ]
    },
    {
     "name": "stdout",
     "output_type": "stream",
     "text": [
      "137/137 [==============================] - 5s 35ms/step - loss: 46.5487 - mse: 0.2836 - val_loss: 45.8945 - val_mse: 0.2671\n",
      "Epoch 21/250\n",
      "137/137 [==============================] - ETA: 0s - loss: 45.2996 - mse: 0.2849"
     ]
    },
    {
     "name": "stderr",
     "output_type": "stream",
     "text": [
      "\u001b[34m\u001b[1mwandb\u001b[0m: Adding directory to artifact (/content/wandb/run-20220824_054925-2534rsdl/files/model-best)... Done. 0.5s\n"
     ]
    },
    {
     "name": "stdout",
     "output_type": "stream",
     "text": [
      "137/137 [==============================] - 5s 33ms/step - loss: 45.2996 - mse: 0.2849 - val_loss: 44.6608 - val_mse: 0.2667\n",
      "Epoch 22/250\n",
      "135/137 [============================>.] - ETA: 0s - loss: 44.0870 - mse: 0.2825"
     ]
    },
    {
     "name": "stderr",
     "output_type": "stream",
     "text": [
      "\u001b[34m\u001b[1mwandb\u001b[0m: Adding directory to artifact (/content/wandb/run-20220824_054925-2534rsdl/files/model-best)... Done. 0.6s\n"
     ]
    },
    {
     "name": "stdout",
     "output_type": "stream",
     "text": [
      "137/137 [==============================] - 5s 33ms/step - loss: 44.0807 - mse: 0.2827 - val_loss: 43.4606 - val_mse: 0.2665\n",
      "Epoch 23/250\n",
      "137/137 [==============================] - ETA: 0s - loss: 42.8976 - mse: 0.2834"
     ]
    },
    {
     "name": "stderr",
     "output_type": "stream",
     "text": [
      "\u001b[34m\u001b[1mwandb\u001b[0m: Adding directory to artifact (/content/wandb/run-20220824_054925-2534rsdl/files/model-best)... Done. 0.6s\n"
     ]
    },
    {
     "name": "stdout",
     "output_type": "stream",
     "text": [
      "137/137 [==============================] - 5s 36ms/step - loss: 42.8976 - mse: 0.2834 - val_loss: 42.2933 - val_mse: 0.2666\n",
      "Epoch 24/250\n",
      "135/137 [============================>.] - ETA: 0s - loss: 41.7506 - mse: 0.2820"
     ]
    },
    {
     "name": "stderr",
     "output_type": "stream",
     "text": [
      "\u001b[34m\u001b[1mwandb\u001b[0m: Adding directory to artifact (/content/wandb/run-20220824_054925-2534rsdl/files/model-best)... Done. 0.5s\n"
     ]
    },
    {
     "name": "stdout",
     "output_type": "stream",
     "text": [
      "137/137 [==============================] - 4s 33ms/step - loss: 41.7448 - mse: 0.2824 - val_loss: 41.1572 - val_mse: 0.2664\n",
      "Epoch 25/250\n",
      "136/137 [============================>.] - ETA: 0s - loss: 40.6265 - mse: 0.2828"
     ]
    },
    {
     "name": "stderr",
     "output_type": "stream",
     "text": [
      "\u001b[34m\u001b[1mwandb\u001b[0m: Adding directory to artifact (/content/wandb/run-20220824_054925-2534rsdl/files/model-best)... Done. 0.6s\n"
     ]
    },
    {
     "name": "stdout",
     "output_type": "stream",
     "text": [
      "137/137 [==============================] - 5s 33ms/step - loss: 40.6242 - mse: 0.2825 - val_loss: 40.0516 - val_mse: 0.2661\n",
      "Epoch 26/250\n",
      "133/137 [============================>.] - ETA: 0s - loss: 39.5474 - mse: 0.2824"
     ]
    },
    {
     "name": "stderr",
     "output_type": "stream",
     "text": [
      "\u001b[34m\u001b[1mwandb\u001b[0m: Adding directory to artifact (/content/wandb/run-20220824_054925-2534rsdl/files/model-best)... Done. 0.6s\n"
     ]
    },
    {
     "name": "stdout",
     "output_type": "stream",
     "text": [
      "137/137 [==============================] - 6s 41ms/step - loss: 39.5347 - mse: 0.2833 - val_loss: 38.9762 - val_mse: 0.2660\n",
      "Epoch 27/250\n",
      "132/137 [===========================>..] - ETA: 0s - loss: 38.4883 - mse: 0.2808"
     ]
    },
    {
     "name": "stderr",
     "output_type": "stream",
     "text": [
      "\u001b[34m\u001b[1mwandb\u001b[0m: Adding directory to artifact (/content/wandb/run-20220824_054925-2534rsdl/files/model-best)... Done. 0.6s\n"
     ]
    },
    {
     "name": "stdout",
     "output_type": "stream",
     "text": [
      "137/137 [==============================] - 5s 33ms/step - loss: 38.4717 - mse: 0.2812 - val_loss: 37.9298 - val_mse: 0.2658\n",
      "Epoch 28/250\n",
      "134/137 [============================>.] - ETA: 0s - loss: 37.4490 - mse: 0.2816"
     ]
    },
    {
     "name": "stderr",
     "output_type": "stream",
     "text": [
      "\u001b[34m\u001b[1mwandb\u001b[0m: Adding directory to artifact (/content/wandb/run-20220824_054925-2534rsdl/files/model-best)... Done. 0.6s\n"
     ]
    },
    {
     "name": "stdout",
     "output_type": "stream",
     "text": [
      "137/137 [==============================] - 4s 33ms/step - loss: 37.4405 - mse: 0.2822 - val_loss: 36.9117 - val_mse: 0.2658\n",
      "Epoch 29/250\n",
      "134/137 [============================>.] - ETA: 0s - loss: 36.4440 - mse: 0.2811"
     ]
    },
    {
     "name": "stderr",
     "output_type": "stream",
     "text": [
      "\u001b[34m\u001b[1mwandb\u001b[0m: Adding directory to artifact (/content/wandb/run-20220824_054925-2534rsdl/files/model-best)... Done. 0.6s\n"
     ]
    },
    {
     "name": "stdout",
     "output_type": "stream",
     "text": [
      "137/137 [==============================] - 5s 35ms/step - loss: 36.4345 - mse: 0.2806 - val_loss: 35.9211 - val_mse: 0.2656\n",
      "Epoch 30/250\n",
      "132/137 [===========================>..] - ETA: 0s - loss: 35.4726 - mse: 0.2801"
     ]
    },
    {
     "name": "stderr",
     "output_type": "stream",
     "text": [
      "\u001b[34m\u001b[1mwandb\u001b[0m: Adding directory to artifact (/content/wandb/run-20220824_054925-2534rsdl/files/model-best)... Done. 0.5s\n"
     ]
    },
    {
     "name": "stdout",
     "output_type": "stream",
     "text": [
      "137/137 [==============================] - 4s 32ms/step - loss: 35.4569 - mse: 0.2801 - val_loss: 34.9573 - val_mse: 0.2655\n",
      "Epoch 31/250\n",
      "133/137 [============================>.] - ETA: 0s - loss: 34.5193 - mse: 0.2815"
     ]
    },
    {
     "name": "stderr",
     "output_type": "stream",
     "text": [
      "\u001b[34m\u001b[1mwandb\u001b[0m: Adding directory to artifact (/content/wandb/run-20220824_054925-2534rsdl/files/model-best)... Done. 0.5s\n"
     ]
    },
    {
     "name": "stdout",
     "output_type": "stream",
     "text": [
      "137/137 [==============================] - 5s 35ms/step - loss: 34.5063 - mse: 0.2803 - val_loss: 34.0196 - val_mse: 0.2654\n",
      "Epoch 32/250\n",
      "134/137 [============================>.] - ETA: 0s - loss: 33.5880 - mse: 0.2788"
     ]
    },
    {
     "name": "stderr",
     "output_type": "stream",
     "text": [
      "\u001b[34m\u001b[1mwandb\u001b[0m: Adding directory to artifact (/content/wandb/run-20220824_054925-2534rsdl/files/model-best)... Done. 0.5s\n"
     ]
    },
    {
     "name": "stdout",
     "output_type": "stream",
     "text": [
      "137/137 [==============================] - 5s 33ms/step - loss: 33.5805 - mse: 0.2796 - val_loss: 33.1071 - val_mse: 0.2653\n",
      "Epoch 33/250\n",
      "136/137 [============================>.] - ETA: 0s - loss: 32.6817 - mse: 0.2792"
     ]
    },
    {
     "name": "stderr",
     "output_type": "stream",
     "text": [
      "\u001b[34m\u001b[1mwandb\u001b[0m: Adding directory to artifact (/content/wandb/run-20220824_054925-2534rsdl/files/model-best)... Done. 0.6s\n"
     ]
    },
    {
     "name": "stdout",
     "output_type": "stream",
     "text": [
      "137/137 [==============================] - 5s 33ms/step - loss: 32.6802 - mse: 0.2793 - val_loss: 32.2196 - val_mse: 0.2654\n",
      "Epoch 34/250\n",
      "134/137 [============================>.] - ETA: 0s - loss: 31.8112 - mse: 0.2782"
     ]
    },
    {
     "name": "stderr",
     "output_type": "stream",
     "text": [
      "\u001b[34m\u001b[1mwandb\u001b[0m: Adding directory to artifact (/content/wandb/run-20220824_054925-2534rsdl/files/model-best)... Done. 0.6s\n"
     ]
    },
    {
     "name": "stdout",
     "output_type": "stream",
     "text": [
      "137/137 [==============================] - 5s 36ms/step - loss: 31.8035 - mse: 0.2783 - val_loss: 31.3558 - val_mse: 0.2652\n",
      "Epoch 35/250\n",
      "135/137 [============================>.] - ETA: 0s - loss: 30.9562 - mse: 0.2785"
     ]
    },
    {
     "name": "stderr",
     "output_type": "stream",
     "text": [
      "\u001b[34m\u001b[1mwandb\u001b[0m: Adding directory to artifact (/content/wandb/run-20220824_054925-2534rsdl/files/model-best)... Done. 0.6s\n"
     ]
    },
    {
     "name": "stdout",
     "output_type": "stream",
     "text": [
      "137/137 [==============================] - 5s 34ms/step - loss: 30.9524 - mse: 0.2792 - val_loss: 30.5153 - val_mse: 0.2651\n",
      "Epoch 36/250\n",
      "134/137 [============================>.] - ETA: 0s - loss: 30.1306 - mse: 0.2791"
     ]
    },
    {
     "name": "stderr",
     "output_type": "stream",
     "text": [
      "\u001b[34m\u001b[1mwandb\u001b[0m: Adding directory to artifact (/content/wandb/run-20220824_054925-2534rsdl/files/model-best)... Done. 0.6s\n"
     ]
    },
    {
     "name": "stdout",
     "output_type": "stream",
     "text": [
      "137/137 [==============================] - 5s 33ms/step - loss: 30.1233 - mse: 0.2791 - val_loss: 29.6977 - val_mse: 0.2650\n",
      "Epoch 37/250\n",
      "137/137 [==============================] - ETA: 0s - loss: 29.3162 - mse: 0.2787"
     ]
    },
    {
     "name": "stderr",
     "output_type": "stream",
     "text": [
      "\u001b[34m\u001b[1mwandb\u001b[0m: Adding directory to artifact (/content/wandb/run-20220824_054925-2534rsdl/files/model-best)... Done. 0.5s\n"
     ]
    },
    {
     "name": "stdout",
     "output_type": "stream",
     "text": [
      "137/137 [==============================] - 5s 35ms/step - loss: 29.3162 - mse: 0.2787 - val_loss: 28.9019 - val_mse: 0.2647\n",
      "Epoch 38/250\n",
      "134/137 [============================>.] - ETA: 0s - loss: 28.5377 - mse: 0.2780"
     ]
    },
    {
     "name": "stderr",
     "output_type": "stream",
     "text": [
      "\u001b[34m\u001b[1mwandb\u001b[0m: Adding directory to artifact (/content/wandb/run-20220824_054925-2534rsdl/files/model-best)... Done. 0.6s\n"
     ]
    },
    {
     "name": "stdout",
     "output_type": "stream",
     "text": [
      "137/137 [==============================] - 5s 34ms/step - loss: 28.5311 - mse: 0.2784 - val_loss: 28.1279 - val_mse: 0.2647\n",
      "Epoch 39/250\n",
      "136/137 [============================>.] - ETA: 0s - loss: 27.7689 - mse: 0.2784"
     ]
    },
    {
     "name": "stderr",
     "output_type": "stream",
     "text": [
      "\u001b[34m\u001b[1mwandb\u001b[0m: Adding directory to artifact (/content/wandb/run-20220824_054925-2534rsdl/files/model-best)... Done. 0.6s\n"
     ]
    },
    {
     "name": "stdout",
     "output_type": "stream",
     "text": [
      "137/137 [==============================] - 5s 34ms/step - loss: 27.7676 - mse: 0.2784 - val_loss: 27.3750 - val_mse: 0.2648\n",
      "Epoch 40/250\n",
      "134/137 [============================>.] - ETA: 0s - loss: 27.0312 - mse: 0.2784"
     ]
    },
    {
     "name": "stderr",
     "output_type": "stream",
     "text": [
      "\u001b[34m\u001b[1mwandb\u001b[0m: Adding directory to artifact (/content/wandb/run-20220824_054925-2534rsdl/files/model-best)... Done. 0.5s\n"
     ]
    },
    {
     "name": "stdout",
     "output_type": "stream",
     "text": [
      "137/137 [==============================] - 5s 40ms/step - loss: 27.0241 - mse: 0.2779 - val_loss: 26.6420 - val_mse: 0.2645\n",
      "Epoch 41/250\n",
      "133/137 [============================>.] - ETA: 0s - loss: 26.3095 - mse: 0.2771"
     ]
    },
    {
     "name": "stderr",
     "output_type": "stream",
     "text": [
      "\u001b[34m\u001b[1mwandb\u001b[0m: Adding directory to artifact (/content/wandb/run-20220824_054925-2534rsdl/files/model-best)... Done. 0.5s\n"
     ]
    },
    {
     "name": "stdout",
     "output_type": "stream",
     "text": [
      "137/137 [==============================] - 4s 31ms/step - loss: 26.3007 - mse: 0.2774 - val_loss: 25.9289 - val_mse: 0.2644\n",
      "Epoch 42/250\n",
      "137/137 [==============================] - ETA: 0s - loss: 25.5966 - mse: 0.2766"
     ]
    },
    {
     "name": "stderr",
     "output_type": "stream",
     "text": [
      "\u001b[34m\u001b[1mwandb\u001b[0m: Adding directory to artifact (/content/wandb/run-20220824_054925-2534rsdl/files/model-best)... Done. 0.5s\n"
     ]
    },
    {
     "name": "stdout",
     "output_type": "stream",
     "text": [
      "137/137 [==============================] - 4s 32ms/step - loss: 25.5966 - mse: 0.2766 - val_loss: 25.2353 - val_mse: 0.2643\n",
      "Epoch 43/250\n",
      "137/137 [==============================] - ETA: 0s - loss: 24.9125 - mse: 0.2768"
     ]
    },
    {
     "name": "stderr",
     "output_type": "stream",
     "text": [
      "\u001b[34m\u001b[1mwandb\u001b[0m: Adding directory to artifact (/content/wandb/run-20220824_054925-2534rsdl/files/model-best)... Done. 0.6s\n"
     ]
    },
    {
     "name": "stdout",
     "output_type": "stream",
     "text": [
      "137/137 [==============================] - 5s 36ms/step - loss: 24.9125 - mse: 0.2768 - val_loss: 24.5604 - val_mse: 0.2643\n",
      "Epoch 44/250\n",
      "134/137 [============================>.] - ETA: 0s - loss: 24.2526 - mse: 0.2767"
     ]
    },
    {
     "name": "stderr",
     "output_type": "stream",
     "text": [
      "\u001b[34m\u001b[1mwandb\u001b[0m: Adding directory to artifact (/content/wandb/run-20220824_054925-2534rsdl/files/model-best)... Done. 0.6s\n"
     ]
    },
    {
     "name": "stdout",
     "output_type": "stream",
     "text": [
      "137/137 [==============================] - 5s 34ms/step - loss: 24.2465 - mse: 0.2766 - val_loss: 23.9035 - val_mse: 0.2641\n",
      "Epoch 45/250\n",
      "133/137 [============================>.] - ETA: 0s - loss: 23.6069 - mse: 0.2767"
     ]
    },
    {
     "name": "stderr",
     "output_type": "stream",
     "text": [
      "\u001b[34m\u001b[1mwandb\u001b[0m: Adding directory to artifact (/content/wandb/run-20220824_054925-2534rsdl/files/model-best)... Done. 0.6s\n"
     ]
    },
    {
     "name": "stdout",
     "output_type": "stream",
     "text": [
      "137/137 [==============================] - 5s 33ms/step - loss: 23.5988 - mse: 0.2767 - val_loss: 23.2646 - val_mse: 0.2640\n",
      "Epoch 46/250\n",
      "132/137 [===========================>..] - ETA: 0s - loss: 22.9783 - mse: 0.2764"
     ]
    },
    {
     "name": "stderr",
     "output_type": "stream",
     "text": [
      "\u001b[34m\u001b[1mwandb\u001b[0m: Adding directory to artifact (/content/wandb/run-20220824_054925-2534rsdl/files/model-best)... Done. 0.6s\n"
     ]
    },
    {
     "name": "stdout",
     "output_type": "stream",
     "text": [
      "137/137 [==============================] - 5s 36ms/step - loss: 22.9680 - mse: 0.2762 - val_loss: 22.6428 - val_mse: 0.2639\n",
      "Epoch 47/250\n",
      "132/137 [===========================>..] - ETA: 0s - loss: 22.3644 - mse: 0.2760"
     ]
    },
    {
     "name": "stderr",
     "output_type": "stream",
     "text": [
      "\u001b[34m\u001b[1mwandb\u001b[0m: Adding directory to artifact (/content/wandb/run-20220824_054925-2534rsdl/files/model-best)... Done. 0.6s\n"
     ]
    },
    {
     "name": "stdout",
     "output_type": "stream",
     "text": [
      "137/137 [==============================] - 4s 33ms/step - loss: 22.3550 - mse: 0.2765 - val_loss: 22.0381 - val_mse: 0.2639\n",
      "Epoch 48/250\n",
      "133/137 [============================>.] - ETA: 0s - loss: 21.7667 - mse: 0.2775"
     ]
    },
    {
     "name": "stderr",
     "output_type": "stream",
     "text": [
      "\u001b[34m\u001b[1mwandb\u001b[0m: Adding directory to artifact (/content/wandb/run-20220824_054925-2534rsdl/files/model-best)... Done. 0.6s\n"
     ]
    },
    {
     "name": "stdout",
     "output_type": "stream",
     "text": [
      "137/137 [==============================] - 4s 33ms/step - loss: 21.7582 - mse: 0.2763 - val_loss: 21.4495 - val_mse: 0.2638\n",
      "Epoch 49/250\n",
      "135/137 [============================>.] - ETA: 0s - loss: 21.1796 - mse: 0.2752"
     ]
    },
    {
     "name": "stderr",
     "output_type": "stream",
     "text": [
      "\u001b[34m\u001b[1mwandb\u001b[0m: Adding directory to artifact (/content/wandb/run-20220824_054925-2534rsdl/files/model-best)... Done. 0.6s\n"
     ]
    },
    {
     "name": "stdout",
     "output_type": "stream",
     "text": [
      "137/137 [==============================] - 5s 35ms/step - loss: 21.1770 - mse: 0.2757 - val_loss: 20.8767 - val_mse: 0.2636\n",
      "Epoch 50/250\n",
      "134/137 [============================>.] - ETA: 0s - loss: 20.6174 - mse: 0.2759"
     ]
    },
    {
     "name": "stderr",
     "output_type": "stream",
     "text": [
      "\u001b[34m\u001b[1mwandb\u001b[0m: Adding directory to artifact (/content/wandb/run-20220824_054925-2534rsdl/files/model-best)... Done. 0.5s\n"
     ]
    },
    {
     "name": "stdout",
     "output_type": "stream",
     "text": [
      "137/137 [==============================] - 4s 32ms/step - loss: 20.6123 - mse: 0.2759 - val_loss: 20.3195 - val_mse: 0.2635\n",
      "Epoch 51/250\n",
      "137/137 [==============================] - ETA: 0s - loss: 20.0619 - mse: 0.2751"
     ]
    },
    {
     "name": "stderr",
     "output_type": "stream",
     "text": [
      "\u001b[34m\u001b[1mwandb\u001b[0m: Adding directory to artifact (/content/wandb/run-20220824_054925-2534rsdl/files/model-best)... Done. 0.6s\n"
     ]
    },
    {
     "name": "stdout",
     "output_type": "stream",
     "text": [
      "137/137 [==============================] - 5s 33ms/step - loss: 20.0619 - mse: 0.2751 - val_loss: 19.7775 - val_mse: 0.2634\n",
      "Epoch 52/250\n",
      "134/137 [============================>.] - ETA: 0s - loss: 19.5319 - mse: 0.2751"
     ]
    },
    {
     "name": "stderr",
     "output_type": "stream",
     "text": [
      "\u001b[34m\u001b[1mwandb\u001b[0m: Adding directory to artifact (/content/wandb/run-20220824_054925-2534rsdl/files/model-best)... Done. 0.6s\n"
     ]
    },
    {
     "name": "stdout",
     "output_type": "stream",
     "text": [
      "137/137 [==============================] - 5s 35ms/step - loss: 19.5262 - mse: 0.2741 - val_loss: 19.2500 - val_mse: 0.2633\n",
      "Epoch 53/250\n",
      "136/137 [============================>.] - ETA: 0s - loss: 19.0076 - mse: 0.2749"
     ]
    },
    {
     "name": "stderr",
     "output_type": "stream",
     "text": [
      "\u001b[34m\u001b[1mwandb\u001b[0m: Adding directory to artifact (/content/wandb/run-20220824_054925-2534rsdl/files/model-best)... Done. 0.6s\n"
     ]
    },
    {
     "name": "stdout",
     "output_type": "stream",
     "text": [
      "137/137 [==============================] - 4s 33ms/step - loss: 19.0068 - mse: 0.2750 - val_loss: 18.7367 - val_mse: 0.2632\n",
      "Epoch 54/250\n",
      "136/137 [============================>.] - ETA: 0s - loss: 18.5012 - mse: 0.2748"
     ]
    },
    {
     "name": "stderr",
     "output_type": "stream",
     "text": [
      "\u001b[34m\u001b[1mwandb\u001b[0m: Adding directory to artifact (/content/wandb/run-20220824_054925-2534rsdl/files/model-best)... Done. 0.5s\n"
     ]
    },
    {
     "name": "stdout",
     "output_type": "stream",
     "text": [
      "137/137 [==============================] - 5s 35ms/step - loss: 18.5002 - mse: 0.2746 - val_loss: 18.2374 - val_mse: 0.2630\n",
      "Epoch 55/250\n",
      "135/137 [============================>.] - ETA: 0s - loss: 18.0114 - mse: 0.2758"
     ]
    },
    {
     "name": "stderr",
     "output_type": "stream",
     "text": [
      "\u001b[34m\u001b[1mwandb\u001b[0m: Adding directory to artifact (/content/wandb/run-20220824_054925-2534rsdl/files/model-best)... Done. 0.7s\n"
     ]
    },
    {
     "name": "stdout",
     "output_type": "stream",
     "text": [
      "137/137 [==============================] - 5s 38ms/step - loss: 18.0080 - mse: 0.2749 - val_loss: 17.7518 - val_mse: 0.2632\n",
      "Epoch 56/250\n",
      "132/137 [===========================>..] - ETA: 0s - loss: 17.5359 - mse: 0.2744"
     ]
    },
    {
     "name": "stderr",
     "output_type": "stream",
     "text": [
      "\u001b[34m\u001b[1mwandb\u001b[0m: Adding directory to artifact (/content/wandb/run-20220824_054925-2534rsdl/files/model-best)... Done. 0.5s\n"
     ]
    },
    {
     "name": "stdout",
     "output_type": "stream",
     "text": [
      "137/137 [==============================] - 4s 32ms/step - loss: 17.5285 - mse: 0.2747 - val_loss: 17.2791 - val_mse: 0.2631\n",
      "Epoch 57/250\n",
      "137/137 [==============================] - ETA: 0s - loss: 17.0616 - mse: 0.2740"
     ]
    },
    {
     "name": "stderr",
     "output_type": "stream",
     "text": [
      "\u001b[34m\u001b[1mwandb\u001b[0m: Adding directory to artifact (/content/wandb/run-20220824_054925-2534rsdl/files/model-best)... Done. 0.5s\n"
     ]
    },
    {
     "name": "stdout",
     "output_type": "stream",
     "text": [
      "137/137 [==============================] - 5s 35ms/step - loss: 17.0616 - mse: 0.2740 - val_loss: 16.8190 - val_mse: 0.2628\n",
      "Epoch 58/250\n",
      "137/137 [==============================] - ETA: 0s - loss: 16.6078 - mse: 0.2739"
     ]
    },
    {
     "name": "stderr",
     "output_type": "stream",
     "text": [
      "\u001b[34m\u001b[1mwandb\u001b[0m: Adding directory to artifact (/content/wandb/run-20220824_054925-2534rsdl/files/model-best)... Done. 0.6s\n"
     ]
    },
    {
     "name": "stdout",
     "output_type": "stream",
     "text": [
      "137/137 [==============================] - 5s 34ms/step - loss: 16.6078 - mse: 0.2739 - val_loss: 16.3715 - val_mse: 0.2628\n",
      "Epoch 59/250\n",
      "134/137 [============================>.] - ETA: 0s - loss: 16.1696 - mse: 0.2731"
     ]
    },
    {
     "name": "stderr",
     "output_type": "stream",
     "text": [
      "\u001b[34m\u001b[1mwandb\u001b[0m: Adding directory to artifact (/content/wandb/run-20220824_054925-2534rsdl/files/model-best)... Done. 0.6s\n"
     ]
    },
    {
     "name": "stdout",
     "output_type": "stream",
     "text": [
      "137/137 [==============================] - 4s 32ms/step - loss: 16.1656 - mse: 0.2731 - val_loss: 15.9360 - val_mse: 0.2626\n",
      "Epoch 60/250\n",
      "137/137 [==============================] - ETA: 0s - loss: 15.7361 - mse: 0.2730"
     ]
    },
    {
     "name": "stderr",
     "output_type": "stream",
     "text": [
      "\u001b[34m\u001b[1mwandb\u001b[0m: Adding directory to artifact (/content/wandb/run-20220824_054925-2534rsdl/files/model-best)... Done. 0.6s\n"
     ]
    },
    {
     "name": "stdout",
     "output_type": "stream",
     "text": [
      "137/137 [==============================] - 5s 35ms/step - loss: 15.7361 - mse: 0.2730 - val_loss: 15.5123 - val_mse: 0.2624\n",
      "Epoch 61/250\n",
      "134/137 [============================>.] - ETA: 0s - loss: 15.3210 - mse: 0.2721"
     ]
    },
    {
     "name": "stderr",
     "output_type": "stream",
     "text": [
      "\u001b[34m\u001b[1mwandb\u001b[0m: Adding directory to artifact (/content/wandb/run-20220824_054925-2534rsdl/files/model-best)... Done. 0.6s\n"
     ]
    },
    {
     "name": "stdout",
     "output_type": "stream",
     "text": [
      "137/137 [==============================] - 4s 33ms/step - loss: 15.3177 - mse: 0.2725 - val_loss: 15.1001 - val_mse: 0.2623\n",
      "Epoch 62/250\n",
      "133/137 [============================>.] - ETA: 0s - loss: 14.9162 - mse: 0.2725"
     ]
    },
    {
     "name": "stderr",
     "output_type": "stream",
     "text": [
      "\u001b[34m\u001b[1mwandb\u001b[0m: Adding directory to artifact (/content/wandb/run-20220824_054925-2534rsdl/files/model-best)... Done. 0.6s\n"
     ]
    },
    {
     "name": "stdout",
     "output_type": "stream",
     "text": [
      "137/137 [==============================] - 5s 36ms/step - loss: 14.9111 - mse: 0.2725 - val_loss: 14.6991 - val_mse: 0.2622\n",
      "Epoch 63/250\n",
      "134/137 [============================>.] - ETA: 0s - loss: 14.5193 - mse: 0.2727"
     ]
    },
    {
     "name": "stderr",
     "output_type": "stream",
     "text": [
      "\u001b[34m\u001b[1mwandb\u001b[0m: Adding directory to artifact (/content/wandb/run-20220824_054925-2534rsdl/files/model-best)... Done. 0.6s\n"
     ]
    },
    {
     "name": "stdout",
     "output_type": "stream",
     "text": [
      "137/137 [==============================] - 5s 35ms/step - loss: 14.5161 - mse: 0.2730 - val_loss: 14.3089 - val_mse: 0.2621\n",
      "Epoch 64/250\n",
      "133/137 [============================>.] - ETA: 0s - loss: 14.1350 - mse: 0.2720"
     ]
    },
    {
     "name": "stderr",
     "output_type": "stream",
     "text": [
      "\u001b[34m\u001b[1mwandb\u001b[0m: Adding directory to artifact (/content/wandb/run-20220824_054925-2534rsdl/files/model-best)... Done. 0.6s\n"
     ]
    },
    {
     "name": "stdout",
     "output_type": "stream",
     "text": [
      "137/137 [==============================] - 5s 35ms/step - loss: 14.1305 - mse: 0.2723 - val_loss: 13.9291 - val_mse: 0.2620\n",
      "Epoch 65/250\n",
      "132/137 [===========================>..] - ETA: 0s - loss: 13.7630 - mse: 0.2733"
     ]
    },
    {
     "name": "stderr",
     "output_type": "stream",
     "text": [
      "\u001b[34m\u001b[1mwandb\u001b[0m: Adding directory to artifact (/content/wandb/run-20220824_054925-2534rsdl/files/model-best)... Done. 0.5s\n"
     ]
    },
    {
     "name": "stdout",
     "output_type": "stream",
     "text": [
      "137/137 [==============================] - 5s 35ms/step - loss: 13.7563 - mse: 0.2725 - val_loss: 13.5597 - val_mse: 0.2618\n",
      "Epoch 66/250\n",
      "132/137 [===========================>..] - ETA: 0s - loss: 13.3969 - mse: 0.2716"
     ]
    },
    {
     "name": "stderr",
     "output_type": "stream",
     "text": [
      "\u001b[34m\u001b[1mwandb\u001b[0m: Adding directory to artifact (/content/wandb/run-20220824_054925-2534rsdl/files/model-best)... Done. 0.6s\n"
     ]
    },
    {
     "name": "stdout",
     "output_type": "stream",
     "text": [
      "137/137 [==============================] - 4s 33ms/step - loss: 13.3906 - mse: 0.2712 - val_loss: 13.2003 - val_mse: 0.2617\n",
      "Epoch 67/250\n",
      "132/137 [===========================>..] - ETA: 0s - loss: 13.0441 - mse: 0.2735"
     ]
    },
    {
     "name": "stderr",
     "output_type": "stream",
     "text": [
      "\u001b[34m\u001b[1mwandb\u001b[0m: Adding directory to artifact (/content/wandb/run-20220824_054925-2534rsdl/files/model-best)... Done. 0.5s\n"
     ]
    },
    {
     "name": "stdout",
     "output_type": "stream",
     "text": [
      "137/137 [==============================] - 4s 33ms/step - loss: 13.0376 - mse: 0.2727 - val_loss: 12.8507 - val_mse: 0.2617\n",
      "Epoch 68/250\n",
      "135/137 [============================>.] - ETA: 0s - loss: 12.6930 - mse: 0.2712"
     ]
    },
    {
     "name": "stderr",
     "output_type": "stream",
     "text": [
      "\u001b[34m\u001b[1mwandb\u001b[0m: Adding directory to artifact (/content/wandb/run-20220824_054925-2534rsdl/files/model-best)... Done. 0.6s\n"
     ]
    },
    {
     "name": "stdout",
     "output_type": "stream",
     "text": [
      "137/137 [==============================] - 5s 36ms/step - loss: 12.6912 - mse: 0.2712 - val_loss: 12.5103 - val_mse: 0.2615\n",
      "Epoch 69/250\n",
      "132/137 [===========================>..] - ETA: 0s - loss: 12.3598 - mse: 0.2700"
     ]
    },
    {
     "name": "stderr",
     "output_type": "stream",
     "text": [
      "\u001b[34m\u001b[1mwandb\u001b[0m: Adding directory to artifact (/content/wandb/run-20220824_054925-2534rsdl/files/model-best)... Done. 0.5s\n"
     ]
    },
    {
     "name": "stdout",
     "output_type": "stream",
     "text": [
      "137/137 [==============================] - 4s 33ms/step - loss: 12.3554 - mse: 0.2710 - val_loss: 12.1795 - val_mse: 0.2616\n",
      "Epoch 70/250\n",
      "133/137 [============================>.] - ETA: 0s - loss: 12.0325 - mse: 0.2705"
     ]
    },
    {
     "name": "stderr",
     "output_type": "stream",
     "text": [
      "\u001b[34m\u001b[1mwandb\u001b[0m: Adding directory to artifact (/content/wandb/run-20220824_054925-2534rsdl/files/model-best)... Done. 0.6s\n"
     ]
    },
    {
     "name": "stdout",
     "output_type": "stream",
     "text": [
      "137/137 [==============================] - 4s 33ms/step - loss: 12.0291 - mse: 0.2712 - val_loss: 11.8572 - val_mse: 0.2614\n",
      "Epoch 71/250\n",
      "136/137 [============================>.] - ETA: 0s - loss: 11.7109 - mse: 0.2701"
     ]
    },
    {
     "name": "stderr",
     "output_type": "stream",
     "text": [
      "\u001b[34m\u001b[1mwandb\u001b[0m: Adding directory to artifact (/content/wandb/run-20220824_054925-2534rsdl/files/model-best)... Done. 0.6s\n"
     ]
    },
    {
     "name": "stdout",
     "output_type": "stream",
     "text": [
      "137/137 [==============================] - 5s 36ms/step - loss: 11.7105 - mse: 0.2703 - val_loss: 11.5437 - val_mse: 0.2611\n",
      "Epoch 72/250\n",
      "134/137 [============================>.] - ETA: 0s - loss: 11.4032 - mse: 0.2693"
     ]
    },
    {
     "name": "stderr",
     "output_type": "stream",
     "text": [
      "\u001b[34m\u001b[1mwandb\u001b[0m: Adding directory to artifact (/content/wandb/run-20220824_054925-2534rsdl/files/model-best)... Done. 0.6s\n"
     ]
    },
    {
     "name": "stdout",
     "output_type": "stream",
     "text": [
      "137/137 [==============================] - 5s 33ms/step - loss: 11.4013 - mse: 0.2702 - val_loss: 11.2386 - val_mse: 0.2609\n",
      "Epoch 73/250\n",
      "136/137 [============================>.] - ETA: 0s - loss: 11.1014 - mse: 0.2705"
     ]
    },
    {
     "name": "stderr",
     "output_type": "stream",
     "text": [
      "\u001b[34m\u001b[1mwandb\u001b[0m: Adding directory to artifact (/content/wandb/run-20220824_054925-2534rsdl/files/model-best)... Done. 0.5s\n"
     ]
    },
    {
     "name": "stdout",
     "output_type": "stream",
     "text": [
      "137/137 [==============================] - 4s 32ms/step - loss: 11.1006 - mse: 0.2702 - val_loss: 10.9419 - val_mse: 0.2608\n",
      "Epoch 74/250\n",
      "134/137 [============================>.] - ETA: 0s - loss: 10.8101 - mse: 0.2698"
     ]
    },
    {
     "name": "stderr",
     "output_type": "stream",
     "text": [
      "\u001b[34m\u001b[1mwandb\u001b[0m: Adding directory to artifact (/content/wandb/run-20220824_054925-2534rsdl/files/model-best)... Done. 0.5s\n"
     ]
    },
    {
     "name": "stdout",
     "output_type": "stream",
     "text": [
      "137/137 [==============================] - 5s 36ms/step - loss: 10.8082 - mse: 0.2705 - val_loss: 10.6533 - val_mse: 0.2607\n",
      "Epoch 75/250\n",
      "134/137 [============================>.] - ETA: 0s - loss: 10.5239 - mse: 0.2684"
     ]
    },
    {
     "name": "stderr",
     "output_type": "stream",
     "text": [
      "\u001b[34m\u001b[1mwandb\u001b[0m: Adding directory to artifact (/content/wandb/run-20220824_054925-2534rsdl/files/model-best)... Done. 0.5s\n"
     ]
    },
    {
     "name": "stdout",
     "output_type": "stream",
     "text": [
      "137/137 [==============================] - 4s 32ms/step - loss: 10.5220 - mse: 0.2690 - val_loss: 10.3725 - val_mse: 0.2608\n",
      "Epoch 76/250\n",
      "134/137 [============================>.] - ETA: 0s - loss: 10.2487 - mse: 0.2702"
     ]
    },
    {
     "name": "stderr",
     "output_type": "stream",
     "text": [
      "\u001b[34m\u001b[1mwandb\u001b[0m: Adding directory to artifact (/content/wandb/run-20220824_054925-2534rsdl/files/model-best)... Done. 0.5s\n"
     ]
    },
    {
     "name": "stdout",
     "output_type": "stream",
     "text": [
      "137/137 [==============================] - 4s 32ms/step - loss: 10.2457 - mse: 0.2696 - val_loss: 10.0990 - val_mse: 0.2604\n",
      "Epoch 77/250\n",
      "134/137 [============================>.] - ETA: 0s - loss: 9.9788 - mse: 0.2698"
     ]
    },
    {
     "name": "stderr",
     "output_type": "stream",
     "text": [
      "\u001b[34m\u001b[1mwandb\u001b[0m: Adding directory to artifact (/content/wandb/run-20220824_054925-2534rsdl/files/model-best)... Done. 0.5s\n"
     ]
    },
    {
     "name": "stdout",
     "output_type": "stream",
     "text": [
      "137/137 [==============================] - 5s 35ms/step - loss: 9.9758 - mse: 0.2692 - val_loss: 9.8331 - val_mse: 0.2604\n",
      "Epoch 78/250\n",
      "136/137 [============================>.] - ETA: 0s - loss: 9.7134 - mse: 0.2686"
     ]
    },
    {
     "name": "stderr",
     "output_type": "stream",
     "text": [
      "\u001b[34m\u001b[1mwandb\u001b[0m: Adding directory to artifact (/content/wandb/run-20220824_054925-2534rsdl/files/model-best)... Done. 0.6s\n"
     ]
    },
    {
     "name": "stdout",
     "output_type": "stream",
     "text": [
      "137/137 [==============================] - 5s 38ms/step - loss: 9.7127 - mse: 0.2684 - val_loss: 9.5743 - val_mse: 0.2601\n",
      "Epoch 79/250\n",
      "133/137 [============================>.] - ETA: 0s - loss: 9.4614 - mse: 0.2690"
     ]
    },
    {
     "name": "stderr",
     "output_type": "stream",
     "text": [
      "\u001b[34m\u001b[1mwandb\u001b[0m: Adding directory to artifact (/content/wandb/run-20220824_054925-2534rsdl/files/model-best)... Done. 0.6s\n"
     ]
    },
    {
     "name": "stdout",
     "output_type": "stream",
     "text": [
      "137/137 [==============================] - 4s 33ms/step - loss: 9.4581 - mse: 0.2689 - val_loss: 9.3225 - val_mse: 0.2599\n",
      "Epoch 80/250\n",
      "136/137 [============================>.] - ETA: 0s - loss: 9.2098 - mse: 0.2685"
     ]
    },
    {
     "name": "stderr",
     "output_type": "stream",
     "text": [
      "\u001b[34m\u001b[1mwandb\u001b[0m: Adding directory to artifact (/content/wandb/run-20220824_054925-2534rsdl/files/model-best)... Done. 0.6s\n"
     ]
    },
    {
     "name": "stdout",
     "output_type": "stream",
     "text": [
      "137/137 [==============================] - 5s 37ms/step - loss: 9.2094 - mse: 0.2684 - val_loss: 9.0776 - val_mse: 0.2599\n",
      "Epoch 81/250\n",
      "136/137 [============================>.] - ETA: 0s - loss: 8.9676 - mse: 0.2678"
     ]
    },
    {
     "name": "stderr",
     "output_type": "stream",
     "text": [
      "\u001b[34m\u001b[1mwandb\u001b[0m: Adding directory to artifact (/content/wandb/run-20220824_054925-2534rsdl/files/model-best)... Done. 0.6s\n"
     ]
    },
    {
     "name": "stdout",
     "output_type": "stream",
     "text": [
      "137/137 [==============================] - 4s 33ms/step - loss: 8.9675 - mse: 0.2681 - val_loss: 8.8393 - val_mse: 0.2598\n",
      "Epoch 82/250\n",
      "133/137 [============================>.] - ETA: 0s - loss: 8.7346 - mse: 0.2673"
     ]
    },
    {
     "name": "stderr",
     "output_type": "stream",
     "text": [
      "\u001b[34m\u001b[1mwandb\u001b[0m: Adding directory to artifact (/content/wandb/run-20220824_054925-2534rsdl/files/model-best)... Done. 0.5s\n"
     ]
    },
    {
     "name": "stdout",
     "output_type": "stream",
     "text": [
      "137/137 [==============================] - 4s 32ms/step - loss: 8.7318 - mse: 0.2674 - val_loss: 8.6075 - val_mse: 0.2597\n",
      "Epoch 83/250\n",
      "136/137 [============================>.] - ETA: 0s - loss: 8.5039 - mse: 0.2677"
     ]
    },
    {
     "name": "stderr",
     "output_type": "stream",
     "text": [
      "\u001b[34m\u001b[1mwandb\u001b[0m: Adding directory to artifact (/content/wandb/run-20220824_054925-2534rsdl/files/model-best)... Done. 0.5s\n"
     ]
    },
    {
     "name": "stdout",
     "output_type": "stream",
     "text": [
      "137/137 [==============================] - 5s 35ms/step - loss: 8.5034 - mse: 0.2676 - val_loss: 8.3816 - val_mse: 0.2593\n",
      "Epoch 84/250\n",
      "133/137 [============================>.] - ETA: 0s - loss: 8.2843 - mse: 0.2681"
     ]
    },
    {
     "name": "stderr",
     "output_type": "stream",
     "text": [
      "\u001b[34m\u001b[1mwandb\u001b[0m: Adding directory to artifact (/content/wandb/run-20220824_054925-2534rsdl/files/model-best)... Done. 0.6s\n"
     ]
    },
    {
     "name": "stdout",
     "output_type": "stream",
     "text": [
      "137/137 [==============================] - 4s 33ms/step - loss: 8.2808 - mse: 0.2675 - val_loss: 8.1621 - val_mse: 0.2592\n",
      "Epoch 85/250\n",
      "133/137 [============================>.] - ETA: 0s - loss: 8.0667 - mse: 0.2671"
     ]
    },
    {
     "name": "stderr",
     "output_type": "stream",
     "text": [
      "\u001b[34m\u001b[1mwandb\u001b[0m: Adding directory to artifact (/content/wandb/run-20220824_054925-2534rsdl/files/model-best)... Done. 0.6s\n"
     ]
    },
    {
     "name": "stdout",
     "output_type": "stream",
     "text": [
      "137/137 [==============================] - 5s 35ms/step - loss: 8.0635 - mse: 0.2666 - val_loss: 7.9484 - val_mse: 0.2590\n",
      "Epoch 86/250\n",
      "133/137 [============================>.] - ETA: 0s - loss: 7.8553 - mse: 0.2664"
     ]
    },
    {
     "name": "stderr",
     "output_type": "stream",
     "text": [
      "\u001b[34m\u001b[1mwandb\u001b[0m: Adding directory to artifact (/content/wandb/run-20220824_054925-2534rsdl/files/model-best)... Done. 0.6s\n"
     ]
    },
    {
     "name": "stdout",
     "output_type": "stream",
     "text": [
      "137/137 [==============================] - 4s 33ms/step - loss: 7.8525 - mse: 0.2662 - val_loss: 7.7406 - val_mse: 0.2588\n",
      "Epoch 87/250\n",
      "136/137 [============================>.] - ETA: 0s - loss: 7.6477 - mse: 0.2659"
     ]
    },
    {
     "name": "stderr",
     "output_type": "stream",
     "text": [
      "\u001b[34m\u001b[1mwandb\u001b[0m: Adding directory to artifact (/content/wandb/run-20220824_054925-2534rsdl/files/model-best)... Done. 0.6s\n"
     ]
    },
    {
     "name": "stdout",
     "output_type": "stream",
     "text": [
      "137/137 [==============================] - 5s 34ms/step - loss: 7.6476 - mse: 0.2662 - val_loss: 7.5383 - val_mse: 0.2586\n",
      "Epoch 88/250\n",
      "137/137 [==============================] - ETA: 0s - loss: 7.4485 - mse: 0.2664"
     ]
    },
    {
     "name": "stderr",
     "output_type": "stream",
     "text": [
      "\u001b[34m\u001b[1mwandb\u001b[0m: Adding directory to artifact (/content/wandb/run-20220824_054925-2534rsdl/files/model-best)... Done. 0.6s\n"
     ]
    },
    {
     "name": "stdout",
     "output_type": "stream",
     "text": [
      "137/137 [==============================] - 5s 35ms/step - loss: 7.4485 - mse: 0.2664 - val_loss: 7.3416 - val_mse: 0.2585\n",
      "Epoch 89/250\n",
      "135/137 [============================>.] - ETA: 0s - loss: 7.2553 - mse: 0.2662"
     ]
    },
    {
     "name": "stderr",
     "output_type": "stream",
     "text": [
      "\u001b[34m\u001b[1mwandb\u001b[0m: Adding directory to artifact (/content/wandb/run-20220824_054925-2534rsdl/files/model-best)... Done. 0.6s\n"
     ]
    },
    {
     "name": "stdout",
     "output_type": "stream",
     "text": [
      "137/137 [==============================] - 5s 34ms/step - loss: 7.2541 - mse: 0.2660 - val_loss: 7.1501 - val_mse: 0.2583\n",
      "Epoch 90/250\n",
      "137/137 [==============================] - ETA: 0s - loss: 7.0649 - mse: 0.2656"
     ]
    },
    {
     "name": "stderr",
     "output_type": "stream",
     "text": [
      "\u001b[34m\u001b[1mwandb\u001b[0m: Adding directory to artifact (/content/wandb/run-20220824_054925-2534rsdl/files/model-best)... Done. 0.6s\n"
     ]
    },
    {
     "name": "stdout",
     "output_type": "stream",
     "text": [
      "137/137 [==============================] - 4s 33ms/step - loss: 7.0649 - mse: 0.2656 - val_loss: 6.9637 - val_mse: 0.2580\n",
      "Epoch 91/250\n",
      "136/137 [============================>.] - ETA: 0s - loss: 6.8815 - mse: 0.2654"
     ]
    },
    {
     "name": "stderr",
     "output_type": "stream",
     "text": [
      "\u001b[34m\u001b[1mwandb\u001b[0m: Adding directory to artifact (/content/wandb/run-20220824_054925-2534rsdl/files/model-best)... Done. 0.6s\n"
     ]
    },
    {
     "name": "stdout",
     "output_type": "stream",
     "text": [
      "137/137 [==============================] - 5s 40ms/step - loss: 6.8811 - mse: 0.2654 - val_loss: 6.7825 - val_mse: 0.2578\n",
      "Epoch 92/250\n",
      "134/137 [============================>.] - ETA: 0s - loss: 6.7048 - mse: 0.2661"
     ]
    },
    {
     "name": "stderr",
     "output_type": "stream",
     "text": [
      "\u001b[34m\u001b[1mwandb\u001b[0m: Adding directory to artifact (/content/wandb/run-20220824_054925-2534rsdl/files/model-best)... Done. 0.5s\n"
     ]
    },
    {
     "name": "stdout",
     "output_type": "stream",
     "text": [
      "137/137 [==============================] - 5s 37ms/step - loss: 6.7026 - mse: 0.2655 - val_loss: 6.6061 - val_mse: 0.2577\n",
      "Epoch 93/250\n",
      "134/137 [============================>.] - ETA: 0s - loss: 6.5300 - mse: 0.2652"
     ]
    },
    {
     "name": "stderr",
     "output_type": "stream",
     "text": [
      "\u001b[34m\u001b[1mwandb\u001b[0m: Adding directory to artifact (/content/wandb/run-20220824_054925-2534rsdl/files/model-best)... Done. 0.6s\n"
     ]
    },
    {
     "name": "stdout",
     "output_type": "stream",
     "text": [
      "137/137 [==============================] - 5s 34ms/step - loss: 6.5282 - mse: 0.2649 - val_loss: 6.4347 - val_mse: 0.2577\n",
      "Epoch 94/250\n",
      "137/137 [==============================] - ETA: 0s - loss: 6.3583 - mse: 0.2641"
     ]
    },
    {
     "name": "stderr",
     "output_type": "stream",
     "text": [
      "\u001b[34m\u001b[1mwandb\u001b[0m: Adding directory to artifact (/content/wandb/run-20220824_054925-2534rsdl/files/model-best)... Done. 0.6s\n"
     ]
    },
    {
     "name": "stdout",
     "output_type": "stream",
     "text": [
      "137/137 [==============================] - 5s 36ms/step - loss: 6.3583 - mse: 0.2641 - val_loss: 6.2675 - val_mse: 0.2573\n",
      "Epoch 95/250\n",
      "136/137 [============================>.] - ETA: 0s - loss: 6.1941 - mse: 0.2642"
     ]
    },
    {
     "name": "stderr",
     "output_type": "stream",
     "text": [
      "\u001b[34m\u001b[1mwandb\u001b[0m: Adding directory to artifact (/content/wandb/run-20220824_054925-2534rsdl/files/model-best)... Done. 0.6s\n"
     ]
    },
    {
     "name": "stdout",
     "output_type": "stream",
     "text": [
      "137/137 [==============================] - 5s 34ms/step - loss: 6.1936 - mse: 0.2640 - val_loss: 6.1050 - val_mse: 0.2570\n",
      "Epoch 96/250\n",
      "137/137 [==============================] - ETA: 0s - loss: 6.0333 - mse: 0.2638"
     ]
    },
    {
     "name": "stderr",
     "output_type": "stream",
     "text": [
      "\u001b[34m\u001b[1mwandb\u001b[0m: Adding directory to artifact (/content/wandb/run-20220824_054925-2534rsdl/files/model-best)... Done. 0.6s\n"
     ]
    },
    {
     "name": "stdout",
     "output_type": "stream",
     "text": [
      "137/137 [==============================] - 5s 33ms/step - loss: 6.0333 - mse: 0.2638 - val_loss: 5.9470 - val_mse: 0.2569\n",
      "Epoch 97/250\n",
      "137/137 [==============================] - ETA: 0s - loss: 5.8771 - mse: 0.2634"
     ]
    },
    {
     "name": "stderr",
     "output_type": "stream",
     "text": [
      "\u001b[34m\u001b[1mwandb\u001b[0m: Adding directory to artifact (/content/wandb/run-20220824_054925-2534rsdl/files/model-best)... Done. 0.6s\n"
     ]
    },
    {
     "name": "stdout",
     "output_type": "stream",
     "text": [
      "137/137 [==============================] - 5s 36ms/step - loss: 5.8771 - mse: 0.2634 - val_loss: 5.7931 - val_mse: 0.2566\n",
      "Epoch 98/250\n",
      "133/137 [============================>.] - ETA: 0s - loss: 5.7286 - mse: 0.2645"
     ]
    },
    {
     "name": "stderr",
     "output_type": "stream",
     "text": [
      "\u001b[34m\u001b[1mwandb\u001b[0m: Adding directory to artifact (/content/wandb/run-20220824_054925-2534rsdl/files/model-best)... Done. 0.5s\n"
     ]
    },
    {
     "name": "stdout",
     "output_type": "stream",
     "text": [
      "137/137 [==============================] - 4s 32ms/step - loss: 5.7260 - mse: 0.2638 - val_loss: 5.6435 - val_mse: 0.2565\n",
      "Epoch 99/250\n",
      "133/137 [============================>.] - ETA: 0s - loss: 5.5793 - mse: 0.2627"
     ]
    },
    {
     "name": "stderr",
     "output_type": "stream",
     "text": [
      "\u001b[34m\u001b[1mwandb\u001b[0m: Adding directory to artifact (/content/wandb/run-20220824_054925-2534rsdl/files/model-best)... Done. 0.5s\n"
     ]
    },
    {
     "name": "stdout",
     "output_type": "stream",
     "text": [
      "137/137 [==============================] - 5s 34ms/step - loss: 5.5773 - mse: 0.2626 - val_loss: 5.4978 - val_mse: 0.2562\n",
      "Epoch 100/250\n",
      "136/137 [============================>.] - ETA: 0s - loss: 5.4351 - mse: 0.2635"
     ]
    },
    {
     "name": "stderr",
     "output_type": "stream",
     "text": [
      "\u001b[34m\u001b[1mwandb\u001b[0m: Adding directory to artifact (/content/wandb/run-20220824_054925-2534rsdl/files/model-best)... Done. 0.5s\n"
     ]
    },
    {
     "name": "stdout",
     "output_type": "stream",
     "text": [
      "137/137 [==============================] - 4s 32ms/step - loss: 5.4344 - mse: 0.2631 - val_loss: 5.3563 - val_mse: 0.2562\n",
      "Epoch 101/250\n",
      "132/137 [===========================>..] - ETA: 0s - loss: 5.2949 - mse: 0.2610"
     ]
    },
    {
     "name": "stderr",
     "output_type": "stream",
     "text": [
      "\u001b[34m\u001b[1mwandb\u001b[0m: Adding directory to artifact (/content/wandb/run-20220824_054925-2534rsdl/files/model-best)... Done. 0.6s\n"
     ]
    },
    {
     "name": "stdout",
     "output_type": "stream",
     "text": [
      "137/137 [==============================] - 5s 35ms/step - loss: 5.2930 - mse: 0.2612 - val_loss: 5.2183 - val_mse: 0.2559\n",
      "Epoch 102/250\n",
      "133/137 [============================>.] - ETA: 0s - loss: 5.1595 - mse: 0.2619"
     ]
    },
    {
     "name": "stderr",
     "output_type": "stream",
     "text": [
      "\u001b[34m\u001b[1mwandb\u001b[0m: Adding directory to artifact (/content/wandb/run-20220824_054925-2534rsdl/files/model-best)... Done. 0.6s\n"
     ]
    },
    {
     "name": "stdout",
     "output_type": "stream",
     "text": [
      "137/137 [==============================] - 5s 34ms/step - loss: 5.1576 - mse: 0.2617 - val_loss: 5.0840 - val_mse: 0.2555\n",
      "Epoch 103/250\n",
      "134/137 [============================>.] - ETA: 0s - loss: 5.0262 - mse: 0.2613"
     ]
    },
    {
     "name": "stderr",
     "output_type": "stream",
     "text": [
      "\u001b[34m\u001b[1mwandb\u001b[0m: Adding directory to artifact (/content/wandb/run-20220824_054925-2534rsdl/files/model-best)... Done. 0.6s\n"
     ]
    },
    {
     "name": "stdout",
     "output_type": "stream",
     "text": [
      "137/137 [==============================] - 5s 40ms/step - loss: 5.0246 - mse: 0.2608 - val_loss: 4.9535 - val_mse: 0.2553\n",
      "Epoch 104/250\n",
      "132/137 [===========================>..] - ETA: 0s - loss: 4.8995 - mse: 0.2622"
     ]
    },
    {
     "name": "stderr",
     "output_type": "stream",
     "text": [
      "\u001b[34m\u001b[1mwandb\u001b[0m: Adding directory to artifact (/content/wandb/run-20220824_054925-2534rsdl/files/model-best)... Done. 0.6s\n"
     ]
    },
    {
     "name": "stdout",
     "output_type": "stream",
     "text": [
      "137/137 [==============================] - 4s 33ms/step - loss: 4.8961 - mse: 0.2609 - val_loss: 4.8263 - val_mse: 0.2549\n",
      "Epoch 105/250\n",
      "136/137 [============================>.] - ETA: 0s - loss: 4.7711 - mse: 0.2607"
     ]
    },
    {
     "name": "stderr",
     "output_type": "stream",
     "text": [
      "\u001b[34m\u001b[1mwandb\u001b[0m: Adding directory to artifact (/content/wandb/run-20220824_054925-2534rsdl/files/model-best)... Done. 0.6s\n"
     ]
    },
    {
     "name": "stdout",
     "output_type": "stream",
     "text": [
      "137/137 [==============================] - 5s 34ms/step - loss: 4.7708 - mse: 0.2606 - val_loss: 4.7029 - val_mse: 0.2548\n",
      "Epoch 106/250\n",
      "133/137 [============================>.] - ETA: 0s - loss: 4.6496 - mse: 0.2596"
     ]
    },
    {
     "name": "stderr",
     "output_type": "stream",
     "text": [
      "\u001b[34m\u001b[1mwandb\u001b[0m: Adding directory to artifact (/content/wandb/run-20220824_054925-2534rsdl/files/model-best)... Done. 0.6s\n"
     ]
    },
    {
     "name": "stdout",
     "output_type": "stream",
     "text": [
      "137/137 [==============================] - 5s 36ms/step - loss: 4.6483 - mse: 0.2599 - val_loss: 4.5825 - val_mse: 0.2544\n",
      "Epoch 107/250\n",
      "134/137 [============================>.] - ETA: 0s - loss: 4.5295 - mse: 0.2584"
     ]
    },
    {
     "name": "stderr",
     "output_type": "stream",
     "text": [
      "\u001b[34m\u001b[1mwandb\u001b[0m: Adding directory to artifact (/content/wandb/run-20220824_054925-2534rsdl/files/model-best)... Done. 0.6s\n"
     ]
    },
    {
     "name": "stdout",
     "output_type": "stream",
     "text": [
      "137/137 [==============================] - 5s 34ms/step - loss: 4.5299 - mse: 0.2598 - val_loss: 4.4659 - val_mse: 0.2546\n",
      "Epoch 108/250\n",
      "133/137 [============================>.] - ETA: 0s - loss: 4.4157 - mse: 0.2594"
     ]
    },
    {
     "name": "stderr",
     "output_type": "stream",
     "text": [
      "\u001b[34m\u001b[1mwandb\u001b[0m: Adding directory to artifact (/content/wandb/run-20220824_054925-2534rsdl/files/model-best)... Done. 0.5s\n"
     ]
    },
    {
     "name": "stdout",
     "output_type": "stream",
     "text": [
      "137/137 [==============================] - 5s 33ms/step - loss: 4.4146 - mse: 0.2597 - val_loss: 4.3518 - val_mse: 0.2541\n",
      "Epoch 109/250\n",
      "134/137 [============================>.] - ETA: 0s - loss: 4.3035 - mse: 0.2597"
     ]
    },
    {
     "name": "stderr",
     "output_type": "stream",
     "text": [
      "\u001b[34m\u001b[1mwandb\u001b[0m: Adding directory to artifact (/content/wandb/run-20220824_054925-2534rsdl/files/model-best)... Done. 0.6s\n"
     ]
    },
    {
     "name": "stdout",
     "output_type": "stream",
     "text": [
      "137/137 [==============================] - 5s 36ms/step - loss: 4.3022 - mse: 0.2594 - val_loss: 4.2408 - val_mse: 0.2536\n",
      "Epoch 110/250\n",
      "134/137 [============================>.] - ETA: 0s - loss: 4.1936 - mse: 0.2589"
     ]
    },
    {
     "name": "stderr",
     "output_type": "stream",
     "text": [
      "\u001b[34m\u001b[1mwandb\u001b[0m: Adding directory to artifact (/content/wandb/run-20220824_054925-2534rsdl/files/model-best)... Done. 0.6s\n"
     ]
    },
    {
     "name": "stdout",
     "output_type": "stream",
     "text": [
      "137/137 [==============================] - 5s 33ms/step - loss: 4.1927 - mse: 0.2589 - val_loss: 4.1332 - val_mse: 0.2536\n",
      "Epoch 111/250\n",
      "134/137 [============================>.] - ETA: 0s - loss: 4.0868 - mse: 0.2582"
     ]
    },
    {
     "name": "stderr",
     "output_type": "stream",
     "text": [
      "\u001b[34m\u001b[1mwandb\u001b[0m: Adding directory to artifact (/content/wandb/run-20220824_054925-2534rsdl/files/model-best)... Done. 0.6s\n"
     ]
    },
    {
     "name": "stdout",
     "output_type": "stream",
     "text": [
      "137/137 [==============================] - 5s 33ms/step - loss: 4.0859 - mse: 0.2583 - val_loss: 4.0280 - val_mse: 0.2530\n",
      "Epoch 112/250\n",
      "134/137 [============================>.] - ETA: 0s - loss: 3.9818 - mse: 0.2564"
     ]
    },
    {
     "name": "stderr",
     "output_type": "stream",
     "text": [
      "\u001b[34m\u001b[1mwandb\u001b[0m: Adding directory to artifact (/content/wandb/run-20220824_054925-2534rsdl/files/model-best)... Done. 0.6s\n"
     ]
    },
    {
     "name": "stdout",
     "output_type": "stream",
     "text": [
      "137/137 [==============================] - 5s 36ms/step - loss: 3.9818 - mse: 0.2574 - val_loss: 3.9259 - val_mse: 0.2527\n",
      "Epoch 113/250\n",
      "137/137 [==============================] - ETA: 0s - loss: 3.8810 - mse: 0.2570"
     ]
    },
    {
     "name": "stderr",
     "output_type": "stream",
     "text": [
      "\u001b[34m\u001b[1mwandb\u001b[0m: Adding directory to artifact (/content/wandb/run-20220824_054925-2534rsdl/files/model-best)... Done. 0.6s\n"
     ]
    },
    {
     "name": "stdout",
     "output_type": "stream",
     "text": [
      "137/137 [==============================] - 5s 33ms/step - loss: 3.8810 - mse: 0.2570 - val_loss: 3.8266 - val_mse: 0.2524\n",
      "Epoch 114/250\n",
      "134/137 [============================>.] - ETA: 0s - loss: 3.7848 - mse: 0.2576"
     ]
    },
    {
     "name": "stderr",
     "output_type": "stream",
     "text": [
      "\u001b[34m\u001b[1mwandb\u001b[0m: Adding directory to artifact (/content/wandb/run-20220824_054925-2534rsdl/files/model-best)... Done. 0.5s\n"
     ]
    },
    {
     "name": "stdout",
     "output_type": "stream",
     "text": [
      "137/137 [==============================] - 4s 33ms/step - loss: 3.7832 - mse: 0.2570 - val_loss: 3.7299 - val_mse: 0.2521\n",
      "Epoch 115/250\n",
      "132/137 [===========================>..] - ETA: 0s - loss: 3.6890 - mse: 0.2563"
     ]
    },
    {
     "name": "stderr",
     "output_type": "stream",
     "text": [
      "\u001b[34m\u001b[1mwandb\u001b[0m: Adding directory to artifact (/content/wandb/run-20220824_054925-2534rsdl/files/model-best)... Done. 0.5s\n"
     ]
    },
    {
     "name": "stdout",
     "output_type": "stream",
     "text": [
      "137/137 [==============================] - 5s 35ms/step - loss: 3.6879 - mse: 0.2566 - val_loss: 3.6359 - val_mse: 0.2519\n",
      "Epoch 116/250\n",
      "133/137 [============================>.] - ETA: 0s - loss: 3.5945 - mse: 0.2546"
     ]
    },
    {
     "name": "stderr",
     "output_type": "stream",
     "text": [
      "\u001b[34m\u001b[1mwandb\u001b[0m: Adding directory to artifact (/content/wandb/run-20220824_054925-2534rsdl/files/model-best)... Done. 0.6s\n"
     ]
    },
    {
     "name": "stdout",
     "output_type": "stream",
     "text": [
      "137/137 [==============================] - 5s 34ms/step - loss: 3.5948 - mse: 0.2561 - val_loss: 3.5446 - val_mse: 0.2517\n",
      "Epoch 117/250\n",
      "137/137 [==============================] - ETA: 0s - loss: 3.5046 - mse: 0.2558"
     ]
    },
    {
     "name": "stderr",
     "output_type": "stream",
     "text": [
      "\u001b[34m\u001b[1mwandb\u001b[0m: Adding directory to artifact (/content/wandb/run-20220824_054925-2534rsdl/files/model-best)... Done. 0.5s\n"
     ]
    },
    {
     "name": "stdout",
     "output_type": "stream",
     "text": [
      "137/137 [==============================] - 5s 35ms/step - loss: 3.5046 - mse: 0.2558 - val_loss: 3.4555 - val_mse: 0.2514\n",
      "Epoch 118/250\n",
      "134/137 [============================>.] - ETA: 0s - loss: 3.4175 - mse: 0.2556"
     ]
    },
    {
     "name": "stderr",
     "output_type": "stream",
     "text": [
      "\u001b[34m\u001b[1mwandb\u001b[0m: Adding directory to artifact (/content/wandb/run-20220824_054925-2534rsdl/files/model-best)... Done. 0.5s\n"
     ]
    },
    {
     "name": "stdout",
     "output_type": "stream",
     "text": [
      "137/137 [==============================] - 5s 36ms/step - loss: 3.4162 - mse: 0.2550 - val_loss: 3.3686 - val_mse: 0.2508\n",
      "Epoch 119/250\n",
      "134/137 [============================>.] - ETA: 0s - loss: 3.3319 - mse: 0.2552"
     ]
    },
    {
     "name": "stderr",
     "output_type": "stream",
     "text": [
      "\u001b[34m\u001b[1mwandb\u001b[0m: Adding directory to artifact (/content/wandb/run-20220824_054925-2534rsdl/files/model-best)... Done. 0.6s\n"
     ]
    },
    {
     "name": "stdout",
     "output_type": "stream",
     "text": [
      "137/137 [==============================] - 4s 33ms/step - loss: 3.3310 - mse: 0.2550 - val_loss: 3.2842 - val_mse: 0.2505\n",
      "Epoch 120/250\n",
      "132/137 [===========================>..] - ETA: 0s - loss: 3.2484 - mse: 0.2539"
     ]
    },
    {
     "name": "stderr",
     "output_type": "stream",
     "text": [
      "\u001b[34m\u001b[1mwandb\u001b[0m: Adding directory to artifact (/content/wandb/run-20220824_054925-2534rsdl/files/model-best)... Done. 0.6s\n"
     ]
    },
    {
     "name": "stdout",
     "output_type": "stream",
     "text": [
      "137/137 [==============================] - 5s 36ms/step - loss: 3.2467 - mse: 0.2536 - val_loss: 3.2024 - val_mse: 0.2504\n",
      "Epoch 121/250\n",
      "134/137 [============================>.] - ETA: 0s - loss: 3.1669 - mse: 0.2537"
     ]
    },
    {
     "name": "stderr",
     "output_type": "stream",
     "text": [
      "\u001b[34m\u001b[1mwandb\u001b[0m: Adding directory to artifact (/content/wandb/run-20220824_054925-2534rsdl/files/model-best)... Done. 0.6s\n"
     ]
    },
    {
     "name": "stdout",
     "output_type": "stream",
     "text": [
      "137/137 [==============================] - 5s 34ms/step - loss: 3.1659 - mse: 0.2534 - val_loss: 3.1228 - val_mse: 0.2503\n",
      "Epoch 122/250\n",
      "136/137 [============================>.] - ETA: 0s - loss: 3.0868 - mse: 0.2526"
     ]
    },
    {
     "name": "stderr",
     "output_type": "stream",
     "text": [
      "\u001b[34m\u001b[1mwandb\u001b[0m: Adding directory to artifact (/content/wandb/run-20220824_054925-2534rsdl/files/model-best)... Done. 0.6s\n"
     ]
    },
    {
     "name": "stdout",
     "output_type": "stream",
     "text": [
      "137/137 [==============================] - 5s 34ms/step - loss: 3.0865 - mse: 0.2524 - val_loss: 3.0445 - val_mse: 0.2494\n",
      "Epoch 123/250\n",
      "136/137 [============================>.] - ETA: 0s - loss: 3.0105 - mse: 0.2526"
     ]
    },
    {
     "name": "stderr",
     "output_type": "stream",
     "text": [
      "\u001b[34m\u001b[1mwandb\u001b[0m: Adding directory to artifact (/content/wandb/run-20220824_054925-2534rsdl/files/model-best)... Done. 0.6s\n"
     ]
    },
    {
     "name": "stdout",
     "output_type": "stream",
     "text": [
      "137/137 [==============================] - 4s 33ms/step - loss: 3.0104 - mse: 0.2527 - val_loss: 2.9692 - val_mse: 0.2493\n",
      "Epoch 124/250\n",
      "137/137 [==============================] - ETA: 0s - loss: 2.9349 - mse: 0.2514"
     ]
    },
    {
     "name": "stderr",
     "output_type": "stream",
     "text": [
      "\u001b[34m\u001b[1mwandb\u001b[0m: Adding directory to artifact (/content/wandb/run-20220824_054925-2534rsdl/files/model-best)... Done. 0.6s\n"
     ]
    },
    {
     "name": "stdout",
     "output_type": "stream",
     "text": [
      "137/137 [==============================] - 5s 37ms/step - loss: 2.9349 - mse: 0.2514 - val_loss: 2.8954 - val_mse: 0.2487\n",
      "Epoch 125/250\n",
      "136/137 [============================>.] - ETA: 0s - loss: 2.8619 - mse: 0.2505"
     ]
    },
    {
     "name": "stderr",
     "output_type": "stream",
     "text": [
      "\u001b[34m\u001b[1mwandb\u001b[0m: Adding directory to artifact (/content/wandb/run-20220824_054925-2534rsdl/files/model-best)... Done. 0.6s\n"
     ]
    },
    {
     "name": "stdout",
     "output_type": "stream",
     "text": [
      "137/137 [==============================] - 5s 33ms/step - loss: 2.8620 - mse: 0.2508 - val_loss: 2.8241 - val_mse: 0.2487\n",
      "Epoch 126/250\n",
      "134/137 [============================>.] - ETA: 0s - loss: 2.7922 - mse: 0.2506"
     ]
    },
    {
     "name": "stderr",
     "output_type": "stream",
     "text": [
      "\u001b[34m\u001b[1mwandb\u001b[0m: Adding directory to artifact (/content/wandb/run-20220824_054925-2534rsdl/files/model-best)... Done. 0.6s\n"
     ]
    },
    {
     "name": "stdout",
     "output_type": "stream",
     "text": [
      "137/137 [==============================] - 5s 33ms/step - loss: 2.7918 - mse: 0.2508 - val_loss: 2.7540 - val_mse: 0.2479\n",
      "Epoch 127/250\n",
      "137/137 [==============================] - ETA: 0s - loss: 2.7227 - mse: 0.2502"
     ]
    },
    {
     "name": "stderr",
     "output_type": "stream",
     "text": [
      "\u001b[34m\u001b[1mwandb\u001b[0m: Adding directory to artifact (/content/wandb/run-20220824_054925-2534rsdl/files/model-best)... Done. 0.5s\n"
     ]
    },
    {
     "name": "stdout",
     "output_type": "stream",
     "text": [
      "137/137 [==============================] - 5s 35ms/step - loss: 2.7227 - mse: 0.2502 - val_loss: 2.6864 - val_mse: 0.2477\n",
      "Epoch 128/250\n",
      "137/137 [==============================] - ETA: 0s - loss: 2.6552 - mse: 0.2492"
     ]
    },
    {
     "name": "stderr",
     "output_type": "stream",
     "text": [
      "\u001b[34m\u001b[1mwandb\u001b[0m: Adding directory to artifact (/content/wandb/run-20220824_054925-2534rsdl/files/model-best)... Done. 0.5s\n"
     ]
    },
    {
     "name": "stdout",
     "output_type": "stream",
     "text": [
      "137/137 [==============================] - 4s 32ms/step - loss: 2.6552 - mse: 0.2492 - val_loss: 2.6202 - val_mse: 0.2471\n",
      "Epoch 129/250\n",
      "135/137 [============================>.] - ETA: 0s - loss: 2.5904 - mse: 0.2487"
     ]
    },
    {
     "name": "stderr",
     "output_type": "stream",
     "text": [
      "\u001b[34m\u001b[1mwandb\u001b[0m: Adding directory to artifact (/content/wandb/run-20220824_054925-2534rsdl/files/model-best)... Done. 0.6s\n"
     ]
    },
    {
     "name": "stdout",
     "output_type": "stream",
     "text": [
      "137/137 [==============================] - 5s 35ms/step - loss: 2.5901 - mse: 0.2488 - val_loss: 2.5560 - val_mse: 0.2468\n",
      "Epoch 130/250\n",
      "135/137 [============================>.] - ETA: 0s - loss: 2.5271 - mse: 0.2484"
     ]
    },
    {
     "name": "stderr",
     "output_type": "stream",
     "text": [
      "\u001b[34m\u001b[1mwandb\u001b[0m: Adding directory to artifact (/content/wandb/run-20220824_054925-2534rsdl/files/model-best)... Done. 0.6s\n"
     ]
    },
    {
     "name": "stdout",
     "output_type": "stream",
     "text": [
      "137/137 [==============================] - 5s 34ms/step - loss: 2.5268 - mse: 0.2484 - val_loss: 2.4935 - val_mse: 0.2464\n",
      "Epoch 131/250\n",
      "132/137 [===========================>..] - ETA: 0s - loss: 2.4655 - mse: 0.2475"
     ]
    },
    {
     "name": "stderr",
     "output_type": "stream",
     "text": [
      "\u001b[34m\u001b[1mwandb\u001b[0m: Adding directory to artifact (/content/wandb/run-20220824_054925-2534rsdl/files/model-best)... Done. 0.6s\n"
     ]
    },
    {
     "name": "stdout",
     "output_type": "stream",
     "text": [
      "137/137 [==============================] - 4s 33ms/step - loss: 2.4647 - mse: 0.2476 - val_loss: 2.4328 - val_mse: 0.2462\n",
      "Epoch 132/250\n",
      "133/137 [============================>.] - ETA: 0s - loss: 2.4048 - mse: 0.2466"
     ]
    },
    {
     "name": "stderr",
     "output_type": "stream",
     "text": [
      "\u001b[34m\u001b[1mwandb\u001b[0m: Adding directory to artifact (/content/wandb/run-20220824_054925-2534rsdl/files/model-best)... Done. 0.6s\n"
     ]
    },
    {
     "name": "stdout",
     "output_type": "stream",
     "text": [
      "137/137 [==============================] - 5s 35ms/step - loss: 2.4047 - mse: 0.2472 - val_loss: 2.3735 - val_mse: 0.2457\n",
      "Epoch 133/250\n",
      "136/137 [============================>.] - ETA: 0s - loss: 2.3460 - mse: 0.2465"
     ]
    },
    {
     "name": "stderr",
     "output_type": "stream",
     "text": [
      "\u001b[34m\u001b[1mwandb\u001b[0m: Adding directory to artifact (/content/wandb/run-20220824_054925-2534rsdl/files/model-best)... Done. 0.5s\n"
     ]
    },
    {
     "name": "stdout",
     "output_type": "stream",
     "text": [
      "137/137 [==============================] - 5s 33ms/step - loss: 2.3461 - mse: 0.2466 - val_loss: 2.3158 - val_mse: 0.2451\n",
      "Epoch 134/250\n",
      "135/137 [============================>.] - ETA: 0s - loss: 2.2894 - mse: 0.2460"
     ]
    },
    {
     "name": "stderr",
     "output_type": "stream",
     "text": [
      "\u001b[34m\u001b[1mwandb\u001b[0m: Adding directory to artifact (/content/wandb/run-20220824_054925-2534rsdl/files/model-best)... Done. 0.6s\n"
     ]
    },
    {
     "name": "stdout",
     "output_type": "stream",
     "text": [
      "137/137 [==============================] - 5s 33ms/step - loss: 2.2891 - mse: 0.2460 - val_loss: 2.2598 - val_mse: 0.2447\n",
      "Epoch 135/250\n",
      "133/137 [============================>.] - ETA: 0s - loss: 2.2332 - mse: 0.2443"
     ]
    },
    {
     "name": "stderr",
     "output_type": "stream",
     "text": [
      "\u001b[34m\u001b[1mwandb\u001b[0m: Adding directory to artifact (/content/wandb/run-20220824_054925-2534rsdl/files/model-best)... Done. 0.6s\n"
     ]
    },
    {
     "name": "stdout",
     "output_type": "stream",
     "text": [
      "137/137 [==============================] - 5s 36ms/step - loss: 2.2334 - mse: 0.2452 - val_loss: 2.2055 - val_mse: 0.2445\n",
      "Epoch 136/250\n",
      "137/137 [==============================] - ETA: 0s - loss: 2.1791 - mse: 0.2443"
     ]
    },
    {
     "name": "stderr",
     "output_type": "stream",
     "text": [
      "\u001b[34m\u001b[1mwandb\u001b[0m: Adding directory to artifact (/content/wandb/run-20220824_054925-2534rsdl/files/model-best)... Done. 0.4s\n"
     ]
    },
    {
     "name": "stdout",
     "output_type": "stream",
     "text": [
      "137/137 [==============================] - 4s 32ms/step - loss: 2.1791 - mse: 0.2443 - val_loss: 2.1521 - val_mse: 0.2438\n",
      "Epoch 137/250\n",
      "135/137 [============================>.] - ETA: 0s - loss: 2.1267 - mse: 0.2435"
     ]
    },
    {
     "name": "stderr",
     "output_type": "stream",
     "text": [
      "\u001b[34m\u001b[1mwandb\u001b[0m: Adding directory to artifact (/content/wandb/run-20220824_054925-2534rsdl/files/model-best)... Done. 0.4s\n"
     ]
    },
    {
     "name": "stdout",
     "output_type": "stream",
     "text": [
      "137/137 [==============================] - 4s 33ms/step - loss: 2.1264 - mse: 0.2435 - val_loss: 2.1004 - val_mse: 0.2433\n",
      "Epoch 138/250\n",
      "132/137 [===========================>..] - ETA: 0s - loss: 2.0762 - mse: 0.2430"
     ]
    },
    {
     "name": "stderr",
     "output_type": "stream",
     "text": [
      "\u001b[34m\u001b[1mwandb\u001b[0m: Adding directory to artifact (/content/wandb/run-20220824_054925-2534rsdl/files/model-best)... Done. 0.5s\n"
     ]
    },
    {
     "name": "stdout",
     "output_type": "stream",
     "text": [
      "137/137 [==============================] - 5s 36ms/step - loss: 2.0753 - mse: 0.2430 - val_loss: 2.0502 - val_mse: 0.2430\n",
      "Epoch 139/250\n",
      "134/137 [============================>.] - ETA: 0s - loss: 2.0265 - mse: 0.2429"
     ]
    },
    {
     "name": "stderr",
     "output_type": "stream",
     "text": [
      "\u001b[34m\u001b[1mwandb\u001b[0m: Adding directory to artifact (/content/wandb/run-20220824_054925-2534rsdl/files/model-best)... Done. 0.6s\n"
     ]
    },
    {
     "name": "stdout",
     "output_type": "stream",
     "text": [
      "137/137 [==============================] - 5s 33ms/step - loss: 2.0256 - mse: 0.2424 - val_loss: 2.0011 - val_mse: 0.2424\n",
      "Epoch 140/250\n",
      "136/137 [============================>.] - ETA: 0s - loss: 1.9772 - mse: 0.2418"
     ]
    },
    {
     "name": "stderr",
     "output_type": "stream",
     "text": [
      "\u001b[34m\u001b[1mwandb\u001b[0m: Adding directory to artifact (/content/wandb/run-20220824_054925-2534rsdl/files/model-best)... Done. 0.6s\n"
     ]
    },
    {
     "name": "stdout",
     "output_type": "stream",
     "text": [
      "137/137 [==============================] - 5s 36ms/step - loss: 1.9772 - mse: 0.2419 - val_loss: 1.9535 - val_mse: 0.2420\n",
      "Epoch 141/250\n",
      "135/137 [============================>.] - ETA: 0s - loss: 1.9306 - mse: 0.2416"
     ]
    },
    {
     "name": "stderr",
     "output_type": "stream",
     "text": [
      "\u001b[34m\u001b[1mwandb\u001b[0m: Adding directory to artifact (/content/wandb/run-20220824_054925-2534rsdl/files/model-best)... Done. 0.6s\n"
     ]
    },
    {
     "name": "stdout",
     "output_type": "stream",
     "text": [
      "137/137 [==============================] - 6s 43ms/step - loss: 1.9298 - mse: 0.2411 - val_loss: 1.9072 - val_mse: 0.2416\n",
      "Epoch 142/250\n",
      "133/137 [============================>.] - ETA: 0s - loss: 1.8846 - mse: 0.2405"
     ]
    },
    {
     "name": "stderr",
     "output_type": "stream",
     "text": [
      "\u001b[34m\u001b[1mwandb\u001b[0m: Adding directory to artifact (/content/wandb/run-20220824_054925-2534rsdl/files/model-best)... Done. 0.6s\n"
     ]
    },
    {
     "name": "stdout",
     "output_type": "stream",
     "text": [
      "137/137 [==============================] - 5s 34ms/step - loss: 1.8839 - mse: 0.2404 - val_loss: 1.8621 - val_mse: 0.2410\n",
      "Epoch 143/250\n",
      "135/137 [============================>.] - ETA: 0s - loss: 1.8390 - mse: 0.2393"
     ]
    },
    {
     "name": "stderr",
     "output_type": "stream",
     "text": [
      "\u001b[34m\u001b[1mwandb\u001b[0m: Adding directory to artifact (/content/wandb/run-20220824_054925-2534rsdl/files/model-best)... Done. 0.6s\n"
     ]
    },
    {
     "name": "stdout",
     "output_type": "stream",
     "text": [
      "137/137 [==============================] - 5s 34ms/step - loss: 1.8392 - mse: 0.2398 - val_loss: 1.8184 - val_mse: 0.2408\n",
      "Epoch 144/250\n",
      "132/137 [===========================>..] - ETA: 0s - loss: 1.7952 - mse: 0.2379"
     ]
    },
    {
     "name": "stderr",
     "output_type": "stream",
     "text": [
      "\u001b[34m\u001b[1mwandb\u001b[0m: Adding directory to artifact (/content/wandb/run-20220824_054925-2534rsdl/files/model-best)... Done. 0.6s\n"
     ]
    },
    {
     "name": "stdout",
     "output_type": "stream",
     "text": [
      "137/137 [==============================] - 4s 33ms/step - loss: 1.7951 - mse: 0.2384 - val_loss: 1.7754 - val_mse: 0.2401\n",
      "Epoch 145/250\n",
      "133/137 [============================>.] - ETA: 0s - loss: 1.7546 - mse: 0.2392"
     ]
    },
    {
     "name": "stderr",
     "output_type": "stream",
     "text": [
      "\u001b[34m\u001b[1mwandb\u001b[0m: Adding directory to artifact (/content/wandb/run-20220824_054925-2534rsdl/files/model-best)... Done. 0.6s\n"
     ]
    },
    {
     "name": "stdout",
     "output_type": "stream",
     "text": [
      "137/137 [==============================] - 5s 37ms/step - loss: 1.7533 - mse: 0.2384 - val_loss: 1.7338 - val_mse: 0.2396\n",
      "Epoch 146/250\n",
      "135/137 [============================>.] - ETA: 0s - loss: 1.7122 - mse: 0.2376"
     ]
    },
    {
     "name": "stderr",
     "output_type": "stream",
     "text": [
      "\u001b[34m\u001b[1mwandb\u001b[0m: Adding directory to artifact (/content/wandb/run-20220824_054925-2534rsdl/files/model-best)... Done. 0.6s\n"
     ]
    },
    {
     "name": "stdout",
     "output_type": "stream",
     "text": [
      "137/137 [==============================] - 5s 34ms/step - loss: 1.7116 - mse: 0.2372 - val_loss: 1.6935 - val_mse: 0.2392\n",
      "Epoch 147/250\n",
      "133/137 [============================>.] - ETA: 0s - loss: 1.6719 - mse: 0.2364"
     ]
    },
    {
     "name": "stderr",
     "output_type": "stream",
     "text": [
      "\u001b[34m\u001b[1mwandb\u001b[0m: Adding directory to artifact (/content/wandb/run-20220824_054925-2534rsdl/files/model-best)... Done. 0.6s\n"
     ]
    },
    {
     "name": "stdout",
     "output_type": "stream",
     "text": [
      "137/137 [==============================] - 5s 36ms/step - loss: 1.6719 - mse: 0.2370 - val_loss: 1.6539 - val_mse: 0.2386\n",
      "Epoch 148/250\n",
      "134/137 [============================>.] - ETA: 0s - loss: 1.6330 - mse: 0.2361"
     ]
    },
    {
     "name": "stderr",
     "output_type": "stream",
     "text": [
      "\u001b[34m\u001b[1mwandb\u001b[0m: Adding directory to artifact (/content/wandb/run-20220824_054925-2534rsdl/files/model-best)... Done. 0.6s\n"
     ]
    },
    {
     "name": "stdout",
     "output_type": "stream",
     "text": [
      "137/137 [==============================] - 5s 34ms/step - loss: 1.6327 - mse: 0.2362 - val_loss: 1.6156 - val_mse: 0.2381\n",
      "Epoch 149/250\n",
      "133/137 [============================>.] - ETA: 0s - loss: 1.5944 - mse: 0.2347"
     ]
    },
    {
     "name": "stderr",
     "output_type": "stream",
     "text": [
      "\u001b[34m\u001b[1mwandb\u001b[0m: Adding directory to artifact (/content/wandb/run-20220824_054925-2534rsdl/files/model-best)... Done. 0.6s\n"
     ]
    },
    {
     "name": "stdout",
     "output_type": "stream",
     "text": [
      "137/137 [==============================] - 5s 34ms/step - loss: 1.5939 - mse: 0.2346 - val_loss: 1.5783 - val_mse: 0.2376\n",
      "Epoch 150/250\n",
      "132/137 [===========================>..] - ETA: 0s - loss: 1.5583 - mse: 0.2348"
     ]
    },
    {
     "name": "stderr",
     "output_type": "stream",
     "text": [
      "\u001b[34m\u001b[1mwandb\u001b[0m: Adding directory to artifact (/content/wandb/run-20220824_054925-2534rsdl/files/model-best)... Done. 0.5s\n"
     ]
    },
    {
     "name": "stdout",
     "output_type": "stream",
     "text": [
      "137/137 [==============================] - 5s 35ms/step - loss: 1.5570 - mse: 0.2341 - val_loss: 1.5420 - val_mse: 0.2372\n",
      "Epoch 151/250\n",
      "136/137 [============================>.] - ETA: 0s - loss: 1.5207 - mse: 0.2331"
     ]
    },
    {
     "name": "stderr",
     "output_type": "stream",
     "text": [
      "\u001b[34m\u001b[1mwandb\u001b[0m: Adding directory to artifact (/content/wandb/run-20220824_054925-2534rsdl/files/model-best)... Done. 0.6s\n"
     ]
    },
    {
     "name": "stdout",
     "output_type": "stream",
     "text": [
      "137/137 [==============================] - 5s 33ms/step - loss: 1.5204 - mse: 0.2329 - val_loss: 1.5067 - val_mse: 0.2367\n",
      "Epoch 152/250\n",
      "135/137 [============================>.] - ETA: 0s - loss: 1.4871 - mse: 0.2337"
     ]
    },
    {
     "name": "stderr",
     "output_type": "stream",
     "text": [
      "\u001b[34m\u001b[1mwandb\u001b[0m: Adding directory to artifact (/content/wandb/run-20220824_054925-2534rsdl/files/model-best)... Done. 0.5s\n"
     ]
    },
    {
     "name": "stdout",
     "output_type": "stream",
     "text": [
      "137/137 [==============================] - 4s 32ms/step - loss: 1.4865 - mse: 0.2333 - val_loss: 1.4722 - val_mse: 0.2361\n",
      "Epoch 153/250\n",
      "136/137 [============================>.] - ETA: 0s - loss: 1.4519 - mse: 0.2322"
     ]
    },
    {
     "name": "stderr",
     "output_type": "stream",
     "text": [
      "\u001b[34m\u001b[1mwandb\u001b[0m: Adding directory to artifact (/content/wandb/run-20220824_054925-2534rsdl/files/model-best)... Done. 0.6s\n"
     ]
    },
    {
     "name": "stdout",
     "output_type": "stream",
     "text": [
      "137/137 [==============================] - 5s 36ms/step - loss: 1.4517 - mse: 0.2320 - val_loss: 1.4387 - val_mse: 0.2355\n",
      "Epoch 154/250\n",
      "136/137 [============================>.] - ETA: 0s - loss: 1.4192 - mse: 0.2319"
     ]
    },
    {
     "name": "stderr",
     "output_type": "stream",
     "text": [
      "\u001b[34m\u001b[1mwandb\u001b[0m: Adding directory to artifact (/content/wandb/run-20220824_054925-2534rsdl/files/model-best)... Done. 0.6s\n"
     ]
    },
    {
     "name": "stdout",
     "output_type": "stream",
     "text": [
      "137/137 [==============================] - 5s 36ms/step - loss: 1.4188 - mse: 0.2316 - val_loss: 1.4063 - val_mse: 0.2353\n",
      "Epoch 155/250\n",
      "135/137 [============================>.] - ETA: 0s - loss: 1.3854 - mse: 0.2297"
     ]
    },
    {
     "name": "stderr",
     "output_type": "stream",
     "text": [
      "\u001b[34m\u001b[1mwandb\u001b[0m: Adding directory to artifact (/content/wandb/run-20220824_054925-2534rsdl/files/model-best)... Done. 0.6s\n"
     ]
    },
    {
     "name": "stdout",
     "output_type": "stream",
     "text": [
      "137/137 [==============================] - 5s 34ms/step - loss: 1.3856 - mse: 0.2300 - val_loss: 1.3745 - val_mse: 0.2346\n",
      "Epoch 156/250\n",
      "136/137 [============================>.] - ETA: 0s - loss: 1.3549 - mse: 0.2301"
     ]
    },
    {
     "name": "stderr",
     "output_type": "stream",
     "text": [
      "\u001b[34m\u001b[1mwandb\u001b[0m: Adding directory to artifact (/content/wandb/run-20220824_054925-2534rsdl/files/model-best)... Done. 0.6s\n"
     ]
    },
    {
     "name": "stdout",
     "output_type": "stream",
     "text": [
      "137/137 [==============================] - 5s 36ms/step - loss: 1.3545 - mse: 0.2298 - val_loss: 1.3442 - val_mse: 0.2347\n",
      "Epoch 157/250\n",
      "136/137 [============================>.] - ETA: 0s - loss: 1.3237 - mse: 0.2289"
     ]
    },
    {
     "name": "stderr",
     "output_type": "stream",
     "text": [
      "\u001b[34m\u001b[1mwandb\u001b[0m: Adding directory to artifact (/content/wandb/run-20220824_054925-2534rsdl/files/model-best)... Done. 0.6s\n"
     ]
    },
    {
     "name": "stdout",
     "output_type": "stream",
     "text": [
      "137/137 [==============================] - 5s 33ms/step - loss: 1.3235 - mse: 0.2287 - val_loss: 1.3135 - val_mse: 0.2335\n",
      "Epoch 158/250\n",
      "136/137 [============================>.] - ETA: 0s - loss: 1.2925 - mse: 0.2268"
     ]
    },
    {
     "name": "stderr",
     "output_type": "stream",
     "text": [
      "\u001b[34m\u001b[1mwandb\u001b[0m: Adding directory to artifact (/content/wandb/run-20220824_054925-2534rsdl/files/model-best)... Done. 0.5s\n"
     ]
    },
    {
     "name": "stdout",
     "output_type": "stream",
     "text": [
      "137/137 [==============================] - 5s 33ms/step - loss: 1.2928 - mse: 0.2271 - val_loss: 1.2844 - val_mse: 0.2332\n",
      "Epoch 159/250\n",
      "136/137 [============================>.] - ETA: 0s - loss: 1.2645 - mse: 0.2271"
     ]
    },
    {
     "name": "stderr",
     "output_type": "stream",
     "text": [
      "\u001b[34m\u001b[1mwandb\u001b[0m: Adding directory to artifact (/content/wandb/run-20220824_054925-2534rsdl/files/model-best)... Done. 0.5s\n"
     ]
    },
    {
     "name": "stdout",
     "output_type": "stream",
     "text": [
      "137/137 [==============================] - 5s 36ms/step - loss: 1.2642 - mse: 0.2269 - val_loss: 1.2558 - val_mse: 0.2325\n",
      "Epoch 160/250\n",
      "135/137 [============================>.] - ETA: 0s - loss: 1.2351 - mse: 0.2252"
     ]
    },
    {
     "name": "stderr",
     "output_type": "stream",
     "text": [
      "\u001b[34m\u001b[1mwandb\u001b[0m: Adding directory to artifact (/content/wandb/run-20220824_054925-2534rsdl/files/model-best)... Done. 0.6s\n"
     ]
    },
    {
     "name": "stdout",
     "output_type": "stream",
     "text": [
      "137/137 [==============================] - 5s 34ms/step - loss: 1.2355 - mse: 0.2257 - val_loss: 1.2280 - val_mse: 0.2320\n",
      "Epoch 161/250\n",
      "135/137 [============================>.] - ETA: 0s - loss: 1.2092 - mse: 0.2261"
     ]
    },
    {
     "name": "stderr",
     "output_type": "stream",
     "text": [
      "\u001b[34m\u001b[1mwandb\u001b[0m: Adding directory to artifact (/content/wandb/run-20220824_054925-2534rsdl/files/model-best)... Done. 0.6s\n"
     ]
    },
    {
     "name": "stdout",
     "output_type": "stream",
     "text": [
      "137/137 [==============================] - 4s 33ms/step - loss: 1.2088 - mse: 0.2259 - val_loss: 1.2011 - val_mse: 0.2315\n",
      "Epoch 162/250\n",
      "134/137 [============================>.] - ETA: 0s - loss: 1.1809 - mse: 0.2238"
     ]
    },
    {
     "name": "stderr",
     "output_type": "stream",
     "text": [
      "\u001b[34m\u001b[1mwandb\u001b[0m: Adding directory to artifact (/content/wandb/run-20220824_054925-2534rsdl/files/model-best)... Done. 0.6s\n"
     ]
    },
    {
     "name": "stdout",
     "output_type": "stream",
     "text": [
      "137/137 [==============================] - 5s 33ms/step - loss: 1.1812 - mse: 0.2244 - val_loss: 1.1752 - val_mse: 0.2313\n",
      "Epoch 163/250\n",
      "133/137 [============================>.] - ETA: 0s - loss: 1.1545 - mse: 0.2227"
     ]
    },
    {
     "name": "stderr",
     "output_type": "stream",
     "text": [
      "\u001b[34m\u001b[1mwandb\u001b[0m: Adding directory to artifact (/content/wandb/run-20220824_054925-2534rsdl/files/model-best)... Done. 0.6s\n"
     ]
    },
    {
     "name": "stdout",
     "output_type": "stream",
     "text": [
      "137/137 [==============================] - 5s 37ms/step - loss: 1.1551 - mse: 0.2236 - val_loss: 1.1493 - val_mse: 0.2305\n",
      "Epoch 164/250\n",
      "135/137 [============================>.] - ETA: 0s - loss: 1.1299 - mse: 0.2230"
     ]
    },
    {
     "name": "stderr",
     "output_type": "stream",
     "text": [
      "\u001b[34m\u001b[1mwandb\u001b[0m: Adding directory to artifact (/content/wandb/run-20220824_054925-2534rsdl/files/model-best)... Done. 0.6s\n"
     ]
    },
    {
     "name": "stdout",
     "output_type": "stream",
     "text": [
      "137/137 [==============================] - 5s 33ms/step - loss: 1.1294 - mse: 0.2226 - val_loss: 1.1245 - val_mse: 0.2300\n",
      "Epoch 165/250\n",
      "134/137 [============================>.] - ETA: 0s - loss: 1.1038 - mse: 0.2209"
     ]
    },
    {
     "name": "stderr",
     "output_type": "stream",
     "text": [
      "\u001b[34m\u001b[1mwandb\u001b[0m: Adding directory to artifact (/content/wandb/run-20220824_054925-2534rsdl/files/model-best)... Done. 0.6s\n"
     ]
    },
    {
     "name": "stdout",
     "output_type": "stream",
     "text": [
      "137/137 [==============================] - 5s 35ms/step - loss: 1.1041 - mse: 0.2214 - val_loss: 1.1006 - val_mse: 0.2298\n",
      "Epoch 166/250\n",
      "136/137 [============================>.] - ETA: 0s - loss: 1.0799 - mse: 0.2205"
     ]
    },
    {
     "name": "stderr",
     "output_type": "stream",
     "text": [
      "\u001b[34m\u001b[1mwandb\u001b[0m: Adding directory to artifact (/content/wandb/run-20220824_054925-2534rsdl/files/model-best)... Done. 0.6s\n"
     ]
    },
    {
     "name": "stdout",
     "output_type": "stream",
     "text": [
      "137/137 [==============================] - 5s 34ms/step - loss: 1.0798 - mse: 0.2204 - val_loss: 1.0767 - val_mse: 0.2289\n",
      "Epoch 167/250\n",
      "133/137 [============================>.] - ETA: 0s - loss: 1.0576 - mse: 0.2206"
     ]
    },
    {
     "name": "stderr",
     "output_type": "stream",
     "text": [
      "\u001b[34m\u001b[1mwandb\u001b[0m: Adding directory to artifact (/content/wandb/run-20220824_054925-2534rsdl/files/model-best)... Done. 0.6s\n"
     ]
    },
    {
     "name": "stdout",
     "output_type": "stream",
     "text": [
      "137/137 [==============================] - 5s 34ms/step - loss: 1.0569 - mse: 0.2203 - val_loss: 1.0538 - val_mse: 0.2284\n",
      "Epoch 168/250\n",
      "137/137 [==============================] - ETA: 0s - loss: 1.0341 - mse: 0.2196"
     ]
    },
    {
     "name": "stderr",
     "output_type": "stream",
     "text": [
      "\u001b[34m\u001b[1mwandb\u001b[0m: Adding directory to artifact (/content/wandb/run-20220824_054925-2534rsdl/files/model-best)... Done. 0.5s\n"
     ]
    },
    {
     "name": "stdout",
     "output_type": "stream",
     "text": [
      "137/137 [==============================] - 5s 35ms/step - loss: 1.0341 - mse: 0.2196 - val_loss: 1.0315 - val_mse: 0.2280\n",
      "Epoch 169/250\n",
      "135/137 [============================>.] - ETA: 0s - loss: 1.0109 - mse: 0.2178"
     ]
    },
    {
     "name": "stderr",
     "output_type": "stream",
     "text": [
      "\u001b[34m\u001b[1mwandb\u001b[0m: Adding directory to artifact (/content/wandb/run-20220824_054925-2534rsdl/files/model-best)... Done. 0.5s\n"
     ]
    },
    {
     "name": "stdout",
     "output_type": "stream",
     "text": [
      "137/137 [==============================] - 4s 33ms/step - loss: 1.0108 - mse: 0.2178 - val_loss: 1.0099 - val_mse: 0.2275\n",
      "Epoch 170/250\n",
      "136/137 [============================>.] - ETA: 0s - loss: 0.9895 - mse: 0.2174"
     ]
    },
    {
     "name": "stderr",
     "output_type": "stream",
     "text": [
      "\u001b[34m\u001b[1mwandb\u001b[0m: Adding directory to artifact (/content/wandb/run-20220824_054925-2534rsdl/files/model-best)... Done. 0.5s\n"
     ]
    },
    {
     "name": "stdout",
     "output_type": "stream",
     "text": [
      "137/137 [==============================] - 5s 33ms/step - loss: 0.9895 - mse: 0.2174 - val_loss: 0.9887 - val_mse: 0.2270\n",
      "Epoch 171/250\n",
      "136/137 [============================>.] - ETA: 0s - loss: 0.9683 - mse: 0.2166"
     ]
    },
    {
     "name": "stderr",
     "output_type": "stream",
     "text": [
      "\u001b[34m\u001b[1mwandb\u001b[0m: Adding directory to artifact (/content/wandb/run-20220824_054925-2534rsdl/files/model-best)... Done. 0.6s\n"
     ]
    },
    {
     "name": "stdout",
     "output_type": "stream",
     "text": [
      "137/137 [==============================] - 5s 36ms/step - loss: 0.9683 - mse: 0.2166 - val_loss: 0.9681 - val_mse: 0.2265\n",
      "Epoch 172/250\n",
      "132/137 [===========================>..] - ETA: 0s - loss: 0.9467 - mse: 0.2145"
     ]
    },
    {
     "name": "stderr",
     "output_type": "stream",
     "text": [
      "\u001b[34m\u001b[1mwandb\u001b[0m: Adding directory to artifact (/content/wandb/run-20220824_054925-2534rsdl/files/model-best)... Done. 0.6s\n"
     ]
    },
    {
     "name": "stdout",
     "output_type": "stream",
     "text": [
      "137/137 [==============================] - 5s 34ms/step - loss: 0.9469 - mse: 0.2150 - val_loss: 0.9490 - val_mse: 0.2269\n",
      "Epoch 173/250\n",
      "136/137 [============================>.] - ETA: 0s - loss: 0.9271 - mse: 0.2144"
     ]
    },
    {
     "name": "stderr",
     "output_type": "stream",
     "text": [
      "\u001b[34m\u001b[1mwandb\u001b[0m: Adding directory to artifact (/content/wandb/run-20220824_054925-2534rsdl/files/model-best)... Done. 0.6s\n"
     ]
    },
    {
     "name": "stdout",
     "output_type": "stream",
     "text": [
      "137/137 [==============================] - 5s 34ms/step - loss: 0.9271 - mse: 0.2144 - val_loss: 0.9287 - val_mse: 0.2256\n",
      "Epoch 174/250\n",
      "136/137 [============================>.] - ETA: 0s - loss: 0.9076 - mse: 0.2137"
     ]
    },
    {
     "name": "stderr",
     "output_type": "stream",
     "text": [
      "\u001b[34m\u001b[1mwandb\u001b[0m: Adding directory to artifact (/content/wandb/run-20220824_054925-2534rsdl/files/model-best)... Done. 0.6s\n"
     ]
    },
    {
     "name": "stdout",
     "output_type": "stream",
     "text": [
      "137/137 [==============================] - 5s 34ms/step - loss: 0.9078 - mse: 0.2139 - val_loss: 0.9098 - val_mse: 0.2252\n",
      "Epoch 175/250\n",
      "132/137 [===========================>..] - ETA: 0s - loss: 0.8898 - mse: 0.2138"
     ]
    },
    {
     "name": "stderr",
     "output_type": "stream",
     "text": [
      "\u001b[34m\u001b[1mwandb\u001b[0m: Adding directory to artifact (/content/wandb/run-20220824_054925-2534rsdl/files/model-best)... Done. 0.6s\n"
     ]
    },
    {
     "name": "stdout",
     "output_type": "stream",
     "text": [
      "137/137 [==============================] - 5s 37ms/step - loss: 0.8887 - mse: 0.2130 - val_loss: 0.8913 - val_mse: 0.2247\n",
      "Epoch 176/250\n",
      "137/137 [==============================] - ETA: 0s - loss: 0.8702 - mse: 0.2123"
     ]
    },
    {
     "name": "stderr",
     "output_type": "stream",
     "text": [
      "\u001b[34m\u001b[1mwandb\u001b[0m: Adding directory to artifact (/content/wandb/run-20220824_054925-2534rsdl/files/model-best)... Done. 0.6s\n"
     ]
    },
    {
     "name": "stdout",
     "output_type": "stream",
     "text": [
      "137/137 [==============================] - 5s 34ms/step - loss: 0.8702 - mse: 0.2123 - val_loss: 0.8733 - val_mse: 0.2241\n",
      "Epoch 177/250\n",
      "135/137 [============================>.] - ETA: 0s - loss: 0.8517 - mse: 0.2109"
     ]
    },
    {
     "name": "stderr",
     "output_type": "stream",
     "text": [
      "\u001b[34m\u001b[1mwandb\u001b[0m: Adding directory to artifact (/content/wandb/run-20220824_054925-2534rsdl/files/model-best)... Done. 0.6s\n"
     ]
    },
    {
     "name": "stdout",
     "output_type": "stream",
     "text": [
      "137/137 [==============================] - 5s 34ms/step - loss: 0.8515 - mse: 0.2108 - val_loss: 0.8560 - val_mse: 0.2239\n",
      "Epoch 178/250\n",
      "133/137 [============================>.] - ETA: 0s - loss: 0.8343 - mse: 0.2102"
     ]
    },
    {
     "name": "stderr",
     "output_type": "stream",
     "text": [
      "\u001b[34m\u001b[1mwandb\u001b[0m: Adding directory to artifact (/content/wandb/run-20220824_054925-2534rsdl/files/model-best)... Done. 0.6s\n"
     ]
    },
    {
     "name": "stdout",
     "output_type": "stream",
     "text": [
      "137/137 [==============================] - 6s 43ms/step - loss: 0.8338 - mse: 0.2099 - val_loss: 0.8397 - val_mse: 0.2242\n",
      "Epoch 179/250\n",
      "132/137 [===========================>..] - ETA: 0s - loss: 0.8178 - mse: 0.2099"
     ]
    },
    {
     "name": "stderr",
     "output_type": "stream",
     "text": [
      "\u001b[34m\u001b[1mwandb\u001b[0m: Adding directory to artifact (/content/wandb/run-20220824_054925-2534rsdl/files/model-best)... Done. 0.5s\n"
     ]
    },
    {
     "name": "stdout",
     "output_type": "stream",
     "text": [
      "137/137 [==============================] - 5s 33ms/step - loss: 0.8172 - mse: 0.2096 - val_loss: 0.8222 - val_mse: 0.2228\n",
      "Epoch 180/250\n",
      "132/137 [===========================>..] - ETA: 0s - loss: 0.8003 - mse: 0.2083"
     ]
    },
    {
     "name": "stderr",
     "output_type": "stream",
     "text": [
      "\u001b[34m\u001b[1mwandb\u001b[0m: Adding directory to artifact (/content/wandb/run-20220824_054925-2534rsdl/files/model-best)... Done. 0.6s\n"
     ]
    },
    {
     "name": "stdout",
     "output_type": "stream",
     "text": [
      "137/137 [==============================] - 4s 32ms/step - loss: 0.7995 - mse: 0.2079 - val_loss: 0.8061 - val_mse: 0.2223\n",
      "Epoch 181/250\n",
      "135/137 [============================>.] - ETA: 0s - loss: 0.7843 - mse: 0.2080"
     ]
    },
    {
     "name": "stderr",
     "output_type": "stream",
     "text": [
      "\u001b[34m\u001b[1mwandb\u001b[0m: Adding directory to artifact (/content/wandb/run-20220824_054925-2534rsdl/files/model-best)... Done. 0.5s\n"
     ]
    },
    {
     "name": "stdout",
     "output_type": "stream",
     "text": [
      "137/137 [==============================] - 5s 36ms/step - loss: 0.7838 - mse: 0.2076 - val_loss: 0.7905 - val_mse: 0.2220\n",
      "Epoch 182/250\n",
      "133/137 [============================>.] - ETA: 0s - loss: 0.7675 - mse: 0.2061"
     ]
    },
    {
     "name": "stderr",
     "output_type": "stream",
     "text": [
      "\u001b[34m\u001b[1mwandb\u001b[0m: Adding directory to artifact (/content/wandb/run-20220824_054925-2534rsdl/files/model-best)... Done. 0.6s\n"
     ]
    },
    {
     "name": "stdout",
     "output_type": "stream",
     "text": [
      "137/137 [==============================] - 5s 33ms/step - loss: 0.7675 - mse: 0.2063 - val_loss: 0.7751 - val_mse: 0.2214\n",
      "Epoch 183/250\n",
      "136/137 [============================>.] - ETA: 0s - loss: 0.7524 - mse: 0.2058"
     ]
    },
    {
     "name": "stderr",
     "output_type": "stream",
     "text": [
      "\u001b[34m\u001b[1mwandb\u001b[0m: Adding directory to artifact (/content/wandb/run-20220824_054925-2534rsdl/files/model-best)... Done. 0.6s\n"
     ]
    },
    {
     "name": "stdout",
     "output_type": "stream",
     "text": [
      "137/137 [==============================] - 5s 37ms/step - loss: 0.7523 - mse: 0.2057 - val_loss: 0.7604 - val_mse: 0.2210\n",
      "Epoch 184/250\n",
      "134/137 [============================>.] - ETA: 0s - loss: 0.7371 - mse: 0.2047"
     ]
    },
    {
     "name": "stderr",
     "output_type": "stream",
     "text": [
      "\u001b[34m\u001b[1mwandb\u001b[0m: Adding directory to artifact (/content/wandb/run-20220824_054925-2534rsdl/files/model-best)... Done. 0.6s\n"
     ]
    },
    {
     "name": "stdout",
     "output_type": "stream",
     "text": [
      "137/137 [==============================] - 5s 33ms/step - loss: 0.7371 - mse: 0.2047 - val_loss: 0.7460 - val_mse: 0.2207\n",
      "Epoch 185/250\n",
      "134/137 [============================>.] - ETA: 0s - loss: 0.7206 - mse: 0.2019"
     ]
    },
    {
     "name": "stderr",
     "output_type": "stream",
     "text": [
      "\u001b[34m\u001b[1mwandb\u001b[0m: Adding directory to artifact (/content/wandb/run-20220824_054925-2534rsdl/files/model-best)... Done. 0.5s\n"
     ]
    },
    {
     "name": "stdout",
     "output_type": "stream",
     "text": [
      "137/137 [==============================] - 4s 32ms/step - loss: 0.7217 - mse: 0.2032 - val_loss: 0.7323 - val_mse: 0.2207\n",
      "Epoch 186/250\n",
      "133/137 [============================>.] - ETA: 0s - loss: 0.7069 - mse: 0.2017"
     ]
    },
    {
     "name": "stderr",
     "output_type": "stream",
     "text": [
      "\u001b[34m\u001b[1mwandb\u001b[0m: Adding directory to artifact (/content/wandb/run-20220824_054925-2534rsdl/files/model-best)... Done. 0.6s\n"
     ]
    },
    {
     "name": "stdout",
     "output_type": "stream",
     "text": [
      "137/137 [==============================] - 6s 45ms/step - loss: 0.7077 - mse: 0.2026 - val_loss: 0.7184 - val_mse: 0.2200\n",
      "Epoch 187/250\n",
      "137/137 [==============================] - ETA: 0s - loss: 0.6944 - mse: 0.2025"
     ]
    },
    {
     "name": "stderr",
     "output_type": "stream",
     "text": [
      "\u001b[34m\u001b[1mwandb\u001b[0m: Adding directory to artifact (/content/wandb/run-20220824_054925-2534rsdl/files/model-best)... Done. 0.5s\n"
     ]
    },
    {
     "name": "stdout",
     "output_type": "stream",
     "text": [
      "137/137 [==============================] - 4s 32ms/step - loss: 0.6944 - mse: 0.2025 - val_loss: 0.7052 - val_mse: 0.2197\n",
      "Epoch 188/250\n",
      "135/137 [============================>.] - ETA: 0s - loss: 0.6809 - mse: 0.2017"
     ]
    },
    {
     "name": "stderr",
     "output_type": "stream",
     "text": [
      "\u001b[34m\u001b[1mwandb\u001b[0m: Adding directory to artifact (/content/wandb/run-20220824_054925-2534rsdl/files/model-best)... Done. 0.6s\n"
     ]
    },
    {
     "name": "stdout",
     "output_type": "stream",
     "text": [
      "137/137 [==============================] - 5s 34ms/step - loss: 0.6804 - mse: 0.2012 - val_loss: 0.6930 - val_mse: 0.2201\n",
      "Epoch 189/250\n",
      "136/137 [============================>.] - ETA: 0s - loss: 0.6676 - mse: 0.2008"
     ]
    },
    {
     "name": "stderr",
     "output_type": "stream",
     "text": [
      "\u001b[34m\u001b[1mwandb\u001b[0m: Adding directory to artifact (/content/wandb/run-20220824_054925-2534rsdl/files/model-best)... Done. 0.6s\n"
     ]
    },
    {
     "name": "stdout",
     "output_type": "stream",
     "text": [
      "137/137 [==============================] - 5s 33ms/step - loss: 0.6675 - mse: 0.2007 - val_loss: 0.6794 - val_mse: 0.2187\n",
      "Epoch 190/250\n",
      "135/137 [============================>.] - ETA: 0s - loss: 0.6544 - mse: 0.1995"
     ]
    },
    {
     "name": "stderr",
     "output_type": "stream",
     "text": [
      "\u001b[34m\u001b[1mwandb\u001b[0m: Adding directory to artifact (/content/wandb/run-20220824_054925-2534rsdl/files/model-best)... Done. 0.6s\n"
     ]
    },
    {
     "name": "stdout",
     "output_type": "stream",
     "text": [
      "137/137 [==============================] - 5s 36ms/step - loss: 0.6543 - mse: 0.1996 - val_loss: 0.6673 - val_mse: 0.2186\n",
      "Epoch 191/250\n",
      "133/137 [============================>.] - ETA: 0s - loss: 0.6417 - mse: 0.1986"
     ]
    },
    {
     "name": "stderr",
     "output_type": "stream",
     "text": [
      "\u001b[34m\u001b[1mwandb\u001b[0m: Adding directory to artifact (/content/wandb/run-20220824_054925-2534rsdl/files/model-best)... Done. 0.5s\n"
     ]
    },
    {
     "name": "stdout",
     "output_type": "stream",
     "text": [
      "137/137 [==============================] - 4s 32ms/step - loss: 0.6414 - mse: 0.1984 - val_loss: 0.6552 - val_mse: 0.2180\n",
      "Epoch 192/250\n",
      "137/137 [==============================] - ETA: 0s - loss: 0.6298 - mse: 0.1982"
     ]
    },
    {
     "name": "stderr",
     "output_type": "stream",
     "text": [
      "\u001b[34m\u001b[1mwandb\u001b[0m: Adding directory to artifact (/content/wandb/run-20220824_054925-2534rsdl/files/model-best)... Done. 0.7s\n"
     ]
    },
    {
     "name": "stdout",
     "output_type": "stream",
     "text": [
      "137/137 [==============================] - 5s 39ms/step - loss: 0.6298 - mse: 0.1982 - val_loss: 0.6438 - val_mse: 0.2178\n",
      "Epoch 193/250\n",
      "136/137 [============================>.] - ETA: 0s - loss: 0.6176 - mse: 0.1971"
     ]
    },
    {
     "name": "stderr",
     "output_type": "stream",
     "text": [
      "\u001b[34m\u001b[1mwandb\u001b[0m: Adding directory to artifact (/content/wandb/run-20220824_054925-2534rsdl/files/model-best)... Done. 0.6s\n"
     ]
    },
    {
     "name": "stdout",
     "output_type": "stream",
     "text": [
      "137/137 [==============================] - 5s 37ms/step - loss: 0.6175 - mse: 0.1970 - val_loss: 0.6322 - val_mse: 0.2173\n",
      "Epoch 194/250\n",
      "133/137 [============================>.] - ETA: 0s - loss: 0.6059 - mse: 0.1960"
     ]
    },
    {
     "name": "stderr",
     "output_type": "stream",
     "text": [
      "\u001b[34m\u001b[1mwandb\u001b[0m: Adding directory to artifact (/content/wandb/run-20220824_054925-2534rsdl/files/model-best)... Done. 0.5s\n"
     ]
    },
    {
     "name": "stdout",
     "output_type": "stream",
     "text": [
      "137/137 [==============================] - 4s 33ms/step - loss: 0.6054 - mse: 0.1957 - val_loss: 0.6214 - val_mse: 0.2171\n",
      "Epoch 195/250\n",
      "136/137 [============================>.] - ETA: 0s - loss: 0.5947 - mse: 0.1955"
     ]
    },
    {
     "name": "stderr",
     "output_type": "stream",
     "text": [
      "\u001b[34m\u001b[1mwandb\u001b[0m: Adding directory to artifact (/content/wandb/run-20220824_054925-2534rsdl/files/model-best)... Done. 0.6s\n"
     ]
    },
    {
     "name": "stdout",
     "output_type": "stream",
     "text": [
      "137/137 [==============================] - 5s 34ms/step - loss: 0.5950 - mse: 0.1959 - val_loss: 0.6112 - val_mse: 0.2172\n",
      "Epoch 196/250\n",
      "136/137 [============================>.] - ETA: 0s - loss: 0.5833 - mse: 0.1943"
     ]
    },
    {
     "name": "stderr",
     "output_type": "stream",
     "text": [
      "\u001b[34m\u001b[1mwandb\u001b[0m: Adding directory to artifact (/content/wandb/run-20220824_054925-2534rsdl/files/model-best)... Done. 0.6s\n"
     ]
    },
    {
     "name": "stdout",
     "output_type": "stream",
     "text": [
      "137/137 [==============================] - 5s 36ms/step - loss: 0.5833 - mse: 0.1943 - val_loss: 0.6002 - val_mse: 0.2164\n",
      "Epoch 197/250\n",
      "134/137 [============================>.] - ETA: 0s - loss: 0.5733 - mse: 0.1942"
     ]
    },
    {
     "name": "stderr",
     "output_type": "stream",
     "text": [
      "\u001b[34m\u001b[1mwandb\u001b[0m: Adding directory to artifact (/content/wandb/run-20220824_054925-2534rsdl/files/model-best)... Done. 0.6s\n"
     ]
    },
    {
     "name": "stdout",
     "output_type": "stream",
     "text": [
      "137/137 [==============================] - 5s 34ms/step - loss: 0.5729 - mse: 0.1939 - val_loss: 0.5901 - val_mse: 0.2161\n",
      "Epoch 198/250\n",
      "134/137 [============================>.] - ETA: 0s - loss: 0.5615 - mse: 0.1921"
     ]
    },
    {
     "name": "stderr",
     "output_type": "stream",
     "text": [
      "\u001b[34m\u001b[1mwandb\u001b[0m: Adding directory to artifact (/content/wandb/run-20220824_054925-2534rsdl/files/model-best)... Done. 0.6s\n"
     ]
    },
    {
     "name": "stdout",
     "output_type": "stream",
     "text": [
      "137/137 [==============================] - 5s 36ms/step - loss: 0.5621 - mse: 0.1928 - val_loss: 0.5802 - val_mse: 0.2157\n",
      "Epoch 199/250\n",
      "132/137 [===========================>..] - ETA: 0s - loss: 0.5518 - mse: 0.1917"
     ]
    },
    {
     "name": "stderr",
     "output_type": "stream",
     "text": [
      "\u001b[34m\u001b[1mwandb\u001b[0m: Adding directory to artifact (/content/wandb/run-20220824_054925-2534rsdl/files/model-best)... Done. 0.6s\n"
     ]
    },
    {
     "name": "stdout",
     "output_type": "stream",
     "text": [
      "137/137 [==============================] - 5s 34ms/step - loss: 0.5525 - mse: 0.1926 - val_loss: 0.5707 - val_mse: 0.2154\n",
      "Epoch 200/250\n",
      "134/137 [============================>.] - ETA: 0s - loss: 0.5423 - mse: 0.1914"
     ]
    },
    {
     "name": "stderr",
     "output_type": "stream",
     "text": [
      "\u001b[34m\u001b[1mwandb\u001b[0m: Adding directory to artifact (/content/wandb/run-20220824_054925-2534rsdl/files/model-best)... Done. 0.6s\n"
     ]
    },
    {
     "name": "stdout",
     "output_type": "stream",
     "text": [
      "137/137 [==============================] - 5s 34ms/step - loss: 0.5417 - mse: 0.1909 - val_loss: 0.5614 - val_mse: 0.2152\n",
      "Epoch 201/250\n",
      "135/137 [============================>.] - ETA: 0s - loss: 0.5316 - mse: 0.1897"
     ]
    },
    {
     "name": "stderr",
     "output_type": "stream",
     "text": [
      "\u001b[34m\u001b[1mwandb\u001b[0m: Adding directory to artifact (/content/wandb/run-20220824_054925-2534rsdl/files/model-best)... Done. 0.6s\n"
     ]
    },
    {
     "name": "stdout",
     "output_type": "stream",
     "text": [
      "137/137 [==============================] - 5s 33ms/step - loss: 0.5316 - mse: 0.1898 - val_loss: 0.5527 - val_mse: 0.2153\n",
      "Epoch 202/250\n",
      "134/137 [============================>.] - ETA: 0s - loss: 0.5234 - mse: 0.1902"
     ]
    },
    {
     "name": "stderr",
     "output_type": "stream",
     "text": [
      "\u001b[34m\u001b[1mwandb\u001b[0m: Adding directory to artifact (/content/wandb/run-20220824_054925-2534rsdl/files/model-best)... Done. 0.6s\n"
     ]
    },
    {
     "name": "stdout",
     "output_type": "stream",
     "text": [
      "137/137 [==============================] - 5s 36ms/step - loss: 0.5234 - mse: 0.1902 - val_loss: 0.5441 - val_mse: 0.2152\n",
      "Epoch 203/250\n",
      "132/137 [===========================>..] - ETA: 0s - loss: 0.5129 - mse: 0.1880"
     ]
    },
    {
     "name": "stderr",
     "output_type": "stream",
     "text": [
      "\u001b[34m\u001b[1mwandb\u001b[0m: Adding directory to artifact (/content/wandb/run-20220824_054925-2534rsdl/files/model-best)... Done. 0.6s\n"
     ]
    },
    {
     "name": "stdout",
     "output_type": "stream",
     "text": [
      "137/137 [==============================] - 5s 33ms/step - loss: 0.5135 - mse: 0.1888 - val_loss: 0.5352 - val_mse: 0.2146\n",
      "Epoch 204/250\n",
      "135/137 [============================>.] - ETA: 0s - loss: 0.5046 - mse: 0.1880"
     ]
    },
    {
     "name": "stderr",
     "output_type": "stream",
     "text": [
      "\u001b[34m\u001b[1mwandb\u001b[0m: Adding directory to artifact (/content/wandb/run-20220824_054925-2534rsdl/files/model-best)... Done. 0.5s\n"
     ]
    },
    {
     "name": "stdout",
     "output_type": "stream",
     "text": [
      "137/137 [==============================] - 5s 33ms/step - loss: 0.5048 - mse: 0.1882 - val_loss: 0.5266 - val_mse: 0.2141\n",
      "Epoch 205/250\n",
      "132/137 [===========================>..] - ETA: 0s - loss: 0.4965 - mse: 0.1878"
     ]
    },
    {
     "name": "stderr",
     "output_type": "stream",
     "text": [
      "\u001b[34m\u001b[1mwandb\u001b[0m: Adding directory to artifact (/content/wandb/run-20220824_054925-2534rsdl/files/model-best)... Done. 0.7s\n"
     ]
    },
    {
     "name": "stdout",
     "output_type": "stream",
     "text": [
      "137/137 [==============================] - 5s 37ms/step - loss: 0.4961 - mse: 0.1875 - val_loss: 0.5188 - val_mse: 0.2142\n",
      "Epoch 206/250\n",
      "132/137 [===========================>..] - ETA: 0s - loss: 0.4876 - mse: 0.1867"
     ]
    },
    {
     "name": "stderr",
     "output_type": "stream",
     "text": [
      "\u001b[34m\u001b[1mwandb\u001b[0m: Adding directory to artifact (/content/wandb/run-20220824_054925-2534rsdl/files/model-best)... Done. 0.6s\n"
     ]
    },
    {
     "name": "stdout",
     "output_type": "stream",
     "text": [
      "137/137 [==============================] - 5s 33ms/step - loss: 0.4878 - mse: 0.1870 - val_loss: 0.5106 - val_mse: 0.2137\n",
      "Epoch 207/250\n",
      "135/137 [============================>.] - ETA: 0s - loss: 0.4799 - mse: 0.1866"
     ]
    },
    {
     "name": "stderr",
     "output_type": "stream",
     "text": [
      "\u001b[34m\u001b[1mwandb\u001b[0m: Adding directory to artifact (/content/wandb/run-20220824_054925-2534rsdl/files/model-best)... Done. 0.6s\n"
     ]
    },
    {
     "name": "stdout",
     "output_type": "stream",
     "text": [
      "137/137 [==============================] - 5s 34ms/step - loss: 0.4794 - mse: 0.1862 - val_loss: 0.5036 - val_mse: 0.2141\n",
      "Epoch 208/250\n",
      "132/137 [===========================>..] - ETA: 0s - loss: 0.4714 - mse: 0.1854"
     ]
    },
    {
     "name": "stderr",
     "output_type": "stream",
     "text": [
      "\u001b[34m\u001b[1mwandb\u001b[0m: Adding directory to artifact (/content/wandb/run-20220824_054925-2534rsdl/files/model-best)... Done. 0.6s\n"
     ]
    },
    {
     "name": "stdout",
     "output_type": "stream",
     "text": [
      "137/137 [==============================] - 5s 36ms/step - loss: 0.4711 - mse: 0.1852 - val_loss: 0.4970 - val_mse: 0.2148\n",
      "Epoch 209/250\n",
      "134/137 [============================>.] - ETA: 0s - loss: 0.4636 - mse: 0.1848"
     ]
    },
    {
     "name": "stderr",
     "output_type": "stream",
     "text": [
      "\u001b[34m\u001b[1mwandb\u001b[0m: Adding directory to artifact (/content/wandb/run-20220824_054925-2534rsdl/files/model-best)... Done. 0.6s\n"
     ]
    },
    {
     "name": "stdout",
     "output_type": "stream",
     "text": [
      "137/137 [==============================] - 5s 34ms/step - loss: 0.4632 - mse: 0.1845 - val_loss: 0.4884 - val_mse: 0.2133\n",
      "Epoch 210/250\n",
      "136/137 [============================>.] - ETA: 0s - loss: 0.4557 - mse: 0.1840"
     ]
    },
    {
     "name": "stderr",
     "output_type": "stream",
     "text": [
      "\u001b[34m\u001b[1mwandb\u001b[0m: Adding directory to artifact (/content/wandb/run-20220824_054925-2534rsdl/files/model-best)... Done. 0.6s\n"
     ]
    },
    {
     "name": "stdout",
     "output_type": "stream",
     "text": [
      "137/137 [==============================] - 5s 34ms/step - loss: 0.4557 - mse: 0.1840 - val_loss: 0.4816 - val_mse: 0.2133\n",
      "Epoch 211/250\n",
      "135/137 [============================>.] - ETA: 0s - loss: 0.4480 - mse: 0.1830"
     ]
    },
    {
     "name": "stderr",
     "output_type": "stream",
     "text": [
      "\u001b[34m\u001b[1mwandb\u001b[0m: Adding directory to artifact (/content/wandb/run-20220824_054925-2534rsdl/files/model-best)... Done. 0.6s\n"
     ]
    },
    {
     "name": "stdout",
     "output_type": "stream",
     "text": [
      "137/137 [==============================] - 5s 37ms/step - loss: 0.4481 - mse: 0.1831 - val_loss: 0.4744 - val_mse: 0.2128\n",
      "Epoch 212/250\n",
      "137/137 [==============================] - ETA: 0s - loss: 0.4408 - mse: 0.1825"
     ]
    },
    {
     "name": "stderr",
     "output_type": "stream",
     "text": [
      "\u001b[34m\u001b[1mwandb\u001b[0m: Adding directory to artifact (/content/wandb/run-20220824_054925-2534rsdl/files/model-best)... Done. 0.6s\n"
     ]
    },
    {
     "name": "stdout",
     "output_type": "stream",
     "text": [
      "137/137 [==============================] - 4s 33ms/step - loss: 0.4408 - mse: 0.1825 - val_loss: 0.4676 - val_mse: 0.2125\n",
      "Epoch 213/250\n",
      "133/137 [============================>.] - ETA: 0s - loss: 0.4331 - mse: 0.1811"
     ]
    },
    {
     "name": "stderr",
     "output_type": "stream",
     "text": [
      "\u001b[34m\u001b[1mwandb\u001b[0m: Adding directory to artifact (/content/wandb/run-20220824_054925-2534rsdl/files/model-best)... Done. 0.5s\n"
     ]
    },
    {
     "name": "stdout",
     "output_type": "stream",
     "text": [
      "137/137 [==============================] - 5s 33ms/step - loss: 0.4338 - mse: 0.1819 - val_loss: 0.4619 - val_mse: 0.2132\n",
      "Epoch 214/250\n",
      "133/137 [============================>.] - ETA: 0s - loss: 0.4269 - mse: 0.1811"
     ]
    },
    {
     "name": "stderr",
     "output_type": "stream",
     "text": [
      "\u001b[34m\u001b[1mwandb\u001b[0m: Adding directory to artifact (/content/wandb/run-20220824_054925-2534rsdl/files/model-best)... Done. 0.6s\n"
     ]
    },
    {
     "name": "stdout",
     "output_type": "stream",
     "text": [
      "137/137 [==============================] - 5s 36ms/step - loss: 0.4271 - mse: 0.1814 - val_loss: 0.4571 - val_mse: 0.2145\n",
      "Epoch 215/250\n",
      "136/137 [============================>.] - ETA: 0s - loss: 0.4202 - mse: 0.1805"
     ]
    },
    {
     "name": "stderr",
     "output_type": "stream",
     "text": [
      "\u001b[34m\u001b[1mwandb\u001b[0m: Adding directory to artifact (/content/wandb/run-20220824_054925-2534rsdl/files/model-best)... Done. 0.6s\n"
     ]
    },
    {
     "name": "stdout",
     "output_type": "stream",
     "text": [
      "137/137 [==============================] - 5s 39ms/step - loss: 0.4200 - mse: 0.1804 - val_loss: 0.4488 - val_mse: 0.2121\n",
      "Epoch 216/250\n",
      "134/137 [============================>.] - ETA: 0s - loss: 0.4133 - mse: 0.1795"
     ]
    },
    {
     "name": "stderr",
     "output_type": "stream",
     "text": [
      "\u001b[34m\u001b[1mwandb\u001b[0m: Adding directory to artifact (/content/wandb/run-20220824_054925-2534rsdl/files/model-best)... Done. 0.6s\n"
     ]
    },
    {
     "name": "stdout",
     "output_type": "stream",
     "text": [
      "137/137 [==============================] - 5s 34ms/step - loss: 0.4134 - mse: 0.1797 - val_loss: 0.4426 - val_mse: 0.2118\n",
      "Epoch 217/250\n",
      "135/137 [============================>.] - ETA: 0s - loss: 0.4070 - mse: 0.1790"
     ]
    },
    {
     "name": "stderr",
     "output_type": "stream",
     "text": [
      "\u001b[34m\u001b[1mwandb\u001b[0m: Adding directory to artifact (/content/wandb/run-20220824_054925-2534rsdl/files/model-best)... Done. 0.4s\n"
     ]
    },
    {
     "name": "stdout",
     "output_type": "stream",
     "text": [
      "137/137 [==============================] - 5s 35ms/step - loss: 0.4072 - mse: 0.1792 - val_loss: 0.4368 - val_mse: 0.2117\n",
      "Epoch 218/250\n",
      "136/137 [============================>.] - ETA: 0s - loss: 0.4010 - mse: 0.1786"
     ]
    },
    {
     "name": "stderr",
     "output_type": "stream",
     "text": [
      "\u001b[34m\u001b[1mwandb\u001b[0m: Adding directory to artifact (/content/wandb/run-20220824_054925-2534rsdl/files/model-best)... Done. 0.6s\n"
     ]
    },
    {
     "name": "stdout",
     "output_type": "stream",
     "text": [
      "137/137 [==============================] - 5s 34ms/step - loss: 0.4009 - mse: 0.1785 - val_loss: 0.4310 - val_mse: 0.2114\n",
      "Epoch 219/250\n",
      "133/137 [============================>.] - ETA: 0s - loss: 0.3952 - mse: 0.1782"
     ]
    },
    {
     "name": "stderr",
     "output_type": "stream",
     "text": [
      "\u001b[34m\u001b[1mwandb\u001b[0m: Adding directory to artifact (/content/wandb/run-20220824_054925-2534rsdl/files/model-best)... Done. 0.6s\n"
     ]
    },
    {
     "name": "stdout",
     "output_type": "stream",
     "text": [
      "137/137 [==============================] - 5s 34ms/step - loss: 0.3952 - mse: 0.1783 - val_loss: 0.4262 - val_mse: 0.2119\n",
      "Epoch 220/250\n",
      "132/137 [===========================>..] - ETA: 0s - loss: 0.3896 - mse: 0.1779"
     ]
    },
    {
     "name": "stderr",
     "output_type": "stream",
     "text": [
      "\u001b[34m\u001b[1mwandb\u001b[0m: Adding directory to artifact (/content/wandb/run-20220824_054925-2534rsdl/files/model-best)... Done. 0.6s\n"
     ]
    },
    {
     "name": "stdout",
     "output_type": "stream",
     "text": [
      "137/137 [==============================] - 5s 36ms/step - loss: 0.3888 - mse: 0.1771 - val_loss: 0.4203 - val_mse: 0.2113\n",
      "Epoch 221/250\n",
      "133/137 [============================>.] - ETA: 0s - loss: 0.3830 - mse: 0.1764"
     ]
    },
    {
     "name": "stderr",
     "output_type": "stream",
     "text": [
      "\u001b[34m\u001b[1mwandb\u001b[0m: Adding directory to artifact (/content/wandb/run-20220824_054925-2534rsdl/files/model-best)... Done. 0.6s\n"
     ]
    },
    {
     "name": "stdout",
     "output_type": "stream",
     "text": [
      "137/137 [==============================] - 5s 38ms/step - loss: 0.3835 - mse: 0.1770 - val_loss: 0.4150 - val_mse: 0.2111\n",
      "Epoch 222/250\n",
      "135/137 [============================>.] - ETA: 0s - loss: 0.3770 - mse: 0.1755"
     ]
    },
    {
     "name": "stderr",
     "output_type": "stream",
     "text": [
      "\u001b[34m\u001b[1mwandb\u001b[0m: Adding directory to artifact (/content/wandb/run-20220824_054925-2534rsdl/files/model-best)... Done. 0.6s\n"
     ]
    },
    {
     "name": "stdout",
     "output_type": "stream",
     "text": [
      "137/137 [==============================] - 5s 34ms/step - loss: 0.3774 - mse: 0.1759 - val_loss: 0.4104 - val_mse: 0.2114\n",
      "Epoch 223/250\n",
      "137/137 [==============================] - ETA: 0s - loss: 0.3717 - mse: 0.1751"
     ]
    },
    {
     "name": "stderr",
     "output_type": "stream",
     "text": [
      "\u001b[34m\u001b[1mwandb\u001b[0m: Adding directory to artifact (/content/wandb/run-20220824_054925-2534rsdl/files/model-best)... Done. 0.6s\n"
     ]
    },
    {
     "name": "stdout",
     "output_type": "stream",
     "text": [
      "137/137 [==============================] - 5s 37ms/step - loss: 0.3717 - mse: 0.1751 - val_loss: 0.4051 - val_mse: 0.2109\n",
      "Epoch 224/250\n",
      "135/137 [============================>.] - ETA: 0s - loss: 0.3684 - mse: 0.1765"
     ]
    },
    {
     "name": "stderr",
     "output_type": "stream",
     "text": [
      "\u001b[34m\u001b[1mwandb\u001b[0m: Adding directory to artifact (/content/wandb/run-20220824_054925-2534rsdl/files/model-best)... Done. 0.6s\n"
     ]
    },
    {
     "name": "stdout",
     "output_type": "stream",
     "text": [
      "137/137 [==============================] - 5s 35ms/step - loss: 0.3679 - mse: 0.1760 - val_loss: 0.4011 - val_mse: 0.2117\n",
      "Epoch 225/250\n",
      "133/137 [============================>.] - ETA: 0s - loss: 0.3619 - mse: 0.1746"
     ]
    },
    {
     "name": "stderr",
     "output_type": "stream",
     "text": [
      "\u001b[34m\u001b[1mwandb\u001b[0m: Adding directory to artifact (/content/wandb/run-20220824_054925-2534rsdl/files/model-best)... Done. 0.6s\n"
     ]
    },
    {
     "name": "stdout",
     "output_type": "stream",
     "text": [
      "137/137 [==============================] - 5s 35ms/step - loss: 0.3614 - mse: 0.1742 - val_loss: 0.3955 - val_mse: 0.2106\n",
      "Epoch 226/250\n",
      "135/137 [============================>.] - ETA: 0s - loss: 0.3563 - mse: 0.1736"
     ]
    },
    {
     "name": "stderr",
     "output_type": "stream",
     "text": [
      "\u001b[34m\u001b[1mwandb\u001b[0m: Adding directory to artifact (/content/wandb/run-20220824_054925-2534rsdl/files/model-best)... Done. 0.6s\n"
     ]
    },
    {
     "name": "stdout",
     "output_type": "stream",
     "text": [
      "137/137 [==============================] - 5s 36ms/step - loss: 0.3563 - mse: 0.1735 - val_loss: 0.3917 - val_mse: 0.2112\n",
      "Epoch 227/250\n",
      "136/137 [============================>.] - ETA: 0s - loss: 0.3517 - mse: 0.1733"
     ]
    },
    {
     "name": "stderr",
     "output_type": "stream",
     "text": [
      "\u001b[34m\u001b[1mwandb\u001b[0m: Adding directory to artifact (/content/wandb/run-20220824_054925-2534rsdl/files/model-best)... Done. 0.6s\n"
     ]
    },
    {
     "name": "stdout",
     "output_type": "stream",
     "text": [
      "137/137 [==============================] - 5s 33ms/step - loss: 0.3518 - mse: 0.1734 - val_loss: 0.3872 - val_mse: 0.2110\n",
      "Epoch 228/250\n",
      "135/137 [============================>.] - ETA: 0s - loss: 0.3468 - mse: 0.1728"
     ]
    },
    {
     "name": "stderr",
     "output_type": "stream",
     "text": [
      "\u001b[34m\u001b[1mwandb\u001b[0m: Adding directory to artifact (/content/wandb/run-20220824_054925-2534rsdl/files/model-best)... Done. 0.6s\n"
     ]
    },
    {
     "name": "stdout",
     "output_type": "stream",
     "text": [
      "137/137 [==============================] - 5s 33ms/step - loss: 0.3466 - mse: 0.1725 - val_loss: 0.3828 - val_mse: 0.2108\n",
      "Epoch 229/250\n",
      "137/137 [==============================] - ETA: 0s - loss: 0.3420 - mse: 0.1721"
     ]
    },
    {
     "name": "stderr",
     "output_type": "stream",
     "text": [
      "\u001b[34m\u001b[1mwandb\u001b[0m: Adding directory to artifact (/content/wandb/run-20220824_054925-2534rsdl/files/model-best)... Done. 0.6s\n"
     ]
    },
    {
     "name": "stdout",
     "output_type": "stream",
     "text": [
      "137/137 [==============================] - 5s 36ms/step - loss: 0.3420 - mse: 0.1721 - val_loss: 0.3786 - val_mse: 0.2108\n",
      "Epoch 230/250\n",
      "136/137 [============================>.] - ETA: 0s - loss: 0.3369 - mse: 0.1710"
     ]
    },
    {
     "name": "stderr",
     "output_type": "stream",
     "text": [
      "\u001b[34m\u001b[1mwandb\u001b[0m: Adding directory to artifact (/content/wandb/run-20220824_054925-2534rsdl/files/model-best)... Done. 0.5s\n"
     ]
    },
    {
     "name": "stdout",
     "output_type": "stream",
     "text": [
      "137/137 [==============================] - 5s 39ms/step - loss: 0.3369 - mse: 0.1710 - val_loss: 0.3748 - val_mse: 0.2109\n",
      "Epoch 231/250\n",
      "135/137 [============================>.] - ETA: 0s - loss: 0.3331 - mse: 0.1711"
     ]
    },
    {
     "name": "stderr",
     "output_type": "stream",
     "text": [
      "\u001b[34m\u001b[1mwandb\u001b[0m: Adding directory to artifact (/content/wandb/run-20220824_054925-2534rsdl/files/model-best)... Done. 0.6s\n"
     ]
    },
    {
     "name": "stdout",
     "output_type": "stream",
     "text": [
      "137/137 [==============================] - 5s 34ms/step - loss: 0.3329 - mse: 0.1709 - val_loss: 0.3705 - val_mse: 0.2105\n",
      "Epoch 232/250\n",
      "137/137 [==============================] - ETA: 0s - loss: 0.3290 - mse: 0.1709"
     ]
    },
    {
     "name": "stderr",
     "output_type": "stream",
     "text": [
      "\u001b[34m\u001b[1mwandb\u001b[0m: Adding directory to artifact (/content/wandb/run-20220824_054925-2534rsdl/files/model-best)... Done. 0.6s\n"
     ]
    },
    {
     "name": "stdout",
     "output_type": "stream",
     "text": [
      "137/137 [==============================] - 5s 37ms/step - loss: 0.3290 - mse: 0.1709 - val_loss: 0.3666 - val_mse: 0.2104\n",
      "Epoch 233/250\n",
      "134/137 [============================>.] - ETA: 0s - loss: 0.3246 - mse: 0.1701"
     ]
    },
    {
     "name": "stderr",
     "output_type": "stream",
     "text": [
      "\u001b[34m\u001b[1mwandb\u001b[0m: Adding directory to artifact (/content/wandb/run-20220824_054925-2534rsdl/files/model-best)... Done. 0.6s\n"
     ]
    },
    {
     "name": "stdout",
     "output_type": "stream",
     "text": [
      "137/137 [==============================] - 5s 34ms/step - loss: 0.3247 - mse: 0.1703 - val_loss: 0.3627 - val_mse: 0.2101\n",
      "Epoch 234/250\n",
      "137/137 [==============================] - ETA: 0s - loss: 0.3209 - mse: 0.1701"
     ]
    },
    {
     "name": "stderr",
     "output_type": "stream",
     "text": [
      "\u001b[34m\u001b[1mwandb\u001b[0m: Adding directory to artifact (/content/wandb/run-20220824_054925-2534rsdl/files/model-best)... Done. 0.5s\n"
     ]
    },
    {
     "name": "stdout",
     "output_type": "stream",
     "text": [
      "137/137 [==============================] - 4s 32ms/step - loss: 0.3209 - mse: 0.1701 - val_loss: 0.3597 - val_mse: 0.2107\n",
      "Epoch 235/250\n",
      "133/137 [============================>.] - ETA: 0s - loss: 0.3158 - mse: 0.1685"
     ]
    },
    {
     "name": "stderr",
     "output_type": "stream",
     "text": [
      "\u001b[34m\u001b[1mwandb\u001b[0m: Adding directory to artifact (/content/wandb/run-20220824_054925-2534rsdl/files/model-best)... Done. 0.5s\n"
     ]
    },
    {
     "name": "stdout",
     "output_type": "stream",
     "text": [
      "137/137 [==============================] - 5s 35ms/step - loss: 0.3164 - mse: 0.1691 - val_loss: 0.3554 - val_mse: 0.2099\n",
      "Epoch 236/250\n",
      "137/137 [==============================] - ETA: 0s - loss: 0.3126 - mse: 0.1688"
     ]
    },
    {
     "name": "stderr",
     "output_type": "stream",
     "text": [
      "\u001b[34m\u001b[1mwandb\u001b[0m: Adding directory to artifact (/content/wandb/run-20220824_054925-2534rsdl/files/model-best)... Done. 0.6s\n"
     ]
    },
    {
     "name": "stdout",
     "output_type": "stream",
     "text": [
      "137/137 [==============================] - 5s 34ms/step - loss: 0.3126 - mse: 0.1688 - val_loss: 0.3524 - val_mse: 0.2102\n",
      "Epoch 237/250\n",
      "136/137 [============================>.] - ETA: 0s - loss: 0.3086 - mse: 0.1681"
     ]
    },
    {
     "name": "stderr",
     "output_type": "stream",
     "text": [
      "\u001b[34m\u001b[1mwandb\u001b[0m: Adding directory to artifact (/content/wandb/run-20220824_054925-2534rsdl/files/model-best)... Done. 0.6s\n"
     ]
    },
    {
     "name": "stdout",
     "output_type": "stream",
     "text": [
      "137/137 [==============================] - 5s 34ms/step - loss: 0.3084 - mse: 0.1679 - val_loss: 0.3487 - val_mse: 0.2098\n",
      "Epoch 238/250\n",
      "133/137 [============================>.] - ETA: 0s - loss: 0.3045 - mse: 0.1673"
     ]
    },
    {
     "name": "stderr",
     "output_type": "stream",
     "text": [
      "\u001b[34m\u001b[1mwandb\u001b[0m: Adding directory to artifact (/content/wandb/run-20220824_054925-2534rsdl/files/model-best)... Done. 0.5s\n"
     ]
    },
    {
     "name": "stdout",
     "output_type": "stream",
     "text": [
      "137/137 [==============================] - 5s 35ms/step - loss: 0.3049 - mse: 0.1677 - val_loss: 0.3460 - val_mse: 0.2103\n",
      "Epoch 239/250\n",
      "135/137 [============================>.] - ETA: 0s - loss: 0.3013 - mse: 0.1672"
     ]
    },
    {
     "name": "stderr",
     "output_type": "stream",
     "text": [
      "\u001b[34m\u001b[1mwandb\u001b[0m: Adding directory to artifact (/content/wandb/run-20220824_054925-2534rsdl/files/model-best)... Done. 0.6s\n"
     ]
    },
    {
     "name": "stdout",
     "output_type": "stream",
     "text": [
      "137/137 [==============================] - 5s 33ms/step - loss: 0.3011 - mse: 0.1670 - val_loss: 0.3423 - val_mse: 0.2098\n",
      "Epoch 240/250\n",
      "133/137 [============================>.] - ETA: 0s - loss: 0.2983 - mse: 0.1673"
     ]
    },
    {
     "name": "stderr",
     "output_type": "stream",
     "text": [
      "\u001b[34m\u001b[1mwandb\u001b[0m: Adding directory to artifact (/content/wandb/run-20220824_054925-2534rsdl/files/model-best)... Done. 0.5s\n"
     ]
    },
    {
     "name": "stdout",
     "output_type": "stream",
     "text": [
      "137/137 [==============================] - 4s 32ms/step - loss: 0.2978 - mse: 0.1668 - val_loss: 0.3392 - val_mse: 0.2097\n",
      "Epoch 241/250\n",
      "133/137 [============================>.] - ETA: 0s - loss: 0.2942 - mse: 0.1662"
     ]
    },
    {
     "name": "stderr",
     "output_type": "stream",
     "text": [
      "\u001b[34m\u001b[1mwandb\u001b[0m: Adding directory to artifact (/content/wandb/run-20220824_054925-2534rsdl/files/model-best)... Done. 0.6s\n"
     ]
    },
    {
     "name": "stdout",
     "output_type": "stream",
     "text": [
      "137/137 [==============================] - 5s 38ms/step - loss: 0.2943 - mse: 0.1664 - val_loss: 0.3367 - val_mse: 0.2102\n",
      "Epoch 242/250\n",
      "135/137 [============================>.] - ETA: 0s - loss: 0.2910 - mse: 0.1660"
     ]
    },
    {
     "name": "stderr",
     "output_type": "stream",
     "text": [
      "\u001b[34m\u001b[1mwandb\u001b[0m: Adding directory to artifact (/content/wandb/run-20220824_054925-2534rsdl/files/model-best)... Done. 0.6s\n"
     ]
    },
    {
     "name": "stdout",
     "output_type": "stream",
     "text": [
      "137/137 [==============================] - 5s 35ms/step - loss: 0.2908 - mse: 0.1657 - val_loss: 0.3338 - val_mse: 0.2102\n",
      "Epoch 243/250\n",
      "136/137 [============================>.] - ETA: 0s - loss: 0.2873 - mse: 0.1651"
     ]
    },
    {
     "name": "stderr",
     "output_type": "stream",
     "text": [
      "\u001b[34m\u001b[1mwandb\u001b[0m: Adding directory to artifact (/content/wandb/run-20220824_054925-2534rsdl/files/model-best)... Done. 0.6s\n"
     ]
    },
    {
     "name": "stdout",
     "output_type": "stream",
     "text": [
      "137/137 [==============================] - 5s 35ms/step - loss: 0.2874 - mse: 0.1652 - val_loss: 0.3313 - val_mse: 0.2105\n",
      "Epoch 244/250\n",
      "133/137 [============================>.] - ETA: 0s - loss: 0.2842 - mse: 0.1647"
     ]
    },
    {
     "name": "stderr",
     "output_type": "stream",
     "text": [
      "\u001b[34m\u001b[1mwandb\u001b[0m: Adding directory to artifact (/content/wandb/run-20220824_054925-2534rsdl/files/model-best)... Done. 0.6s\n"
     ]
    },
    {
     "name": "stdout",
     "output_type": "stream",
     "text": [
      "137/137 [==============================] - 5s 35ms/step - loss: 0.2841 - mse: 0.1647 - val_loss: 0.3281 - val_mse: 0.2101\n",
      "Epoch 245/250\n",
      "136/137 [============================>.] - ETA: 0s - loss: 0.2818 - mse: 0.1650"
     ]
    },
    {
     "name": "stderr",
     "output_type": "stream",
     "text": [
      "\u001b[34m\u001b[1mwandb\u001b[0m: Adding directory to artifact (/content/wandb/run-20220824_054925-2534rsdl/files/model-best)... Done. 0.6s\n"
     ]
    },
    {
     "name": "stdout",
     "output_type": "stream",
     "text": [
      "137/137 [==============================] - 5s 38ms/step - loss: 0.2817 - mse: 0.1649 - val_loss: 0.3253 - val_mse: 0.2099\n",
      "Epoch 246/250\n",
      "137/137 [==============================] - ETA: 0s - loss: 0.2786 - mse: 0.1644"
     ]
    },
    {
     "name": "stderr",
     "output_type": "stream",
     "text": [
      "\u001b[34m\u001b[1mwandb\u001b[0m: Adding directory to artifact (/content/wandb/run-20220824_054925-2534rsdl/files/model-best)... Done. 0.6s\n"
     ]
    },
    {
     "name": "stdout",
     "output_type": "stream",
     "text": [
      "137/137 [==============================] - 5s 34ms/step - loss: 0.2786 - mse: 0.1644 - val_loss: 0.3237 - val_mse: 0.2109\n",
      "Epoch 247/250\n",
      "134/137 [============================>.] - ETA: 0s - loss: 0.2753 - mse: 0.1637"
     ]
    },
    {
     "name": "stderr",
     "output_type": "stream",
     "text": [
      "\u001b[34m\u001b[1mwandb\u001b[0m: Adding directory to artifact (/content/wandb/run-20220824_054925-2534rsdl/files/model-best)... Done. 0.6s\n"
     ]
    },
    {
     "name": "stdout",
     "output_type": "stream",
     "text": [
      "137/137 [==============================] - 5s 37ms/step - loss: 0.2755 - mse: 0.1640 - val_loss: 0.3201 - val_mse: 0.2098\n",
      "Epoch 248/250\n",
      "135/137 [============================>.] - ETA: 0s - loss: 0.2728 - mse: 0.1637"
     ]
    },
    {
     "name": "stderr",
     "output_type": "stream",
     "text": [
      "\u001b[34m\u001b[1mwandb\u001b[0m: Adding directory to artifact (/content/wandb/run-20220824_054925-2534rsdl/files/model-best)... Done. 0.6s\n"
     ]
    },
    {
     "name": "stdout",
     "output_type": "stream",
     "text": [
      "137/137 [==============================] - 5s 34ms/step - loss: 0.2726 - mse: 0.1635 - val_loss: 0.3177 - val_mse: 0.2098\n",
      "Epoch 249/250\n",
      "133/137 [============================>.] - ETA: 0s - loss: 0.2707 - mse: 0.1640"
     ]
    },
    {
     "name": "stderr",
     "output_type": "stream",
     "text": [
      "\u001b[34m\u001b[1mwandb\u001b[0m: Adding directory to artifact (/content/wandb/run-20220824_054925-2534rsdl/files/model-best)... Done. 0.6s\n"
     ]
    },
    {
     "name": "stdout",
     "output_type": "stream",
     "text": [
      "137/137 [==============================] - 5s 34ms/step - loss: 0.2697 - mse: 0.1630 - val_loss: 0.3156 - val_mse: 0.2101\n",
      "Epoch 250/250\n",
      "136/137 [============================>.] - ETA: 0s - loss: 0.2668 - mse: 0.1625"
     ]
    },
    {
     "name": "stderr",
     "output_type": "stream",
     "text": [
      "\u001b[34m\u001b[1mwandb\u001b[0m: Adding directory to artifact (/content/wandb/run-20220824_054925-2534rsdl/files/model-best)... Done. 0.5s\n"
     ]
    },
    {
     "name": "stdout",
     "output_type": "stream",
     "text": [
      "137/137 [==============================] - 5s 36ms/step - loss: 0.2667 - mse: 0.1624 - val_loss: 0.3140 - val_mse: 0.2108\n"
     ]
    }
   ],
   "source": [
    "result = model.fit(\n",
    "  x=[x_train_user,x_train_item,x_train_skin_type,x_train_skin_info,x_train_age_group,x_train_gender,x_train_category],\n",
    "  y=y_train,\n",
    "  epochs=config.epochs,\n",
    "  batch_size=512,\n",
    "  validation_data=(\n",
    "    [x_test_user,x_test_item,x_test_skin_type,x_test_skin_info,x_test_age_group,x_test_gender,x_test_category],\n",
    "    y_test),\n",
    "    callbacks=[WandbCallback()]\n",
    ")"
   ]
  },
  {
   "cell_type": "code",
   "execution_count": 66,
   "id": "e750adea-d53e-48e3-86fb-379885c38e15",
   "metadata": {
    "colab": {
     "base_uri": "https://localhost:8080/",
     "height": 279
    },
    "id": "e750adea-d53e-48e3-86fb-379885c38e15",
    "outputId": "9a59098c-41e3-46c7-f864-a64761b11c5c"
   },
   "outputs": [
    {
     "data": {
      "image/png": "[encoded data removed]",
      "text/plain": [
       "<Figure size 432x288 with 1 Axes>"
      ]
     },
     "metadata": {
      "needs_background": "light"
     },
     "output_type": "display_data"
    }
   ],
   "source": [
    "import matplotlib.pyplot as plt\n",
    "plt.plot(result.history['mse'], label=\"Train RMSE\")\n",
    "plt.plot(result.history['val_mse'], label=\"Test RMSE\")\n",
    "plt.xlabel('epoch')\n",
    "plt.ylabel('MSE')\n",
    "plt.legend()\n",
    "plt.show()"
   ]
  },
  {
   "cell_type": "code",
   "execution_count": 67,
   "id": "AezsTlXVDyZ7",
   "metadata": {
    "id": "AezsTlXVDyZ7"
   },
   "outputs": [],
   "source": [
    "model.save('./experiment_no_onehot_add_category_05.h5')"
   ]
  }
 ],
 "metadata": {
  "accelerator": "GPU",
  "colab": {
   "collapsed_sections": [],
   "name": "data_preprocessing_no_one_hot_5.ipynb",
   "provenance": []
  },
  "gpuClass": "standard",
  "kernelspec": {
   "display_name": "Python 3",
   "language": "python",
   "name": "python3"
  },
  "language_info": {
   "codemirror_mode": {
    "name": "ipython",
    "version": 3
   },
   "file_extension": ".py",
   "mimetype": "text/x-python",
   "name": "python",
   "nbconvert_exporter": "python",
   "pygments_lexer": "ipython3",
   "version": "3.8.8"
  },
  "widgets": {
   "application/vnd.jupyter.widget-state+json": {
    "205c0dab512b4921ba4cdf5b0f868adf": {
     "model_module": "@jupyter-widgets/base",
     "model_module_version": "1.2.0",
     "model_name": "LayoutModel",
     "state": {
      "_model_module": "@jupyter-widgets/base",
      "_model_module_version": "1.2.0",
      "_model_name": "LayoutModel",
      "_view_count": null,
      "_view_module": "@jupyter-widgets/base",
      "_view_module_version": "1.2.0",
      "_view_name": "LayoutView",
      "align_content": null,
      "align_items": null,
      "align_self": null,
      "border": null,
      "bottom": null,
      "display": null,
      "flex": null,
      "flex_flow": null,
      "grid_area": null,
      "grid_auto_columns": null,
      "grid_auto_flow": null,
      "grid_auto_rows": null,
      "grid_column": null,
      "grid_gap": null,
      "grid_row": null,
      "grid_template_areas": null,
      "grid_template_columns": null,
      "grid_template_rows": null,
      "height": null,
      "justify_content": null,
      "justify_items": null,
      "left": null,
      "margin": null,
      "max_height": null,
      "max_width": null,
      "min_height": null,
      "min_width": null,
      "object_fit": null,
      "object_position": null,
      "order": null,
      "overflow": null,
      "overflow_x": null,
      "overflow_y": null,
      "padding": null,
      "right": null,
      "top": null,
      "visibility": null,
      "width": null
     }
    },
    "3ad1caaf6b6747fd87a95ec130dd9160": {
     "model_module": "@jupyter-widgets/controls",
     "model_module_version": "1.5.0",
     "model_name": "FloatProgressModel",
     "state": {
      "_dom_classes": [],
      "_model_module": "@jupyter-widgets/controls",
      "_model_module_version": "1.5.0",
      "_model_name": "FloatProgressModel",
      "_view_count": null,
      "_view_module": "@jupyter-widgets/controls",
      "_view_module_version": "1.5.0",
      "_view_name": "ProgressView",
      "bar_style": "",
      "description": "",
      "description_tooltip": null,
      "layout": "IPY_MODEL_d4c0cfabe1174c338249413b840f618d",
      "max": 1,
      "min": 0,
      "orientation": "horizontal",
      "style": "IPY_MODEL_78e9a1abcd414bd19d7344efc6370db1",
      "value": 1
     }
    },
    "5913422544554e4a87ce791a28073135": {
     "model_module": "@jupyter-widgets/controls",
     "model_module_version": "1.5.0",
     "model_name": "VBoxModel",
     "state": {
      "_dom_classes": [],
      "_model_module": "@jupyter-widgets/controls",
      "_model_module_version": "1.5.0",
      "_model_name": "VBoxModel",
      "_view_count": null,
      "_view_module": "@jupyter-widgets/controls",
      "_view_module_version": "1.5.0",
      "_view_name": "VBoxView",
      "box_style": "",
      "children": [
       "IPY_MODEL_f8dec21cb8b142518c3562cc860b4fa6",
       "IPY_MODEL_3ad1caaf6b6747fd87a95ec130dd9160"
      ],
      "layout": "IPY_MODEL_205c0dab512b4921ba4cdf5b0f868adf"
     }
    },
    "665a699d438d40d8a34c78d2d9268152": {
     "model_module": "@jupyter-widgets/base",
     "model_module_version": "1.2.0",
     "model_name": "LayoutModel",
     "state": {
      "_model_module": "@jupyter-widgets/base",
      "_model_module_version": "1.2.0",
      "_model_name": "LayoutModel",
      "_view_count": null,
      "_view_module": "@jupyter-widgets/base",
      "_view_module_version": "1.2.0",
      "_view_name": "LayoutView",
      "align_content": null,
      "align_items": null,
      "align_self": null,
      "border": null,
      "bottom": null,
      "display": null,
      "flex": null,
      "flex_flow": null,
      "grid_area": null,
      "grid_auto_columns": null,
      "grid_auto_flow": null,
      "grid_auto_rows": null,
      "grid_column": null,
      "grid_gap": null,
      "grid_row": null,
      "grid_template_areas": null,
      "grid_template_columns": null,
      "grid_template_rows": null,
      "height": null,
      "justify_content": null,
      "justify_items": null,
      "left": null,
      "margin": null,
      "max_height": null,
      "max_width": null,
      "min_height": null,
      "min_width": null,
      "object_fit": null,
      "object_position": null,
      "order": null,
      "overflow": null,
      "overflow_x": null,
      "overflow_y": null,
      "padding": null,
      "right": null,
      "top": null,
      "visibility": null,
      "width": null
     }
    },
    "76834222bf8d4463a11f6558b99f19fd": {
     "model_module": "@jupyter-widgets/controls",
     "model_module_version": "1.5.0",
     "model_name": "DescriptionStyleModel",
     "state": {
      "_model_module": "@jupyter-widgets/controls",
      "_model_module_version": "1.5.0",
      "_model_name": "DescriptionStyleModel",
      "_view_count": null,
      "_view_module": "@jupyter-widgets/base",
      "_view_module_version": "1.2.0",
      "_view_name": "StyleView",
      "description_width": ""
     }
    },
    "78e9a1abcd414bd19d7344efc6370db1": {
     "model_module": "@jupyter-widgets/controls",
     "model_module_version": "1.5.0",
     "model_name": "ProgressStyleModel",
     "state": {
      "_model_module": "@jupyter-widgets/controls",
      "_model_module_version": "1.5.0",
      "_model_name": "ProgressStyleModel",
      "_view_count": null,
      "_view_module": "@jupyter-widgets/base",
      "_view_module_version": "1.2.0",
      "_view_name": "StyleView",
      "bar_color": null,
      "description_width": ""
     }
    },
    "d4c0cfabe1174c338249413b840f618d": {
     "model_module": "@jupyter-widgets/base",
     "model_module_version": "1.2.0",
     "model_name": "LayoutModel",
     "state": {
      "_model_module": "@jupyter-widgets/base",
      "_model_module_version": "1.2.0",
      "_model_name": "LayoutModel",
      "_view_count": null,
      "_view_module": "@jupyter-widgets/base",
      "_view_module_version": "1.2.0",
      "_view_name": "LayoutView",
      "align_content": null,
      "align_items": null,
      "align_self": null,
      "border": null,
      "bottom": null,
      "display": null,
      "flex": null,
      "flex_flow": null,
      "grid_area": null,
      "grid_auto_columns": null,
      "grid_auto_flow": null,
      "grid_auto_rows": null,
      "grid_column": null,
      "grid_gap": null,
      "grid_row": null,
      "grid_template_areas": null,
      "grid_template_columns": null,
      "grid_template_rows": null,
      "height": null,
      "justify_content": null,
      "justify_items": null,
      "left": null,
      "margin": null,
      "max_height": null,
      "max_width": null,
      "min_height": null,
      "min_width": null,
      "object_fit": null,
      "object_position": null,
      "order": null,
      "overflow": null,
      "overflow_x": null,
      "overflow_y": null,
      "padding": null,
      "right": null,
      "top": null,
      "visibility": null,
      "width": null
     }
    },
    "f8dec21cb8b142518c3562cc860b4fa6": {
     "model_module": "@jupyter-widgets/controls",
     "model_module_version": "1.5.0",
     "model_name": "LabelModel",
     "state": {
      "_dom_classes": [],
      "_model_module": "@jupyter-widgets/controls",
      "_model_module_version": "1.5.0",
      "_model_name": "LabelModel",
      "_view_count": null,
      "_view_module": "@jupyter-widgets/controls",
      "_view_module_version": "1.5.0",
      "_view_name": "LabelView",
      "description": "",
      "description_tooltip": null,
      "layout": "IPY_MODEL_665a699d438d40d8a34c78d2d9268152",
      "placeholder": "​",
      "style": "IPY_MODEL_76834222bf8d4463a11f6558b99f19fd",
      "value": "19107.103 MB of 19107.103 MB uploaded (0.098 MB deduped)\r"
     }
    }
   }
  }
 },
 "nbformat": 4,
 "nbformat_minor": 5
}
